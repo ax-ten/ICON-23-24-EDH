{
 "cells": [
  {
   "cell_type": "code",
   "execution_count": null,
   "metadata": {},
   "outputs": [],
   "source": [
    "def deck_to_vector(deck_id):   \n",
    "    v = [0]*len(all_card_names)\n",
    "    for i, name in enumerate(all_card_names):\n",
    "        for card_name in all_decks[deck_id]['cards']:\n",
    "            if card_name == name:\n",
    "                v[i]+=1\n",
    "    return v\n",
    "\n",
    "deck_vectors = [deck_to_vector(deck_id) for deck_id in all_decks]"
   ]
  },
  {
   "cell_type": "code",
   "execution_count": null,
   "metadata": {},
   "outputs": [],
   "source": [
    "def most_common_cards(deck, k):\n",
    "    deck.sort(key = lambda deck: deck[0], reverse=True)\n",
    "    return [card for card in deck[:k]]  \n",
    "\n",
    "def decks_by_label(a_label):\n",
    "    return [(deck, label) for (deck, label) in decks_labels if label == a_label]\n"
   ]
  },
  {
   "cell_type": "code",
   "execution_count": null,
   "metadata": {},
   "outputs": [
    {
     "data": {
      "image/png": "[encoded data removed]",
      "text/plain": [
       "<Figure size 640x480 with 1 Axes>"
      ]
     },
     "metadata": {},
     "output_type": "display_data"
    }
   ],
   "source": [
    "import dask_ml.cluster\n",
    "import seaborn as sns\n",
    "import matplotlib.pyplot as plt\n",
    "\n",
    "n_clusters = 6\n",
    "oversampling_factor = 7 \n",
    "\n",
    "km = dask_ml.cluster.KMeans(n_clusters=n_clusters, oversampling_factor=oversampling_factor)\n",
    "km.fit(deck_vectors)\n",
    "\n",
    "labels = list(km.labels_.compute()) #We call compute on it because it's lazy\n",
    "decks_labels = [(all_decks[deck_id]['cards'], label) for deck_id,label in list(zip(all_decks,labels))]\n",
    "#decks_labels = list(zip(all_decks,labels)) #Now we can pair each deck to its label.\n",
    "\n",
    "label_counts = [(label,len(decks_by_label(label))) for label in range(n_clusters)]\n",
    "counts = [count for _, count in label_counts]\n",
    "points = {\n",
    "    'cluster':[label for label, _ in label_counts],\n",
    "    'count':[count for _, count in label_counts],\n",
    "}\n",
    "\n",
    "sns.barplot(x=\"cluster\", y=\"count\", data=points).set_title(\"Decks by Cluster\")\n",
    "plt.savefig('figure 1')"
   ]
  },
  {
   "cell_type": "code",
   "execution_count": null,
   "metadata": {},
   "outputs": [],
   "source": [
    "clusters = km.predict(deck_vectors)\n",
    "deck_vectors.append(clusters)"
   ]
  },
  {
   "cell_type": "code",
   "execution_count": null,
   "metadata": {},
   "outputs": [],
   "source": [
    "import pandas as pd\n",
    "from sklearn.decomposition import PCA\n",
    "plotX = pd.DataFrame(np.array(deck_vectors))\n",
    "pca_1d = PCA(n_components = 1)\n",
    "pca_2d = PCA(n_components = 2)\n",
    "pca_3d = PCA(n_components = 3)"
   ]
  },
  {
   "cell_type": "code",
   "execution_count": null,
   "metadata": {},
   "outputs": [
    {
     "name": "stdout",
     "output_type": "stream",
     "text": [
      "Cluster number 0:\n",
      "{'Urborg, Tomb of Yawgmoth', 'Roaming Throne', 'Phyrexian Reclamation', 'Sol Ring', 'Sheoldred, the Apocalypse', 'Oathsworn Vampire', 'Smoldering Marsh', 'Welcoming Vampire', 'Swords to Plowshares', \"Patriarch's Bidding\", 'Phyrexian Arena', 'Rakish Heir', 'Swamp', 'Stensia Masquerade', 'Sorin of House Markov // Sorin, Ravenous Neonate', 'Shattered Sanctum', 'Patron of the Vein', 'Stromkirk Captain', 'Plateau', 'Vito, Thorn of the Dusk Rose', 'Scrubland', 'Nomad Outpost', 'Skullclamp', 'Sacred Foundry', 'Ruinous Ultimatum', 'Plains', \"Teferi's Protection\", \"Urza's Incubator\", 'Path to Exile', 'Olivia Voldaren', 'Sundown Pass', 'Sorin, Imperious Bloodlord', 'Vampiric Tutor', 'Sanctum Seeker', 'Savai Triome', 'Nighthawk Scavenger', \"Olivia's Wrath\", 'The Meathook Massacre', 'Village Rites', 'Orcish Bowmasters'}\n",
      "\n",
      "\n",
      "Cluster number 1:\n",
      "{'Gauntlet of Power', 'Highway Robbery', 'Thrill of Possibility', 'Spiteful Banditry', 'Gauntlet of Might', 'Seize the Spoils', 'Swiftfoot Boots', 'Rain of Riches', 'Pyretic Ritual', 'Leyline Tyrant', 'War Room', 'Wild Magic Surge', 'Strike It Rich', \"Witch's Clinic\", 'Return the Favor', 'Uncivil Unrest', 'Vandalblast', 'Unexpected Windfall', 'Throne of Eldraine', \"Rogue's Passage\", 'Mines of Moria', 'Tempting Contract', 'Seething Song', 'Irencrag Feat', 'Mana Geyser', \"Wyll's Reversal\", \"Pirate's Pillage\", 'Xorn', 'Mountain', 'Valakut Awakening // Valakut Stoneforge', 'Prosperous Bandit', 'Swashbuckler Extraordinaire', 'Professional Face-Breaker', 'Volatile Fault', 'Shatterskull Smashing // Shatterskull, the Hammer Pass', 'Strionic Resonator', 'Ragavan, Nimble Pilferer', 'Mithril Coat', \"Jeska's Will\", 'Unleash Fury'}\n",
      "\n",
      "\n",
      "Cluster number 2:\n",
      "{'Silence', 'Sol Ring', 'Swords to Plowshares', 'Sigil of the New Dawn', 'Sol Talisman', 'Tooth of Ramos', 'Sphere of Safety', 'Vexing Bauble', 'Sun Titan', 'Slobad, Goblin Tinkerer', 'Scrapyard Recombiner', 'Second Sunrise', 'Scrap Mastery', 'Thermopod', 'Reckless Fireweaver', 'Wrath of God', 'Reprieve', 'Scrap Trawler', \"Sevinne's Reclamation\", 'Talisman of Conviction', 'Skullclamp', 'Sunbeam Spellbomb', 'Solemn Simulacrum', 'Soul-Guide Lantern', 'Skyscanner', 'Wheel of Misfortune', \"Teshar, Ancestor's Apostle\", 'Windborn Muse', 'Salvaging Station', \"Sensei's Divining Top\", 'Salvager of Ruin', 'Vesperlark', 'Treasure Keeper', 'Wall of Omens', \"Urza's Bauble\", 'Sleeper Dart', 'Semblance Anvil', 'Recruiter of the Guard', 'Spare Supplies', \"Wayfarer's Bauble\"}\n",
      "\n",
      "\n",
      "Cluster number 3:\n",
      "{'Island', 'Soulherder', 'Mind Stone', 'Skycloud Expanse', 'Ondu Inversion // Ondu Skyruins', 'Loyal Inventor', 'Sol Ring', 'Swiftfoot Boots', 'Swords to Plowshares', 'Momentary Blink', 'Thought Vessel', 'Idyllic Beachfront', 'Panharmonicon', 'Tribute Mage', 'Virtue of Knowledge // Vantress Visions', 'Venser, the Sojourner', 'Teleportation Circle', 'Transmogrifying Wand', 'Moon-Blessed Cleric', 'Reliquary Tower', 'Lightning Greaves', 'Whirler Rogue', 'Temple of Enlightenment', 'Solemn Simulacrum', \"Nevinyrral's Disk\", 'The Eternal Wanderer', 'Plains', 'Sai, Master Thopterist', 'Mulldrifter', 'Thassa, Deep-Dwelling', 'Yorion, Sky Nomad', 'Port Town', 'Windbrisk Heights', 'Myr Welder', \"Lae'zel's Acrobatics\", 'Genku, Future Shaper', 'The Mightstone and Weakstone', 'Knight Paladin', 'Peregrine Drake', 'Omen Hawker'}\n",
      "\n",
      "\n",
      "Cluster number 4:\n",
      "{'Jeskai Sage', 'Pearl Lake Ancient', 'Jeskai Student', 'Era of Enlightenment // Hand of Enlightenment', 'Devout Monk', 'Mistral Singer', 'Jhessian Thief', 'Sol Ring', 'Lotus-Eye Mystics', \"Dragon's Eye Sentry\", 'Lotus Path Djinn', 'Ringwarden Owl', 'Riverwheel Aerialists', 'Kairi, the Swirling Sky', 'Orator of Ojutai', 'Jeskai Windscout', 'Niblis of Dusk', 'Pristine Skywise', 'Whirlwind Adept', 'Ojutai Monument', 'Dragon Bell Monk', 'Clockwork Dragon', 'Sage-Eye Avengers', 'Niblis of Frost', \"Jace's Sanctum\", 'Stormwing Entity', 'Dragonlord Ojutai', 'Monastery Mentor', 'Monastery Siege', 'Icingdeath, Frost Tyrant', \"Rune-Tail, Kitsune Ascendant // Rune-Tail's Essence\", 'Wing Commando', 'Mistfire Adept', 'Seeker of the Way', 'Ojutai Exemplars', 'Ojutai, Soul of Winter', 'Iymrith, Desert Doom', \"Dragon's Disciple\", 'Jeskai Elder', \"Stormchaser's Talent\"}\n",
      "\n",
      "\n",
      "Cluster number 5:\n",
      "{'Molten Gatekeeper', 'Ruby Medallion', 'Mind Stone', 'Warstorm Surge', 'Witty Roastmaster', 'Sol Ring', 'Tunneling Geopede', 'Rakdos Signet', \"Night's Whisper\", 'Sign in Blood', 'Smoldering Marsh', 'Swiftfoot Boots', 'Phyrexian Arena', 'Talisman of Indulgence', 'Squee, Dubious Monarch', 'Vandalblast', 'Temple of Malice', 'Shadowblood Ridge', 'Swamp', 'Spawn of Mayhem', 'Rakdos Carnarium', 'Thundering Raiju', 'Tainted Peak', 'Slicer, Hired Muscle // Slicer, High-Speed Antagonist', 'Siege-Gang Lieutenant', 'Vicious Conquistador', 'Mountain', 'Stormfist Crusader', 'Path of Ancestry', 'Mardu Shadowspear', 'Terminate', 'Tectonic Giant', 'Retreat to Hagra', 'Rising of the Day', 'Twilight Prophet', 'Pulse Tracker', 'Read the Bones', \"Tilonalli's Summoner\", 'Village Rites', 'Rakdos Charm'}\n",
      "\n",
      "\n"
     ]
    },
    {
     "ename": "IndexError",
     "evalue": "list index out of range",
     "output_type": "error",
     "traceback": [
      "\u001b[0;31m---------------------------------------------------------------------------\u001b[0m\n",
      "\u001b[0;31mIndexError\u001b[0m                                Traceback (most recent call last)\n",
      "Cell \u001b[0;32mIn[48], line 3\u001b[0m\n",
      "\u001b[1;32m      1\u001b[0m k \u001b[38;5;241m=\u001b[39m \u001b[38;5;241m40\u001b[39m\n",
      "\u001b[1;32m      2\u001b[0m \u001b[38;5;28;01mfor\u001b[39;00m LABEL \u001b[38;5;129;01min\u001b[39;00m \u001b[38;5;28mrange\u001b[39m(\u001b[38;5;241m8\u001b[39m):\n",
      "\u001b[0;32m----> 3\u001b[0m     label_set \u001b[38;5;241m=\u001b[39m \u001b[38;5;28mset\u001b[39m(most_common_cards(\u001b[43mdecks_by_label\u001b[49m\u001b[43m(\u001b[49m\u001b[43mLABEL\u001b[49m\u001b[43m)\u001b[49m\u001b[43m[\u001b[49m\u001b[38;5;241;43m0\u001b[39;49m\u001b[43m]\u001b[49m[\u001b[38;5;241m0\u001b[39m], k))\n",
      "\u001b[1;32m      4\u001b[0m     \u001b[38;5;28;01mfor\u001b[39;00m deck, label \u001b[38;5;129;01min\u001b[39;00m decks_by_label(LABEL):\n",
      "\u001b[1;32m      5\u001b[0m         label_set\u001b[38;5;241m.\u001b[39mintersection(\u001b[38;5;28mset\u001b[39m(most_common_cards(deck, k)))\n",
      "\n",
      "\u001b[0;31mIndexError\u001b[0m: list index out of range"
     ]
    }
   ],
   "source": [
    "k = 40\n",
    "for LABEL in range(8):\n",
    "    label_set = set(most_common_cards(decks_by_label(LABEL)[0][0], k))\n",
    "    for deck, label in decks_by_label(LABEL):\n",
    "        label_set.intersection(set(most_common_cards(deck, k)))\n",
    "    label_set = set(label_set)\n",
    "    print(\"Cluster number {}:\".format(LABEL))\n",
    "    print(label_set)\n",
    "    print(\"\\n\")"
   ]
  },
  {
   "cell_type": "code",
   "execution_count": null,
   "metadata": {},
   "outputs": [],
   "source": [
    "#returns the distribution of a card on the 8 clusters. \n",
    "# (e.g., a card appearing on decks of only one cluster will look like this [1,0,0,0,0,0,0,0]\n",
    "# one appearing equally on decks from two different clusters\n",
    "# like this [.5, 0, 0,.5, 0, 0, 0, 0] and so on).\n",
    "def apparition_ratio(a_card):\n",
    "    label_count = [0]*8\n",
    "    for deck, label in decks_labels:\n",
    "        if a_card in [card_name for _,card_name in deck]:\n",
    "            label_count[label]+=1\n",
    "    total_apps = sum(label_count)\n",
    "    return ([count/total_apps for count in label_count],total_apps)\n",
    "  \n",
    "import math \n",
    "\n",
    "#just good all square root of dot product.\n",
    "def distance(x,y):\n",
    "    dist = 0.0\n",
    "    for i, elem in enumerate(x):\n",
    "        dist+= (elem-y[i])*(elem-y[i])\n",
    "    return math.sqrt(dist)\n",
    "#returns the k cards whose apparition vectors are closest\n",
    "# (using Euclidian distance) to a given card.\n",
    "def closest_cards(a_card, k):\n",
    "    this_card = apparition_ratio(a_card)[0]\n",
    "    distances = []\n",
    "    for name in all_card_names:\n",
    "        dist = distance(apparition_ratio(name)[0],this_card)\n",
    "        distances.append((name, dist))\n",
    "    distances.sort(key = lambda x: x[1])\n",
    "    distances = [(name, dist) for name, dist in distances if name!=a_card]\n",
    "    return [name for name,_ in distances[:k] ]"
   ]
  }
 ],
 "metadata": {
  "language_info": {
   "name": "python"
  }
 },
 "nbformat": 4,
 "nbformat_minor": 2
}
