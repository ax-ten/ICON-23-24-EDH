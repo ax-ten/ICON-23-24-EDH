{
 "cells": [
  {
   "cell_type": "code",
   "execution_count": 1,
   "metadata": {},
   "outputs": [
    {
     "name": "stdout",
     "output_type": "stream",
     "text": [
      "Caricato il grimorio omnicomprensivo.\n",
      "asseriti fatti su 32407 carte su 32408.\r"
     ]
    }
   ],
   "source": [
    "from src.grimoire import Grimoire\n",
    "from pyswip import Prolog\n",
    "prolog = Prolog()\n",
    "g = Grimoire(omnicomprehensive=True)\n",
    "print(\"Caricato il grimorio omnicomprensivo.\")\n",
    "for i, card in enumerate(g):\n",
    "    print(f'asseriti fatti su {i} carte su {len(g)}.', end='\\r')\n",
    "    facts = card.to_facts()\n",
    "    for i, fact in enumerate(facts):\n",
    "        prolog.assertz(fact)\n",
    "    "
   ]
  },
  {
   "cell_type": "code",
   "execution_count": 2,
   "metadata": {},
   "outputs": [],
   "source": [
    "combat_rules = \"\"\"\n",
    "combat(A, B, DamageToPlayer) :-\n",
    "    first_strike_combat(A, B, AKeywords, BKeywords, APower, BPower, AToughness, BToughness),\n",
    "    calculate_damage(A, B, AKeywords, BKeywords, APower, BPower, AToughness, BToughness, DamageToPlayer).\n",
    "\n",
    "first_strike_combat(A, B, AKeywords, BKeywords, APower, BPower, AToughness, BToughness) :-\n",
    "    member('first strike', AKeywords),\n",
    "    inflict_damage(B, APower, BToughness),\n",
    "    member('first strike', BKeywords),\n",
    "    inflict_damage(A, BPower, AToughness).\n",
    "\n",
    "calculate_damage(A, B, AKeywords, BKeywords, APower, BPower, AToughness, BToughness, DamageToPlayer) :-\n",
    "    inflict_damage(A, BPower, AToughness),\n",
    "    inflict_damage(B, APower, BToughness),\n",
    "    member('trample', AKeywords),\n",
    "    RemainingDamage is APower - BToughness,\n",
    "    RemainingDamage > 0,\n",
    "    DamageToPlayer = RemainingDamage.\n",
    "\n",
    "inflict_damage(Creature, Power, Toughness) :-\n",
    "    creature(Creature, _, Toughness, Keywords),\n",
    "    member('indestructible', Keywords),\n",
    "    !.\n",
    "\n",
    "inflict_damage(Creature, Power, Toughness) :-\n",
    "    Toughness =< Power,\n",
    "    format('~w muore.~n', [Creature]).\n",
    "\n",
    "inflict_damage(_, _, _).\n",
    "\"\"\"\n",
    "\n",
    "# Aggiungi le regole a Prolog\n",
    "# prolog.assertz(combat_rules)"
   ]
  },
  {
   "cell_type": "code",
   "execution_count": 9,
   "metadata": {},
   "outputs": [
    {
     "name": "stdout",
     "output_type": "stream",
     "text": [
      "['Reach']\n",
      "(3, 3)\n"
     ]
    }
   ],
   "source": [
    "\n",
    "\n",
    "def get_keywords(card_name):\n",
    "    result = []\n",
    "    query = f\"keyword('{card_name}', Keyword)\"\n",
    "    for solution in prolog.query(query):\n",
    "        result.append(solution['Keyword'])\n",
    "    return result\n",
    "\n",
    "def get_power_toughness(card_name):\n",
    "    power = list(prolog.query(f\"power('{card_name}', Power)\"))[0]['Power']\n",
    "    toughness = list(prolog.query(f\"toughness('{card_name}', Toughness)\"))[0]['Toughness']\n",
    "    return power, toughness\n",
    "\n",
    "# Funzione per combattere e ottenere il risultato\n",
    "def fight(card1, card2):\n",
    "    \n",
    "    query = f\"combat('{card1}', '{card2}', DamageToPlayer)\"\n",
    "    result = list(prolog.query(query))\n",
    "\n",
    "    if result:\n",
    "        damage_to_player = result[0]['DamageToPlayer']\n",
    "        print(f\"Danni al giocatore: {damage_to_player}\")\n",
    "    else:\n",
    "        print(f\"Nessun danno passato al giocatore.\")\n",
    "\n",
    "# Combattimento tra due carte\n",
    "print(get_keywords(\"Kodama of the West Tree\"))\n",
    "print(get_power_toughness(\"Kodama of the West Tree\"))"
   ]
  },
  {
   "cell_type": "code",
   "execution_count": 4,
   "metadata": {},
   "outputs": [
    {
     "name": "stdout",
     "output_type": "stream",
     "text": [
      "Creature con power 2: []\n"
     ]
    }
   ],
   "source": [
    "def get_creatures_with_power(power_value):\n",
    "    result = []\n",
    "    query = f\"power(Creature, {power_value})\"\n",
    "    for solution in prolog.query(query):\n",
    "        result.append(solution['Creature'])\n",
    "    return result\n",
    "\n",
    "# Ottieni le creature con power uguale a 2\n",
    "creatures = get_creatures_with_power('2')\n",
    "print(\"Creature con power 2:\", creatures)"
   ]
  },
  {
   "cell_type": "raw",
   "metadata": {
    "vscode": {
     "languageId": "raw"
    }
   },
   "source": [
    "\n",
    "% Prima definisci le regole esistenti\n",
    "overpowers(A, B) :-\n",
    "    power(A, Power),\n",
    "    toughness(B, Toughness),\n",
    "    (Power > Toughness; has_deathtouch(A)).\n",
    "\n",
    "is_indestructible(Creature) :-\n",
    "    keyword(Creature, 'Indistructible').\n",
    "\n",
    "has_deathtouch(Creature) :-\n",
    "    keyword(Creature, 'Deathtouch').\n",
    "\n",
    "% Regola combinata\n",
    "would_kill(A, B) :-\n",
    "    overpowers(A, B),\n",
    "    \\+ is_indestructible(B).\n",
    "\n"
   ]
  }
 ],
 "metadata": {
  "kernelspec": {
   "display_name": "Python 3",
   "language": "python",
   "name": "python3"
  },
  "language_info": {
   "codemirror_mode": {
    "name": "ipython",
    "version": 3
   },
   "file_extension": ".py",
   "mimetype": "text/x-python",
   "name": "python",
   "nbconvert_exporter": "python",
   "pygments_lexer": "ipython3",
   "version": "3.10.12"
  }
 },
 "nbformat": 4,
 "nbformat_minor": 2
}
