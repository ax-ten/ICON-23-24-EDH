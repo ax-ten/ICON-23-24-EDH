{
 "cells": [
  {
   "cell_type": "code",
   "execution_count": 35,
   "metadata": {},
   "outputs": [],
   "source": [
    "import re\n",
    "from bs4 import BeautifulSoup\n",
    "\n",
    "pattern_key_ability = r'<li><b>702\\.\\d+\\.</b> <a href=\"/wiki/(\\w+)\"'\n",
    "patter_reminder = re.compile(r'<i>\\((.*?)\\)</i>')\n",
    "mtg_fandom_url = \"https://mtg.fandom.com/wiki/\"\n",
    "missing = []"
   ]
  },
  {
   "cell_type": "code",
   "execution_count": 37,
   "metadata": {},
   "outputs": [],
   "source": [
    "from bs4 import BeautifulSoup\n",
    "\n",
    "def extract_types(s):\n",
    "    types = re.findall(r'(\\w+)\\s*\\(.*?\\)', s)\n",
    "    if len(types) == 0:\n",
    "        return [s]\n",
    "    return types\n",
    "\n",
    "def ability_extraction(response_content, key_ability):\n",
    "    ability = {}\n",
    "    soup = BeautifulSoup(response_content, \"html.parser\")\n",
    "    ability[\"meaning\"] = \"mtg:\"+key_ability.lower()\n",
    "    try:\n",
    "        ability['description'] = soup.find('th', string='Reminder Text').find_next_sibling('td').text.replace(\"\\n\", \"\").replace(\"\\u2019\",\"\").replace(\"\\u2014\",\"\")\n",
    "        ability['types'] = extract_types(soup.find('th', string='Type').find_next_sibling('td').text.replace(\"\\n\", \"\"))\n",
    "        ability['written_as'], ability['description'] = ability['description'].split(\"(\",1)\n",
    "        ability['written_as'] = ability['written_as'].replace(\"\\n\", \"\").replace(\"  \", \"\")\n",
    "    except:\n",
    "        missing.append(key_ability)\n",
    "        return ability\n",
    "        \n",
    "    if key_ability in ability['description'] and \"only as a sorcery\" not in ability['description'] or key_ability ==\"Equip\":\n",
    "        try:\n",
    "            ability['description'], ability['alt_description'] = ability['description'].split(key_ability)\n",
    "            ability['alt_written_as'] , ability['alt_description'] =  ability['alt_description'].split('(')\n",
    "            ability['alt_written_as'] = key_ability + ability['alt_written_as']\n",
    "            ability['alt_description'].replace(')', \"\")\n",
    "        except:\n",
    "            missing.append(key_ability)\n",
    "            \n",
    "    #rimuovi la ) finale\n",
    "    ability['description'] = ability['description'][:-1]\n",
    "    return ability"
   ]
  },
  {
   "cell_type": "code",
   "execution_count": 38,
   "metadata": {},
   "outputs": [],
   "source": [
    "import requests, re, time\n",
    "abilities = {}\n",
    "\n",
    "response = requests.get(mtg_fandom_url+ \"Keyword_ability\")\n",
    "if response.status_code == 200:\n",
    "    key_ability_list = re.findall(pattern_key_ability, response.text)\n",
    "\n",
    "\n",
    "for key_ability in key_ability_list:\n",
    "    time.sleep(0.1)\n",
    "    try:\n",
    "        response = requests.get(mtg_fandom_url+key_ability)\n",
    "    except Exception as e:\n",
    "        print(e)\n",
    "        print(key_ability)\n",
    "    if response.status_code == 200:\n",
    "        abilities[key_ability] = ability_extraction(response.content, key_ability)\n",
    "        \n"
   ]
  },
  {
   "cell_type": "code",
   "execution_count": 23,
   "metadata": {},
   "outputs": [],
   "source": [
    "# Aggiungo le keywords mancanti o errate\n",
    "abilities[\"Miracle\"] ={ #Miracle\n",
    "        'written_as':\"Miracle\",\n",
    "        'description': \"You may reveal this card from your hand as you draw it if it’s the first card you’ve drawn this turn. When you reveal this card this way, you may cast it by paying [cost] rather than its mana cost\",\n",
    "        \"types\":['Static', 'Triggered']\n",
    "    }\n",
    "abilities[\"Visit\"] ={ #Visit\n",
    "        'written_as':\"Visit\",\n",
    "        'description': \"Whenever you roll to visit your Attractions, if the result is equal to a number that is lit up on this Attraction, [effect]\",\n",
    "        \"types\":['Triggered']\n",
    "    }\n",
    "abilities[\"Backup\"] ={ #Backup\n",
    "        'written_as':\"Backup N\",\n",
    "        'description': 'When this creature enters the battlefield, put N +1/+1 counters on target creature. If that\\’s another creature, it also gains the non-backup abilities of this creature printed below this one until end of turn.” Cards with backup have one or more abilities printed after the backup ability. (Some cards with backup also have abilities printed before the backup ability).',\n",
    "        \"types\":['Triggered']\n",
    "}\n",
    "abilities[\"Craft\"] = { #Craft\n",
    "        'written_as':\"Craft with [materials] [cost]\",\n",
    "        'description': \"[Cost], Exile this permanent, Exile [materials] from among permanents you control and/or cards in your graveyard: Return this card to the battlefield transformed under its owner’s control. Activate only as a sorcery\",\n",
    "        \"types\":['Activated']\n",
    "    }\n",
    "abilities[\"Disguise\"] = { #Disguise\n",
    "        'written_as':\"Disguise [cost]\",\n",
    "        'description': \"You may cast this card as a 2/2 face-down creature with ward {2}, no name, no subtypes, and no mana cost by paying {3} rather than paying its mana cost\",\n",
    "        \"types\":['Static']\n",
    "    }\n",
    "abilities[\"Banding\"] = { #Banding\n",
    "        'written_as':\"Banding [cost]\",\n",
    "        'description': \"Any creatures with banding, and up to one without, can attack in a band. Bands are blocked as a group. If any creatures with banding you control are blocking or being blocked by a creature, you divide that creature's combat damage, not its controller, among any of the creatures it's being blocked by or is blocking\",\n",
    "        \"types\":['Static'],\n",
    "        \"alt_description\" : '(Any [quality] creatures can attack in a band as long as at least one has \"bands with other [quality].\" Bands are blocked as a group. If at least two [quality] creatures you control, one of which has \"bands with other [quality],\" are blocking or being blocked by the same creature, you divide that creature\\'s combat damage, not its controller, among any of the creatures it\\'s being blocked by or is blocking.',\n",
    "        \"alt_written_as\" : \"Bands with other [quality]\"\n",
    "}\n"
   ]
  },
  {
   "cell_type": "code",
   "execution_count": 36,
   "metadata": {},
   "outputs": [],
   "source": [
    "#Esporto in Yaml\n",
    "import yaml\n",
    "updatedKeywords = {\"AbilityKeyword\": {\n",
    "    \"see_also\" : \"mtg:Keyword_ability\",\n",
    "    'description' : \"A passive ability represented by word that substitutes for a piece of rules text, such as deathtouch or flying.\",\n",
    "    'permissible_values' : abilities\n",
    "}}\n",
    "with open('keywords.yaml', 'w') as outfile:\n",
    "    yaml.dump(updatedKeywords, outfile, default_flow_style=False)"
   ]
  },
  {
   "cell_type": "code",
   "execution_count": null,
   "metadata": {},
   "outputs": [],
   "source": [
    "#Stampa anteprima:\n",
    "print(yaml.dump(updatedKeywords))"
   ]
  }
 ],
 "metadata": {
  "kernelspec": {
   "display_name": "Python 3",
   "language": "python",
   "name": "python3"
  },
  "language_info": {
   "codemirror_mode": {
    "name": "ipython",
    "version": 3
   },
   "file_extension": ".py",
   "mimetype": "text/x-python",
   "name": "python",
   "nbconvert_exporter": "python",
   "pygments_lexer": "ipython3",
   "version": "3.10.12"
  }
 },
 "nbformat": 4,
 "nbformat_minor": 2
}
