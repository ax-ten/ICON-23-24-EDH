{
 "cells": [
  {
   "cell_type": "code",
   "execution_count": 2,
   "metadata": {},
   "outputs": [],
   "source": [
    "import mtg_ontology, inspect, pprint\n",
    "from mtg_ontology import datamodel \n",
    "from linkml_runtime.loaders import yaml_loader\n",
    "from mtg_ontology.helpers import instance_to_graph\n",
    "from rdflib import Graph, Literal, RDF, URIRef, Namespace"
   ]
  },
  {
   "cell_type": "code",
   "execution_count": 36,
   "metadata": {},
   "outputs": [
    {
     "name": "stdout",
     "output_type": "stream",
     "text": [
      "NamedTemporaryFile\n",
      "instance_to_graph\n",
      "load_prefixmap\n",
      "load_schema\n",
      "load_schema_rdflib_graph\n"
     ]
    }
   ],
   "source": [
    "### Function Names\n",
    "for function_name, function in inspect.getmembers(mtg_ontology.helpers, inspect.isfunction):\n",
    "    print(function_name)"
   ]
  },
  {
   "cell_type": "code",
   "execution_count": 37,
   "metadata": {},
   "outputs": [
    {
     "name": "stdout",
     "output_type": "stream",
     "text": [
      "Ability\n",
      "AbilityCollection\n",
      "AbilityId\n",
      "AbilityKeyword\n",
      "Action\n",
      "ActionConstraint\n",
      "ActionSpecification\n",
      "ActionSpecificationId\n",
      "ActivatedAbility\n",
      "ActivatedAbilityId\n",
      "Any\n",
      "AnyArtifact\n",
      "AnyArtifactId\n",
      "AnyCreature\n",
      "AnyCreatureId\n",
      "AnyEnchantment\n",
      "AnyEnchantmentId\n",
      "Artifact\n",
      "ArtifactId\n",
      "ArtifactToken\n",
      "ArtifactTokenId\n",
      "Bool\n",
      "Boolean\n",
      "Card\n",
      "CardCollection\n",
      "CardId\n",
      "ClassVar\n",
      "Color\n",
      "Cost\n",
      "CostId\n",
      "Counter\n",
      "CounterId\n",
      "Creature\n",
      "CreatureId\n",
      "CreatureToken\n",
      "CreatureTokenId\n",
      "CurieNamespace\n",
      "DEFAULT_\n",
      "Dict\n",
      "EXAMPLE\n",
      "Enchantment\n",
      "EnchantmentId\n",
      "EnchantmentToken\n",
      "EnchantmentTokenId\n",
      "EnumDefinition\n",
      "EnumDefinitionImpl\n",
      "Instant\n",
      "InstantId\n",
      "Integer\n",
      "JsonObj\n",
      "KeywordCounter\n",
      "KeywordCounterId\n",
      "LINKML\n",
      "Land\n",
      "LandId\n",
      "LifeCost\n",
      "LifeCostId\n",
      "List\n",
      "MTG\n",
      "MTGO\n",
      "Mana\n",
      "ManaCost\n",
      "ManaCostId\n",
      "ManaId\n",
      "NamedThing\n",
      "NamedThingId\n",
      "Namespace\n",
      "Optional\n",
      "Permanent\n",
      "PermanentId\n",
      "PermissibleValue\n",
      "Player\n",
      "PowerToughnessCounter\n",
      "PowerToughnessCounterId\n",
      "PvFormulaOptions\n",
      "Rarity\n",
      "RuleStatement\n",
      "RuleStatementId\n",
      "SCHEMA\n",
      "SCRYFALL\n",
      "Slot\n",
      "Sorcery\n",
      "SorceryId\n",
      "Specification\n",
      "SpecificationId\n",
      "Spell\n",
      "SpellId\n",
      "StaticAbility\n",
      "StaticAbilityId\n",
      "String\n",
      "Thing\n",
      "ThingId\n",
      "TimeConstraint\n",
      "TimeSpecification\n",
      "TimeSpecificationId\n",
      "Token\n",
      "TokenId\n",
      "TriggeredAbility\n",
      "TriggeredAbilityId\n",
      "TurnPhase\n",
      "URIRef\n",
      "URIorCURIE\n",
      "Union\n",
      "Uriorcurie\n",
      "ValueConstraint\n",
      "ValueSpecification\n",
      "ValueSpecificationId\n",
      "YAMLRoot\n",
      "__builtins__\n",
      "__cached__\n",
      "__doc__\n",
      "__file__\n",
      "__loader__\n",
      "__name__\n",
      "__package__\n",
      "__path__\n",
      "__spec__\n",
      "as_dict\n",
      "bnode\n",
      "camelcase\n",
      "dataclass\n",
      "dataclasses\n",
      "dataclasses_init_fn_with_kwargs\n",
      "empty_dict\n",
      "empty_list\n",
      "extended_float\n",
      "extended_int\n",
      "extended_str\n",
      "metamodel_version\n",
      "mtg_ontology\n",
      "re\n",
      "sfx\n",
      "slots\n",
      "sys\n",
      "underscore\n",
      "version\n"
     ]
    }
   ],
   "source": [
    "## Data Classes\n",
    "for data_class, data in inspect.getmembers(mtg_ontology.datamodel):\n",
    "    print(data_class)\n"
   ]
  },
  {
   "cell_type": "code",
   "execution_count": 50,
   "metadata": {},
   "outputs": [
    {
     "data": {
      "text/plain": [
       "Artifact(id='https://scryfall.com/card/otc/251/academy-manufactor', name='Academy Manufactor', description=None, color=[(text='colorless', description='Absence of color.', meaning='https://mtg.fandom.com/wiki/colorless')], type_line='Artifact Creature - Assembly-Worker', card_type=['Artifact Creature'], mana_cost=[], converted_mana_cost=None, card_set=None, ability=[], artist=None, flavor_text=None, front_face=None, back_face=None, card_subtype=['Assembly-Worker'], card_supertype=[], rarity=(text='uncommon', description='The second lowest rarity level, identified by a silver set image.', meaning='https://mtg.fandom.com/wiki/uncommon'), oracle_text=None)"
      ]
     },
     "execution_count": 50,
     "metadata": {},
     "output_type": "execute_result"
    }
   ],
   "source": [
    "# Come definire una carta (artefatto)\n",
    "from mtg_ontology.datamodel import Artifact, Color, Rarity\n",
    "Artifact(\n",
    "    id=\"https://scryfall.com/card/otc/251/academy-manufactor\",\n",
    "    name=\"Academy Manufactor\",\n",
    "    color=Color.colorless,\n",
    "    type_line=\"Artifact Creature - Assembly-Worker\",\n",
    "    card_type=\"Artifact Creature\",\n",
    "    card_subtype=\"Assembly-Worker\",\n",
    "    rarity=Rarity.uncommon\n",
    ")"
   ]
  },
  {
   "cell_type": "code",
   "execution_count": 10,
   "metadata": {},
   "outputs": [
    {
     "name": "stdout",
     "output_type": "stream",
     "text": [
      "[\n",
      "    {\n",
      "        \"object\": \"card\",\n",
      "        \"id\": \"86bf43b1-8d4e-4759-bb2d-0b2e03ba7012\",\n",
      "        \"oracle_id\": \"0004ebd0-dfd6-4276-b4a6-de0003e94237\",\n",
      "        \"multiverse_ids\": [\n",
      "            15862\n",
      "        ],\n",
      "        \"mtgo_id\": 15870,\n",
      "        \"mtgo_foil_id\": 15871,\n",
      "        \"tcgplayer_id\": 3094,\n",
      "        \"cardmarket_id\": 3081,\n",
      "        \"name\": \"Static Orb\",\n",
      "        \"lang\": \"en\",\n",
      "        \"released_at\": \"2001-04-11\",\n",
      "        \"uri\": \"https://api.scryfall.com/cards/86bf43b1-8d4e-4759-bb2d-0b2e03ba7012\",\n",
      "        \"scryfall_uri\": \"https://scryfall.com/card/7ed/319/static-orb?utm_source=api\",\n",
      "        \"layout\": \"normal\",\n",
      "        \"highres_image\": true,\n",
      "        \"image_status\": \"highres_scan\",\n",
      "        \"image_uris\": {\n",
      "            \"small\": \"https://cards.scryfall.io/small/front/8/6/86bf43b1-8d4e-4759-bb2d-0b2e03ba7012.jpg?1562242171\",\n",
      "            \"normal\": \"https://cards.scryfall.io/normal/front/8/6/86bf43b1-8d4e-4759-bb2d-0b2e03ba7012.jpg?1562242171\",\n",
      "            \"large\": \"https://cards.scryfall.io/large/front/8/6/86bf43b1-8d4e-4759-bb2d-0b2e03ba7012.jpg?1562242171\",\n",
      "            \"png\": \"https://cards.scryfall.io/png/front/8/6/86bf43b1-8d4e-4759-bb2d-0b2e03ba7012.png?1562242171\",\n",
      "            \"art_crop\": \"https://cards.scryfall.io/art_crop/front/8/6/86bf43b1-8d4e-4759-bb2d-0b2e03ba7012.jpg?1562242171\",\n",
      "            \"border_crop\": \"https://cards.scryfall.io/border_crop/front/8/6/86bf43b1-8d4e-4759-bb2d-0b2e03ba7012.jpg?1562242171\"\n",
      "        },\n",
      "        \"mana_cost\": \"{3}\",\n",
      "        \"cmc\": 3.0,\n",
      "        \"type_line\": \"Artifact\",\n",
      "        \"oracle_text\": \"As long as Static Orb is untapped, players can't untap more than two permanents during their untap steps.\",\n",
      "        \"colors\": [],\n",
      "        \"color_identity\": [],\n",
      "        \"keywords\": [],\n",
      "        \"legalities\": {\n",
      "            \"standard\": \"not_legal\",\n",
      "            \"future\": \"not_legal\",\n",
      "            \"historic\": \"not_legal\",\n",
      "            \"timeless\": \"not_legal\",\n",
      "            \"gladiator\": \"not_legal\",\n",
      "            \"pioneer\": \"not_legal\",\n",
      "            \"explorer\": \"not_legal\",\n",
      "            \"modern\": \"not_legal\",\n",
      "            \"legacy\": \"legal\",\n",
      "            \"pauper\": \"not_legal\",\n",
      "            \"vintage\": \"legal\",\n",
      "            \"penny\": \"not_legal\",\n",
      "            \"commander\": \"legal\",\n",
      "            \"oathbreaker\": \"legal\",\n",
      "            \"standardbrawl\": \"not_legal\",\n",
      "            \"brawl\": \"not_legal\",\n",
      "            \"alchemy\": \"not_legal\",\n",
      "            \"paupercommander\": \"not_legal\",\n",
      "            \"duel\": \"legal\",\n",
      "            \"oldschool\": \"not_legal\",\n",
      "            \"premodern\": \"legal\",\n",
      "            \"predh\": \"legal\"\n",
      "        },\n",
      "        \"games\": [\n",
      "            \"paper\",\n",
      "            \"mtgo\"\n",
      "        ],\n",
      "        \"reserved\": false,\n",
      "        \"foil\": false,\n",
      "        \"nonfoil\": true,\n",
      "        \"finishes\": [\n",
      "            \"nonfoil\"\n",
      "        ],\n",
      "        \"oversized\": false,\n",
      "        \"promo\": false,\n",
      "        \"reprint\": true,\n",
      "        \"variation\": false,\n",
      "        \"set_id\": \"230f38aa-9511-4db8-a3aa-aeddbc3f7bb9\",\n",
      "        \"set\": \"7ed\",\n",
      "        \"set_name\": \"Seventh Edition\",\n",
      "        \"set_type\": \"core\",\n",
      "        \"set_uri\": \"https://api.scryfall.com/sets/230f38aa-9511-4db8-a3aa-aeddbc3f7bb9\",\n",
      "        \"set_search_uri\": \"https://api.scryfall.com/cards/search?order=set&q=e%3A7ed&unique=prints\",\n",
      "        \"scryfall_set_uri\": \"https://scryfall.com/sets/7ed?utm_source=api\",\n",
      "        \"rulings_uri\": \"https://api.scryfall.com/cards/86bf43b1-8d4e-4759-bb2d-0b2e03ba7012/rulings\",\n",
      "        \"prints_search_uri\": \"https://api.scryfall.com/cards/search?order=released&q=oracleid%3A0004ebd0-dfd6-4276-b4a6-de0003e94237&unique=prints\",\n",
      "        \"collector_number\": \"319\",\n",
      "        \"digital\": false,\n",
      "        \"rarity\": \"rare\",\n",
      "        \"flavor_text\": \"The warriors fought against the paralyzing waves until even their thoughts froze in place.\",\n",
      "        \"card_back_id\": \"0aeebaf5-8c7d-4636-9e82-8c27447861f7\",\n",
      "        \"artist\": \"Terese Nielsen\",\n",
      "        \"artist_ids\": [\n",
      "            \"eb55171c-2342-45f4-a503-2d5a75baf752\"\n",
      "        ],\n",
      "        \"illustration_id\": \"6f8b3b2c-252f-4f95-b621-712c82be38b5\",\n",
      "        \"border_color\": \"white\",\n",
      "        \"frame\": \"1997\",\n",
      "        \"full_art\": false,\n",
      "        \"textless\": false,\n",
      "        \"booster\": true,\n",
      "        \"story_spotlight\": false,\n",
      "        \"edhrec_rank\": 3943,\n",
      "        \"prices\": {\n",
      "            \"usd\": \"19.65\",\n",
      "            \"usd_foil\": null,\n",
      "            \"usd_etched\": null,\n",
      "            \"eur\": \"8.26\",\n",
      "            \"eur_foil\": null,\n",
      "            \"tix\": \"0.22\"\n",
      "        },\n",
      "        \"related_uris\": {\n",
      "            \"gatherer\": \"https://gatherer.wizards.com/Pages/Card/Details.aspx?multiverseid=15862&printed=false\",\n",
      "            \"tcgplayer_infinite_articles\": \"https://tcgplayer.pxf.io/c/4931599/1830156/21018?subId1=api&trafcat=infinite&u=https%3A%2F%2Finfinite.tcgplayer.com%2Fsearch%3FcontentMode%3Darticle%26game%3Dmagic%26partner%3Dscryfall%26q%3DStatic%2BOrb\",\n",
      "            \"tcgplayer_infinite_decks\": \"https://tcgplayer.pxf.io/c/4931599/1830156/21018?subId1=api&trafcat=infinite&u=https%3A%2F%2Finfinite.tcgplayer.com%2Fsearch%3FcontentMode%3Ddeck%26game%3Dmagic%26partner%3Dscryfall%26q%3DStatic%2BOrb\",\n",
      "            \"edhrec\": \"https://edhrec.com/route/?cc=Static+Orb\"\n",
      "        },\n",
      "        \"purchase_uris\": {\n",
      "            \"tcgplayer\": \"https://tcgplayer.pxf.io/c/4931599/1830156/21018?subId1=api&u=https%3A%2F%2Fwww.tcgplayer.com%2Fproduct%2F3094%3Fpage%3D1\",\n",
      "            \"cardmarket\": \"https://www.cardmarket.com/en/Magic/Products/Singles/Seventh-Edition/Static-Orb?referrer=scryfall&utm_campaign=card_prices&utm_medium=text&utm_source=scryfall\",\n",
      "            \"cardhoarder\": \"https://www.cardhoarder.com/cards/15870?affiliate_id=scryfall&ref=card-profile&utm_campaign=affiliate&utm_medium=card&utm_source=scryfall\"\n",
      "        }\n",
      "    }\n",
      "]\n"
     ]
    }
   ],
   "source": [
    "import json\n",
    "example = {\"object\":\"card\",\"id\":\"86bf43b1-8d4e-4759-bb2d-0b2e03ba7012\",\"oracle_id\":\"0004ebd0-dfd6-4276-b4a6-de0003e94237\",\"multiverse_ids\":[15862],\"mtgo_id\":15870,\"mtgo_foil_id\":15871,\"tcgplayer_id\":3094,\"cardmarket_id\":3081,\"name\":\"Static Orb\",\"lang\":\"en\",\"released_at\":\"2001-04-11\",\"uri\":\"https://api.scryfall.com/cards/86bf43b1-8d4e-4759-bb2d-0b2e03ba7012\",\"scryfall_uri\":\"https://scryfall.com/card/7ed/319/static-orb?utm_source=api\",\"layout\":\"normal\",\"highres_image\":True,\"image_status\":\"highres_scan\",\"image_uris\":{\"small\":\"https://cards.scryfall.io/small/front/8/6/86bf43b1-8d4e-4759-bb2d-0b2e03ba7012.jpg?1562242171\",\"normal\":\"https://cards.scryfall.io/normal/front/8/6/86bf43b1-8d4e-4759-bb2d-0b2e03ba7012.jpg?1562242171\",\"large\":\"https://cards.scryfall.io/large/front/8/6/86bf43b1-8d4e-4759-bb2d-0b2e03ba7012.jpg?1562242171\",\"png\":\"https://cards.scryfall.io/png/front/8/6/86bf43b1-8d4e-4759-bb2d-0b2e03ba7012.png?1562242171\",\"art_crop\":\"https://cards.scryfall.io/art_crop/front/8/6/86bf43b1-8d4e-4759-bb2d-0b2e03ba7012.jpg?1562242171\",\"border_crop\":\"https://cards.scryfall.io/border_crop/front/8/6/86bf43b1-8d4e-4759-bb2d-0b2e03ba7012.jpg?1562242171\"},\"mana_cost\":\"{3}\",\"cmc\":3.0,\"type_line\":\"Artifact\",\"oracle_text\":\"As long as Static Orb is untapped, players can't untap more than two permanents during their untap steps.\",\"colors\":[],\"color_identity\":[],\"keywords\":[],\"legalities\":{\"standard\":\"not_legal\",\"future\":\"not_legal\",\"historic\":\"not_legal\",\"timeless\":\"not_legal\",\"gladiator\":\"not_legal\",\"pioneer\":\"not_legal\",\"explorer\":\"not_legal\",\"modern\":\"not_legal\",\"legacy\":\"legal\",\"pauper\":\"not_legal\",\"vintage\":\"legal\",\"penny\":\"not_legal\",\"commander\":\"legal\",\"oathbreaker\":\"legal\",\"standardbrawl\":\"not_legal\",\"brawl\":\"not_legal\",\"alchemy\":\"not_legal\",\"paupercommander\":\"not_legal\",\"duel\":\"legal\",\"oldschool\":\"not_legal\",\"premodern\":\"legal\",\"predh\":\"legal\"},\"games\":[\"paper\",\"mtgo\"],\"reserved\":False,\"foil\":False,\"nonfoil\":True,\"finishes\":[\"nonfoil\"],\"oversized\":False,\"promo\":False,\"reprint\":True,\"variation\":False,\"set_id\":\"230f38aa-9511-4db8-a3aa-aeddbc3f7bb9\",\"set\":\"7ed\",\"set_name\":\"Seventh Edition\",\"set_type\":\"core\",\"set_uri\":\"https://api.scryfall.com/sets/230f38aa-9511-4db8-a3aa-aeddbc3f7bb9\",\"set_search_uri\":\"https://api.scryfall.com/cards/search?order=set&q=e%3A7ed&unique=prints\",\"scryfall_set_uri\":\"https://scryfall.com/sets/7ed?utm_source=api\",\"rulings_uri\":\"https://api.scryfall.com/cards/86bf43b1-8d4e-4759-bb2d-0b2e03ba7012/rulings\",\"prints_search_uri\":\"https://api.scryfall.com/cards/search?order=released&q=oracleid%3A0004ebd0-dfd6-4276-b4a6-de0003e94237&unique=prints\",\"collector_number\":\"319\",\"digital\":False,\"rarity\":\"rare\",\"flavor_text\":\"The warriors fought against the paralyzing waves until even their thoughts froze in place.\",\"card_back_id\":\"0aeebaf5-8c7d-4636-9e82-8c27447861f7\",\"artist\":\"Terese Nielsen\",\"artist_ids\":[\"eb55171c-2342-45f4-a503-2d5a75baf752\"],\"illustration_id\":\"6f8b3b2c-252f-4f95-b621-712c82be38b5\",\"border_color\":\"white\",\"frame\":\"1997\",\"full_art\":False,\"textless\":False,\"booster\":True,\"story_spotlight\":False,\"edhrec_rank\":3943,\"prices\":{\"usd\":\"19.65\",\"usd_foil\":None,\"usd_etched\":None,\"eur\":\"8.26\",\"eur_foil\":None,\"tix\":\"0.22\"},\"related_uris\":{\"gatherer\":\"https://gatherer.wizards.com/Pages/Card/Details.aspx?multiverseid=15862&printed=false\",\"tcgplayer_infinite_articles\":\"https://tcgplayer.pxf.io/c/4931599/1830156/21018?subId1=api&trafcat=infinite&u=https%3A%2F%2Finfinite.tcgplayer.com%2Fsearch%3FcontentMode%3Darticle%26game%3Dmagic%26partner%3Dscryfall%26q%3DStatic%2BOrb\",\"tcgplayer_infinite_decks\":\"https://tcgplayer.pxf.io/c/4931599/1830156/21018?subId1=api&trafcat=infinite&u=https%3A%2F%2Finfinite.tcgplayer.com%2Fsearch%3FcontentMode%3Ddeck%26game%3Dmagic%26partner%3Dscryfall%26q%3DStatic%2BOrb\",\"edhrec\":\"https://edhrec.com/route/?cc=Static+Orb\"},\"purchase_uris\":{\"tcgplayer\":\"https://tcgplayer.pxf.io/c/4931599/1830156/21018?subId1=api&u=https%3A%2F%2Fwww.tcgplayer.com%2Fproduct%2F3094%3Fpage%3D1\",\"cardmarket\":\"https://www.cardmarket.com/en/Magic/Products/Singles/Seventh-Edition/Static-Orb?referrer=scryfall&utm_campaign=card_prices&utm_medium=text&utm_source=scryfall\",\"cardhoarder\":\"https://www.cardhoarder.com/cards/15870?affiliate_id=scryfall&ref=card-profile&utm_campaign=affiliate&utm_medium=card&utm_source=scryfall\"}},\n",
    "print(json.dumps(example, indent=4))"
   ]
  },
  {
   "cell_type": "code",
   "execution_count": 12,
   "metadata": {},
   "outputs": [
    {
     "name": "stdout",
     "output_type": "stream",
     "text": [
      "0004ebd0-dfd6-4276-b4a6-de0003e94237\n"
     ]
    }
   ],
   "source": [
    "with open(\"oracle-cards-20240801210331.json\") as file:\n",
    "    oracle_cards = json.load(file)\n",
    "\n",
    "cards_by_oracleID = {}\n",
    "for card in oracle_cards:\n",
    "    cards_by_oracleID[card.pop(\"oracle_id\")] = card\n",
    "\n"
   ]
  },
  {
   "cell_type": "code",
   "execution_count": 14,
   "metadata": {},
   "outputs": [
    {
     "name": "stdout",
     "output_type": "stream",
     "text": [
      "('0004ebd0-dfd6-4276-b4a6-de0003e94237', {'object': 'card', 'id': '86bf43b1-8d4e-4759-bb2d-0b2e03ba7012', 'multiverse_ids': [15862], 'mtgo_id': 15870, 'mtgo_foil_id': 15871, 'tcgplayer_id': 3094, 'cardmarket_id': 3081, 'name': 'Static Orb', 'lang': 'en', 'released_at': '2001-04-11', 'uri': 'https://api.scryfall.com/cards/86bf43b1-8d4e-4759-bb2d-0b2e03ba7012', 'scryfall_uri': 'https://scryfall.com/card/7ed/319/static-orb?utm_source=api', 'layout': 'normal', 'highres_image': True, 'image_status': 'highres_scan', 'image_uris': {'small': 'https://cards.scryfall.io/small/front/8/6/86bf43b1-8d4e-4759-bb2d-0b2e03ba7012.jpg?1562242171', 'normal': 'https://cards.scryfall.io/normal/front/8/6/86bf43b1-8d4e-4759-bb2d-0b2e03ba7012.jpg?1562242171', 'large': 'https://cards.scryfall.io/large/front/8/6/86bf43b1-8d4e-4759-bb2d-0b2e03ba7012.jpg?1562242171', 'png': 'https://cards.scryfall.io/png/front/8/6/86bf43b1-8d4e-4759-bb2d-0b2e03ba7012.png?1562242171', 'art_crop': 'https://cards.scryfall.io/art_crop/front/8/6/86bf43b1-8d4e-4759-bb2d-0b2e03ba7012.jpg?1562242171', 'border_crop': 'https://cards.scryfall.io/border_crop/front/8/6/86bf43b1-8d4e-4759-bb2d-0b2e03ba7012.jpg?1562242171'}, 'mana_cost': '{3}', 'cmc': 3.0, 'type_line': 'Artifact', 'oracle_text': \"As long as Static Orb is untapped, players can't untap more than two permanents during their untap steps.\", 'colors': [], 'color_identity': [], 'keywords': [], 'legalities': {'standard': 'not_legal', 'future': 'not_legal', 'historic': 'not_legal', 'timeless': 'not_legal', 'gladiator': 'not_legal', 'pioneer': 'not_legal', 'explorer': 'not_legal', 'modern': 'not_legal', 'legacy': 'legal', 'pauper': 'not_legal', 'vintage': 'legal', 'penny': 'not_legal', 'commander': 'legal', 'oathbreaker': 'legal', 'standardbrawl': 'not_legal', 'brawl': 'not_legal', 'alchemy': 'not_legal', 'paupercommander': 'not_legal', 'duel': 'legal', 'oldschool': 'not_legal', 'premodern': 'legal', 'predh': 'legal'}, 'games': ['paper', 'mtgo'], 'reserved': False, 'foil': False, 'nonfoil': True, 'finishes': ['nonfoil'], 'oversized': False, 'promo': False, 'reprint': True, 'variation': False, 'set_id': '230f38aa-9511-4db8-a3aa-aeddbc3f7bb9', 'set': '7ed', 'set_name': 'Seventh Edition', 'set_type': 'core', 'set_uri': 'https://api.scryfall.com/sets/230f38aa-9511-4db8-a3aa-aeddbc3f7bb9', 'set_search_uri': 'https://api.scryfall.com/cards/search?order=set&q=e%3A7ed&unique=prints', 'scryfall_set_uri': 'https://scryfall.com/sets/7ed?utm_source=api', 'rulings_uri': 'https://api.scryfall.com/cards/86bf43b1-8d4e-4759-bb2d-0b2e03ba7012/rulings', 'prints_search_uri': 'https://api.scryfall.com/cards/search?order=released&q=oracleid%3A0004ebd0-dfd6-4276-b4a6-de0003e94237&unique=prints', 'collector_number': '319', 'digital': False, 'rarity': 'rare', 'flavor_text': 'The warriors fought against the paralyzing waves until even their thoughts froze in place.', 'card_back_id': '0aeebaf5-8c7d-4636-9e82-8c27447861f7', 'artist': 'Terese Nielsen', 'artist_ids': ['eb55171c-2342-45f4-a503-2d5a75baf752'], 'illustration_id': '6f8b3b2c-252f-4f95-b621-712c82be38b5', 'border_color': 'white', 'frame': '1997', 'full_art': False, 'textless': False, 'booster': True, 'story_spotlight': False, 'edhrec_rank': 3943, 'prices': {'usd': '19.65', 'usd_foil': None, 'usd_etched': None, 'eur': '8.26', 'eur_foil': None, 'tix': '0.22'}, 'related_uris': {'gatherer': 'https://gatherer.wizards.com/Pages/Card/Details.aspx?multiverseid=15862&printed=false', 'tcgplayer_infinite_articles': 'https://tcgplayer.pxf.io/c/4931599/1830156/21018?subId1=api&trafcat=infinite&u=https%3A%2F%2Finfinite.tcgplayer.com%2Fsearch%3FcontentMode%3Darticle%26game%3Dmagic%26partner%3Dscryfall%26q%3DStatic%2BOrb', 'tcgplayer_infinite_decks': 'https://tcgplayer.pxf.io/c/4931599/1830156/21018?subId1=api&trafcat=infinite&u=https%3A%2F%2Finfinite.tcgplayer.com%2Fsearch%3FcontentMode%3Ddeck%26game%3Dmagic%26partner%3Dscryfall%26q%3DStatic%2BOrb', 'edhrec': 'https://edhrec.com/route/?cc=Static+Orb'}, 'purchase_uris': {'tcgplayer': 'https://tcgplayer.pxf.io/c/4931599/1830156/21018?subId1=api&u=https%3A%2F%2Fwww.tcgplayer.com%2Fproduct%2F3094%3Fpage%3D1', 'cardmarket': 'https://www.cardmarket.com/en/Magic/Products/Singles/Seventh-Edition/Static-Orb?referrer=scryfall&utm_campaign=card_prices&utm_medium=text&utm_source=scryfall', 'cardhoarder': 'https://www.cardhoarder.com/cards/15870?affiliate_id=scryfall&ref=card-profile&utm_campaign=affiliate&utm_medium=card&utm_source=scryfall'}})\n"
     ]
    }
   ],
   "source": [
    "print(list(cards_by_oracleID.items())[0])"
   ]
  },
  {
   "cell_type": "code",
   "execution_count": null,
   "metadata": {},
   "outputs": [],
   "source": [
    "import mtg_ontology.datamodel\n",
    "def card_from_oracle(oracle_id) -> datamodel.Card :\n",
    "    \n",
    "    return None\n",
    "        "
   ]
  },
  {
   "cell_type": "code",
   "execution_count": 21,
   "metadata": {},
   "outputs": [
    {
     "name": "stdout",
     "output_type": "stream",
     "text": [
      "mtg ------> https://mtg.fandom.com/wiki/\n",
      "mtgo -----> https://cmdoret.net/mtg_ontology/\n",
      "linkml ---> https://w3id.org/linkml/\n",
      "schema ---> http://schema.org/\n",
      "example --> http://www.example.org/rdf#\n",
      "scryfall -> https://api.scryfall.com/cards/\n"
     ]
    }
   ],
   "source": [
    "## Prefissi\n",
    "for name, prefix in mtg_ontology.helpers.load_prefixmap().items():\n",
    "    print(f\"{name} {'-' * (8-len(name))}-> {prefix.prefix_reference}\")"
   ]
  },
  {
   "cell_type": "code",
   "execution_count": 3,
   "metadata": {},
   "outputs": [
    {
     "ename": "NameError",
     "evalue": "name 'g' is not defined",
     "output_type": "error",
     "traceback": [
      "\u001b[0;31m---------------------------------------------------------------------------\u001b[0m",
      "\u001b[0;31mNameError\u001b[0m                                 Traceback (most recent call last)",
      "Cell \u001b[0;32mIn[3], line 2\u001b[0m\n\u001b[1;32m      1\u001b[0m \u001b[38;5;66;03m# All triples in mtg_ontology.owl.tll\u001b[39;00m\n\u001b[0;32m----> 2\u001b[0m type_triple \u001b[38;5;241m=\u001b[39m [x \u001b[38;5;28;01mfor\u001b[39;00m x \u001b[38;5;129;01min\u001b[39;00m \u001b[43mg\u001b[49m\u001b[38;5;241m.\u001b[39mtriples((\u001b[38;5;28;01mNone\u001b[39;00m, RDF\u001b[38;5;241m.\u001b[39mtype, \u001b[38;5;28;01mNone\u001b[39;00m))]\n\u001b[1;32m      3\u001b[0m \u001b[38;5;28;01mfor\u001b[39;00m a \u001b[38;5;129;01min\u001b[39;00m type_triple:\n\u001b[1;32m      4\u001b[0m     \u001b[38;5;28mprint\u001b[39m(\u001b[38;5;124mf\u001b[39m\u001b[38;5;124m'\u001b[39m\u001b[38;5;124mSubj:\u001b[39m\u001b[38;5;132;01m{\u001b[39;00ma[\u001b[38;5;241m0\u001b[39m]\u001b[38;5;132;01m}\u001b[39;00m\u001b[38;5;124m \u001b[39m\u001b[38;5;132;01m{\u001b[39;00m\u001b[38;5;124m\"\u001b[39m\u001b[38;5;124m-\u001b[39m\u001b[38;5;124m\"\u001b[39m\u001b[38;5;250m \u001b[39m\u001b[38;5;241m*\u001b[39m\u001b[38;5;250m \u001b[39m(\u001b[38;5;241m60\u001b[39m\u001b[38;5;241m-\u001b[39m\u001b[38;5;28mlen\u001b[39m(a[\u001b[38;5;241m0\u001b[39m]))\u001b[38;5;132;01m}\u001b[39;00m\u001b[38;5;124m Pred:\u001b[39m\u001b[38;5;132;01m{\u001b[39;00ma[\u001b[38;5;241m1\u001b[39m]\u001b[38;5;132;01m}\u001b[39;00m\u001b[38;5;124m \u001b[39m\u001b[38;5;132;01m{\u001b[39;00m\u001b[38;5;124m\"\u001b[39m\u001b[38;5;124m-\u001b[39m\u001b[38;5;124m\"\u001b[39m\u001b[38;5;250m \u001b[39m\u001b[38;5;241m*\u001b[39m\u001b[38;5;250m \u001b[39m(\u001b[38;5;241m55\u001b[39m\u001b[38;5;241m-\u001b[39m\u001b[38;5;28mlen\u001b[39m(a[\u001b[38;5;241m1\u001b[39m]))\u001b[38;5;132;01m}\u001b[39;00m\u001b[38;5;124m Obj:\u001b[39m\u001b[38;5;132;01m{\u001b[39;00ma[\u001b[38;5;241m2\u001b[39m]\u001b[38;5;132;01m}\u001b[39;00m\u001b[38;5;124m'\u001b[39m)\n",
      "\u001b[0;31mNameError\u001b[0m: name 'g' is not defined"
     ]
    }
   ],
   "source": [
    "# All triples in mtg_ontology.owl.tll\n",
    "type_triple = [x for x in g.triples((None, RDF.type, None))]\n",
    "for a in type_triple:\n",
    "    print(f'Subj:{a[0]} {\"-\" * (60-len(a[0]))} Pred:{a[1]} {\"-\" * (55-len(a[1]))} Obj:{a[2]}')"
   ]
  },
  {
   "cell_type": "code",
   "execution_count": 4,
   "metadata": {},
   "outputs": [],
   "source": [
    "from linkml_runtime.loaders import yaml_loader\n",
    "from mtg_ontology.helpers import instance_to_graph \n",
    "from rdflib import Graph, URIRef, Namespace\n",
    "from owlready2 import get_ontology\n",
    "\n",
    "onto = get_ontology(\"mtg_ontology.owl.tll\")\n",
    "\n",
    "# Carica il file Turtle nel grafo RDF\n",
    "g = Graph()\n",
    "g.parse(\"mtg_ontology.owl.tll\", format=\"turtle\")\n",
    "\n",
    "# # Aggiungi il namespace al grafo\n",
    "# g.bind(\"mtgf\", MTGFandom)\n",
    "# g.bind(\"mtgo\", MTGO)\n",
    "# g.bind(\"owl\", OWL)\n",
    "\n",
    "# Funzione per creare URI per le istanze\n",
    "def rdf_uri(stringa):\n",
    "    rdf_syntax = \"http://www.w3.org/1999/02/22-rdf-syntax-ns\"\n",
    "    return URIRef(\"http://www.w3.org/1999/02/22-rdf-syntax-ns\"+stringa)"
   ]
  },
  {
   "cell_type": "code",
   "execution_count": 5,
   "metadata": {},
   "outputs": [],
   "source": [
    "# Namespaces\n",
    "from linkml_runtime.utils.curienamespace import CurieNamespace\n",
    "from rdflib import Namespace, URIRef\n",
    "EXAMPLE = CurieNamespace('example', 'http://www.example.org/rdf#')\n",
    "LINKML = CurieNamespace('linkml', 'https://w3id.org/linkml/')\n",
    "MTG = CurieNamespace('mtg', 'https://mtg.fandom.com/wiki/')\n",
    "MTGO = CurieNamespace('mtgo', 'https://cmdoret.net/mtg_ontology/')\n",
    "SCHEMA = CurieNamespace('schema', 'http://schema.org/')\n",
    "SCRYFALL = CurieNamespace('scryfall', 'https://api.scryfall.com/cards/')\n",
    "DEFAULT_ = MTGO"
   ]
  },
  {
   "cell_type": "code",
   "execution_count": 51,
   "metadata": {},
   "outputs": [],
   "source": [
    "# Link per i dati da cui popolare l'ontologia\n",
    "\n",
    "#143 MB  - JSON contenente un oggetto Carta per ORACLE ID su Scryfall\n",
    "oracle_data = \"https://data.scryfall.io/oracle-cards/oracle-cards-20240801210331.json\"\n",
    "\n",
    "#2.07 GB - JSON contenente tutti gli oggetti carta in ogni linguaggio su Scryfall\n",
    "bulk_data = \"https://data.scryfall.io/all-cards/all-cards-20240801213515.json\"\n",
    "\n",
    "#19.7 MB - JSON contenente tutte le Regole su Scryfall\n",
    "rule_data = \"https://data.scryfall.io/rulings/rulings-20240801210035.json\""
   ]
  },
  {
   "cell_type": "code",
   "execution_count": null,
   "metadata": {},
   "outputs": [],
   "source": [
    "\n"
   ]
  }
 ],
 "metadata": {
  "kernelspec": {
   "display_name": "Python 3",
   "language": "python",
   "name": "python3"
  },
  "language_info": {
   "codemirror_mode": {
    "name": "ipython",
    "version": 3
   },
   "file_extension": ".py",
   "mimetype": "text/x-python",
   "name": "python",
   "nbconvert_exporter": "python",
   "pygments_lexer": "ipython3",
   "version": "3.10.12"
  }
 },
 "nbformat": 4,
 "nbformat_minor": 2
}
