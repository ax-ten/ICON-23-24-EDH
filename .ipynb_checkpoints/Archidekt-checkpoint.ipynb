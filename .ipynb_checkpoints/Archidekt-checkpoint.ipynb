{
 "cells": [
  {
   "cell_type": "code",
   "execution_count": 1,
   "id": "db95b753-3dff-4925-b144-28f7051b0e8b",
   "metadata": {},
   "outputs": [],
   "source": [
    "import requests\n",
    "import time\n",
    "from bs4 import BeautifulSoup as bs\n",
    "import re\n",
    "\n",
    "# URL della richiesta GET\n",
    "url = ' https://archidekt.com/api/decks/'\n"
   ]
  },
  {
   "cell_type": "code",
   "execution_count": 2,
   "id": "e06530db-ca14-455c-b61d-f634864947d8",
   "metadata": {},
   "outputs": [],
   "source": [
    "# Regex per estrarre l'ID del mazzo e il nome del mazzo\n",
    "pattern = r'\"name\":\"([^\"]+)\".*?\"id\":(\\d+)'"
   ]
  },
  {
   "cell_type": "code",
   "execution_count": null,
   "id": "3365ff5b-df66-45c8-96c1-9d77e4fe4b36",
   "metadata": {},
   "outputs": [
    {
     "name": "stdout",
     "output_type": "stream",
     "text": [
      "Mazzi fino a pagina 0: 0\n",
      "Errore: 429\n",
      "Mazzi fino a pagina 1: 0\n",
      "Errore: 429\n",
      "Mazzi fino a pagina 2: 0\n"
     ]
    }
   ],
   "source": [
    "# Fare la richiesta GET\n",
    "all_decks = {}\n",
    "page =0\n",
    "\n",
    "while page < 300:\n",
    "    print(f'Mazzi fino a pagina {page}: {len(all_decks)}')\n",
    "    page+=1\n",
    "    params = {'pageSize': 100, 'formats':3, 'page':page} \n",
    "    response = requests.get(url,params=params)\n",
    "    \n",
    "    # Verifica dello stato della risposta\n",
    "    if response.status_code == 200:\n",
    "        # Trova tutte le corrispondenze univoche\n",
    "        matches = re.findall(pattern, response.text)\n",
    "        \n",
    "        # Crea il dizionario con ID e nome del mazzo\n",
    "        these_decks = {match[1]: match[0] for match in matches}\n",
    "        all_decks = {**these_decks, **all_decks}\n",
    "            \n",
    "    else:\n",
    "        print(f'Errore: {response.status_code}')\n",
    "        time.sleep(10)\n",
    "        page-=1\n",
    "    \n",
    "print(f'Totale mazzi ottenuti: {len(all_decks)}')"
   ]
  },
  {
   "cell_type": "code",
   "execution_count": null,
   "id": "46a65889-3b77-4e67-bc6a-bfb123cb0a5b",
   "metadata": {},
   "outputs": [],
   "source": [
    "i=0\n",
    "for key,value in all_decks.items():\n",
    "    i=i+1\n",
    "    print(f'{i} - {key}: {value}')"
   ]
  },
  {
   "cell_type": "code",
   "execution_count": null,
   "id": "4b7333d0-5128-4778-b8dc-2667f5b20abe",
   "metadata": {},
   "outputs": [],
   "source": []
  }
 ],
 "metadata": {
  "kernelspec": {
   "display_name": "Python 3 (ipykernel)",
   "language": "python",
   "name": "python3"
  },
  "language_info": {
   "codemirror_mode": {
    "name": "ipython",
    "version": 3
   },
   "file_extension": ".py",
   "mimetype": "text/x-python",
   "name": "python",
   "nbconvert_exporter": "python",
   "pygments_lexer": "ipython3",
   "version": "3.10.12"
  }
 },
 "nbformat": 4,
 "nbformat_minor": 5
}
