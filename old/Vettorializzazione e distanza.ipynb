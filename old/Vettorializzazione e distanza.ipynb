{
 "cells": [
  {
   "cell_type": "code",
   "execution_count": 1,
   "metadata": {},
   "outputs": [
    {
     "name": "stdout",
     "output_type": "stream",
     "text": [
      "Carico 112 mazzi per stubbaroni\n",
      "È gìà presente il file ./data/fetched/grimoire/stubbaroni.pkl, carico da quello\n"
     ]
    }
   ],
   "source": [
    "import src.grimoire as grimoire\n",
    "import src.decks as decks\n",
    "from src.by import By\n",
    "owner = \"stubbaroni\"\n",
    "\n",
    "decks.fetch(By.OWNER,owner)\n",
    "owner_grimoire = grimoire.fetch(By.OWNER, owner)\n",
    "owner_decks = decks.load(owner,By.OWNER)"
   ]
  },
  {
   "cell_type": "code",
   "execution_count": null,
   "metadata": {},
   "outputs": [],
   "source": [
    "from pprint import pprint\n",
    "colorsum = {'W': 0, 'U': 0, 'B': 0, 'R': 0, 'G': 0}\n",
    "for deck in owner_decks:\n",
    "    colorsum = {color:colorsum[color]+deck.colors[color] for color in colorsum.keys()}\n",
    "\n",
    "print(colorsum)"
   ]
  },
  {
   "cell_type": "code",
   "execution_count": null,
   "metadata": {},
   "outputs": [],
   "source": [
    "import numpy as np\n",
    "from sklearn.cluster import KMeans\n",
    "import matplotlib.pyplot as plt"
   ]
  },
  {
   "cell_type": "code",
   "execution_count": null,
   "metadata": {},
   "outputs": [],
   "source": [
    "\n",
    "\n",
    "deck_colors = [deck.colors for deck in owner_decks]\n",
    "X = np.array([[c['W'], c['U'], c['R'], c['B'], c['G']] for c in deck_colors])\n",
    "# Definiamo il numero di cluster (k). Possiamo settare k=3, ma puoi cambiarlo in base al tuo dataset\n",
    "k = 6\n",
    "\n",
    "# Applichiamo il clustering K-means\n",
    "kmeans = KMeans(n_clusters=k, random_state=42)\n",
    "kmeans.fit(X)\n",
    "\n",
    "# Otteniamo le etichette dei cluster\n",
    "labels = kmeans.labels_\n",
    "deck_clusters = {deck:labels[i] for i, deck in enumerate(owner_decks)}\n",
    "\n",
    "\n",
    "# Stampiamo i risultati\n",
    "for deck, cluster_label in deck_clusters.items():\n",
    "    if len(deck.commanders)>0:\n",
    "        print(f\"{cluster_label}  {' '.join([k+str(v)+' '*(2-len(str(v))) for k,v in deck.colors.items()])}  commander: {deck.commanders[0].name}{' '*(30-len(deck.commanders[0].name))} '{deck.name}' \")\n",
    "\n",
    "for deck, cluster_label in deck_clusters.items():\n",
    "    if len(deck.commanders)>0:\n",
    "        print(f\" \\n{cluster_label}:{deck.commanders[0]} : {deck.commanders[0].text}\")\n",
    "# Visualizzazione (opzionale se vuoi vedere i cluster in 2D)\n",
    "# Proiezione su due componenti principali (PCA) per visualizzare i cluster\n",
    "from sklearn.decomposition import PCA\n",
    "\n",
    "pca = PCA(n_components=2)\n",
    "X_pca = pca.fit_transform(X)\n",
    "\n",
    "plt.scatter(X_pca[:, 0], X_pca[:, 1], c=labels, cmap='viridis')\n",
    "plt.title(\"Clustering con K-means\")\n",
    "plt.xlabel(\"PCA Component 1\")\n",
    "plt.ylabel(\"PCA Component 2\")\n",
    "plt.show()"
   ]
  },
  {
   "cell_type": "code",
   "execution_count": null,
   "metadata": {},
   "outputs": [],
   "source": [
    "\n",
    "labelssum = {c:0 for c in range(k)}\n",
    "for label in deck_clusters.values():\n",
    "    labelssum[label] = labelssum[label]+1\n",
    "\n",
    "print(labelssum)"
   ]
  }
 ],
 "metadata": {
  "kernelspec": {
   "display_name": "Python 3",
   "language": "python",
   "name": "python3"
  },
  "language_info": {
   "codemirror_mode": {
    "name": "ipython",
    "version": 3
   },
   "file_extension": ".py",
   "mimetype": "text/x-python",
   "name": "python",
   "nbconvert_exporter": "python",
   "pygments_lexer": "ipython3",
   "version": "3.10.12"
  }
 },
 "nbformat": 4,
 "nbformat_minor": 2
}
