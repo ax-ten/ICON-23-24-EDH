{
 "cells": [
  {
   "cell_type": "code",
   "execution_count": 1,
   "metadata": {},
   "outputs": [],
   "source": [
    "import simple_term_menu\n",
    "import re, os, pickle, sys\n",
    "from card import Card\n",
    "from decks import Deck\n",
    "import decks, grimoire\n",
    "from by import By"
   ]
  },
  {
   "cell_type": "code",
   "execution_count": 2,
   "metadata": {},
   "outputs": [
    {
     "name": "stdout",
     "output_type": "stream",
     "text": [
      "Carico 112 mazzi per stubbaroni\n"
     ]
    },
    {
     "data": {
      "text/plain": [
       "57.77"
      ]
     },
     "execution_count": 2,
     "metadata": {},
     "output_type": "execute_result"
    }
   ],
   "source": [
    "ownerA = \"stubbaroni\"\n",
    "PATH = \"./data/fetched/\"\n",
    "\n",
    "#Ottieni tutti i mazzi di {owner}\n",
    "ownerA_decks = decks.fetch(By.OWNER,ownerA)\n",
    "decks.save(ownerA_decks, ownerA, By.OWNER)"
   ]
  },
  {
   "cell_type": "code",
   "execution_count": 3,
   "metadata": {},
   "outputs": [
    {
     "name": "stdout",
     "output_type": "stream",
     "text": [
      "È gìà presente il file ./data/fetched/grimoire/stubbaroni.pkl, carico da quello\n"
     ]
    }
   ],
   "source": [
    "#Esplora ogni mazzo, ottieni tutte le carte, poi ricarica i mazzi aggiornati\n",
    "ownerA_grimoire = grimoire.fetch(By.OWNER, ownerA)\n",
    "ownerA_decks = decks.load(ownerA)"
   ]
  },
  {
   "cell_type": "code",
   "execution_count": 4,
   "metadata": {},
   "outputs": [
    {
     "name": "stdout",
     "output_type": "stream",
     "text": [
      "Carico 300 mazzi per Rafiq of the Many\n",
      "Carico 1150 mazzi per The Howling Abomination\n",
      "Carico 300 mazzi per Darien, King of Kjeldor\n",
      "Carico 300 mazzi per Laelia, the Blade Reforged\n",
      "Carico 300 mazzi per Vishgraz, the Doomhive\n",
      "Carico 300 mazzi per Veyran, Voice of Duality\n",
      "Carico 196 mazzi per The Tarrasque\n",
      "Carico 300 mazzi per Octavia, Living Thesis\n",
      "Carico 300 mazzi per Esix, Fractal Bloom\n",
      "Carico 300 mazzi per Sovereign Okinec Ahau\n",
      "Carico 2789 mazzi per The Beamtown Bullies\n",
      "Carico 300 mazzi per Kenessos, Priest of Thassa\n",
      "Carico 300 mazzi per Yenna, Redtooth Regent\n",
      "Carico 300 mazzi per Rakdos, Lord of Riots\n",
      "Carico 300 mazzi per Gwafa Hazid, Profiteer\n",
      "Carico 2350 mazzi per Yargle and Multani\n",
      "Carico 300 mazzi per Fynn, the Fangbearer\n",
      "Carico 300 mazzi per Hazezon, Shaper of Sand\n",
      "Carico 300 mazzi per Svella, Ice Shaper\n",
      "Carico 300 mazzi per Gavi, Nest Warden\n",
      "Carico 300 mazzi per Numot, the Devastator\n",
      "Carico 1069 mazzi per Ian Malcolm, Chaotician\n",
      "Carico 201 mazzi per Illuminor Szeras\n",
      "Carico 300 mazzi per Flubs, the Fool\n",
      "Carico 300 mazzi per Ojer Axonil, Deepest Might // Temple of Power\n",
      "Carico 300 mazzi per Chulane, Teller of Tales\n",
      "Carico 300 mazzi per Zurzoth, Chaos Rider\n",
      "Carico 300 mazzi per Tekuthal, Inquiry Dominus\n",
      "Carico 300 mazzi per The Ancient One\n",
      "Carico 300 mazzi per K'rrik, Son of Yawgmoth\n",
      "Carico 138 mazzi per Akawalli, the Seething Tower\n",
      "Carico 300 mazzi per Gerrard, Weatherlight Hero\n",
      "Carico 28 mazzi per Irini Sengir\n",
      "Carico 300 mazzi per Pramikon, Sky Rampart\n",
      "Carico 300 mazzi per Zopandrel, Hunger Dominus\n",
      "Carico 300 mazzi per Greven, Predator Captain\n",
      "Carico 300 mazzi per Cayth, Famed Mechanist\n",
      "Carico 600 mazzi per Naban, Dean of Iteration\n",
      "Carico 600 mazzi per Olivia, Opulent Outlaw\n",
      "Carico 500 mazzi per Rankle, Master of Pranks\n",
      "Carico 300 mazzi per Lord Xander, the Collector\n",
      "Carico 300 mazzi per Skullbriar, the Walking Grave\n",
      "Carico 600 mazzi per Chishiro, the Shattered Blade\n",
      "Carico 300 mazzi per Alela, Artful Provocateur\n",
      "Carico 600 mazzi per Averna, the Chaos Bloom\n",
      "Carico 600 mazzi per Ezuri, Claw of Progress\n",
      "Carico 300 mazzi per Jaxis, the Troublemaker\n",
      "Carico 550 mazzi per Captain N'ghathrod\n",
      "Carico 300 mazzi per Zara, Renegade Recruiter\n",
      "Carico 300 mazzi per Prossh, Skyraider of Kher\n",
      "Carico 600 mazzi per Jodah, the Unifier\n",
      "Carico 600 mazzi per Marchesa, the Black Rose\n",
      "Carico 386 mazzi per Oji, the Exquisite Blade\n",
      "Carico 300 mazzi per Aurelia, the Law Above\n",
      "Carico 600 mazzi per Omnath, Locus of Mana\n",
      "Carico 975 mazzi per Taii Wakeen, Perfect Shot\n",
      "Carico 300 mazzi per Kambal, Profiteering Mayor\n",
      "Carico 4000 mazzi per Zedruu the Greathearted\n",
      "Carico 700 mazzi per Heartless Hidetsugu\n",
      "Carico 600 mazzi per Jegantha, the Wellspring\n",
      "Carico 300 mazzi per Toluz, Clever Conductor\n",
      "Carico 49 mazzi per Ian the Reckless\n",
      "Carico 22 mazzi per Borborygmos\n",
      "Carico 1750 mazzi per Borborygmos Enraged\n",
      "Carico 300 mazzi per Mizzix of the Izmagnus\n",
      "Carico 2700 mazzi per Neheb, the Eternal\n",
      "Carico 300 mazzi per Nekusar, the Mindrazer\n",
      "Carico 600 mazzi per Jhoira of the Ghitu\n",
      "Carico 1300 mazzi per Zo-Zu the Punisher\n",
      "Carico 600 mazzi per Kyler, Sigardian Emissary\n",
      "Carico 300 mazzi per Shirei, Shizo's Caretaker\n",
      "Carico 50 mazzi per Zurgo Bellstriker\n",
      "Carico 700 mazzi per Zurgo Helmsmasher\n",
      "Carico 300 mazzi per Graaz, Unstoppable Juggernaut\n",
      "Carico 300 mazzi per Grenzo, Havoc Raiser\n",
      "Carico 450 mazzi per Ognis, the Dragon's Lash\n",
      "Carico 419 mazzi per Wildsear, Scouring Maw\n",
      "Carico 300 mazzi per Malcator, Purity Overseer\n",
      "Carico 452 mazzi per Unctus, Grand Metatect\n",
      "Carico 300 mazzi per Braids, Conjurer Adept\n",
      "Carico 167 mazzi per Strong, the Brutish Thespian\n",
      "Carico 600 mazzi per Varragoth, Bloodsky Sire\n",
      "Carico 500 mazzi per Judith, Carnage Connoisseur\n",
      "Carico 600 mazzi per Vorel of the Hull Clade\n",
      "Carico 300 mazzi per Morska, Undersea Sleuth\n",
      "Carico 800 mazzi per Nikya of the Old Ways\n",
      "Carico 100 mazzi per Vaevictis Asmadi, the Dire\n",
      "Carico 1020 mazzi per The Pride of Hull Clade\n",
      "Carico 300 mazzi per Titania, Nature's Force\n",
      "Non riesco a trovare mazzi per Kami of the Crescent Moon???\n",
      "Salvati 600 mazzi in commanders/Kami of the Crescent Moon.pkl da Archidekt - 81.28 kB\n",
      "Carico 600 mazzi per Zhulodok, Void Gorger\n"
     ]
    }
   ],
   "source": [
    "#ottieni lista di commander di ownerA \n",
    "owner_commanders = decks.get_commanders(ownerA_decks)\n",
    "similar_owners = [] #Lista di username\n",
    "for commander in owner_commanders:\n",
    "    #Per ogni commander nella lista di commander di ownerA\n",
    "    #Ottieni la lista dei loro mazzi\n",
    "    similar_decks = decks.fetch(By.COMMANDER,commander.name)\n",
    "    for deck in set(similar_decks):\n",
    "        #E per ogni mazzo in questa lista, segna tutti coloro che hanno lo stesso\n",
    "        #commander di owner\n",
    "        try:\n",
    "            similar_owners.append(deck.owner)\n",
    "        except Exception as e:\n",
    "            print(f\"{e}: {deck}\")"
   ]
  },
  {
   "cell_type": "code",
   "execution_count": 5,
   "metadata": {},
   "outputs": [
    {
     "name": "stdout",
     "output_type": "stream",
     "text": [
      "Utenti con commander simili: 32148, ne esamineremo solo i primi 60\n",
      "Salvati 16 mazzi in owner/PrismaticMeteor.pkl da Archidekt - 2.19 kB\n",
      "Salvati 20 mazzi in owner/onehitmike.pkl da Archidekt - 2.44 kB\n",
      "Salvati 43 mazzi in owner/LavieLavie.pkl da Archidekt - 5.29 kB\n",
      "Salvati 8 mazzi in owner/Vicedaman.pkl da Archidekt - 1.0 kB\n",
      "Salvati 22 mazzi in owner/DrRockD.pkl da Archidekt - 2.69 kB\n",
      "Salvati 600 mazzi in owner/Iska.pkl da Archidekt - 76.2 kB\n",
      "Salvati 383 mazzi in owner/Gong.pkl da Archidekt - 45.59 kB\n",
      "Salvati 28 mazzi in owner/Tabes.pkl da Archidekt - 3.33 kB\n",
      "Salvati 51 mazzi in owner/Supatol.pkl da Archidekt - 6.18 kB\n",
      "Non riesco ad aggiungere altri mazzi, procedo oltre                \n",
      "Salvati 1 mazzi in owner/IHasName.pkl da Archidekt - 0.0 kB\n",
      "Salvati 57 mazzi in owner/ThanosTheOmnipotent.pkl da Archidekt - 7.53 kB\n",
      "Salvati 38 mazzi in owner/HolySentinel.pkl da Archidekt - 5.02 kB\n",
      "Salvati 21 mazzi in owner/greenSG14.pkl da Archidekt - 2.79 kB\n",
      "Salvati 16 mazzi in owner/pichaelT123.pkl da Archidekt - 4.37 kB\n",
      "Non riesco ad aggiungere altri mazzi, procedo oltre                \n",
      "Salvati 4 mazzi in owner/Pazukawa.pkl da Archidekt - 0.0 kB\n",
      "Salvati 28 mazzi in owner/rjdole48.pkl da Archidekt - 3.18 kB\n",
      "Salvati 32 mazzi in owner/NickNafein.pkl da Archidekt - 3.86 kB\n",
      "Salvati 13 mazzi in owner/Warpfall.pkl da Archidekt - 1.62 kB\n",
      "Salvati 2 mazzi in owner/Twosidedtriangle.pkl da Archidekt - 0.36 kB\n",
      "Salvati 9 mazzi in owner/Tylerdragonx.pkl da Archidekt - 1.71 kB\n",
      "Salvati 10 mazzi in owner/ghostkill221@gmail.com.pkl da Archidekt - 1.4 kB\n",
      "Salvati 5 mazzi in owner/Swooshman.pkl da Archidekt - 0.65 kB\n",
      "Salvati 31 mazzi in owner/super_dave89.pkl da Archidekt - 3.75 kB\n",
      "Non riesco ad aggiungere altri mazzi, procedo oltre                \n",
      "Salvati 3 mazzi in owner/DashRax.pkl da Archidekt - 0.0 kB\n",
      "Salvati 14 mazzi in owner/WolfBuster.pkl da Archidekt - 1.87 kB\n",
      "Salvati 8 mazzi in owner/KCold443.pkl da Archidekt - 1.01 kB\n",
      "Non riesco ad aggiungere altri mazzi, procedo oltre                \n",
      "Salvati 170 mazzi in owner/ColossalDreadmaw.pkl da Archidekt - 12.81 kB\n",
      "Salvati 29 mazzi in owner/Ritgfteggge.pkl da Archidekt - 3.41 kB\n",
      "Salvati 7 mazzi in owner/DeKipSante.pkl da Archidekt - 1.27 kB\n",
      "Salvati 29 mazzi in owner/LeviLondon.pkl da Archidekt - 3.71 kB\n",
      "Salvati 25 mazzi in owner/johnnythemainman.pkl da Archidekt - 3.51 kB\n",
      "Salvati 18 mazzi in owner/AaronTheWeebMan.pkl da Archidekt - 3.19 kB\n",
      "Salvati 67 mazzi in owner/Crass.pkl da Archidekt - 8.84 kB\n",
      "Salvati 237 mazzi in owner/JaRipper13.pkl da Archidekt - 26.77 kB\n",
      "Salvati 17 mazzi in owner/VendettaTales.pkl da Archidekt - 2.19 kB\n",
      "Salvati 48 mazzi in owner/Stuemplord.pkl da Archidekt - 5.94 kB\n",
      "Salvati 10 mazzi in owner/Alesha-Rosheen.pkl da Archidekt - 1.35 kB\n",
      "Salvati 35 mazzi in owner/Lumf.pkl da Archidekt - 5.08 kB\n",
      "Salvati 157 mazzi in owner/RaveLordNito.pkl da Archidekt - 18.8 kB\n",
      "Salvati 27 mazzi in owner/arrghh0.pkl da Archidekt - 3.11 kB\n",
      "Salvati 53 mazzi in owner/dabrien.pkl da Archidekt - 6.22 kB\n",
      "Salvati 107 mazzi in owner/KingSader.pkl da Archidekt - 12.77 kB\n",
      "Salvati 54 mazzi in owner/Hermelin.pkl da Archidekt - 6.79 kB\n",
      "Salvati 43 mazzi in owner/Leaflitter.pkl da Archidekt - 5.38 kB\n",
      "Salvati 92 mazzi in owner/That_Antoine.pkl da Archidekt - 19.67 kB\n",
      "Salvati 44 mazzi in owner/Drowseee.pkl da Archidekt - 5.2 kB\n",
      "Carico 165 mazzi per Athik\n",
      "Non riesco ad aggiungere altri mazzi, procedo oltre                \n",
      "Salvati 6 mazzi in owner/dillco17th.pkl da Archidekt - 0.0 kB\n",
      "Salvati 14 mazzi in owner/FROZENTWO.pkl da Archidekt - 1.72 kB\n",
      "Salvati 13 mazzi in owner/BrokenSeth.pkl da Archidekt - 1.58 kB\n",
      "Salvati 12 mazzi in owner/Hyperlulz.pkl da Archidekt - 1.56 kB\n",
      "Salvati 32 mazzi in owner/Questl.pkl da Archidekt - 3.89 kB\n",
      "Salvati 3 mazzi in owner/Xion_Stone.pkl da Archidekt - 1.7 kB\n",
      "Salvati 6 mazzi in owner/joestanner.pkl da Archidekt - 0.79 kB\n",
      "Salvati 14 mazzi in owner/Veltahl.pkl da Archidekt - 1.72 kB\n",
      "Salvati 27 mazzi in owner/DanielD.pkl da Archidekt - 3.28 kB\n",
      "Salvati 27 mazzi in owner/Baker_Tee.pkl da Archidekt - 3.38 kB\n",
      "Non riesco ad aggiungere altri mazzi, procedo oltre                \n",
      "Salvati 96 mazzi in owner/perrycesmith.pkl da Archidekt - 6.12 kB\n",
      "Salvati 301 mazzi in owner/sinn.pkl da Archidekt - 37.16 kB\n",
      "Salvati 46 mazzi in owner/JustCoro.pkl da Archidekt - 8.84 kB\n"
     ]
    }
   ],
   "source": [
    "#similar_owners.sort()\n",
    "#riordina gli owner per la similarita` nei mazzi con ownerA #TODO\n",
    "similar_decks = []\n",
    "similar_owners = list(set(similar_owners))\n",
    "owners_max = 60 #considera una media di 25 mazzi per utente\n",
    "\n",
    "print(f\"Utenti con commander simili: {len(similar_owners)}, ne esamineremo solo i primi {owners_max}\")\n",
    "\n",
    "# Prendi solo 60 tra gli owner simili ad OwnerA\n",
    "for n, owner in enumerate(similar_owners[:owners_max]):\n",
    "    #print(decks.url_by(By.OWNER,owner,1))\n",
    "    for deck in decks.fetch(By.OWNER, owner):\n",
    "        try:\n",
    "            similar_decks.append(deck)\n",
    "        except Exception as e:\n",
    "            print(f\"{e}: {deck}\")   "
   ]
  },
  {
   "cell_type": "code",
   "execution_count": 6,
   "metadata": {},
   "outputs": [
    {
     "name": "stdout",
     "output_type": "stream",
     "text": [
      "Caricati 3364 mazzi da 60 utenti \n"
     ]
    }
   ],
   "source": [
    "print(f\"Caricati {len(similar_decks)} mazzi da {owners_max} utenti \")"
   ]
  }
 ],
 "metadata": {
  "kernelspec": {
   "display_name": "Python 3",
   "language": "python",
   "name": "python3"
  },
  "language_info": {
   "codemirror_mode": {
    "name": "ipython",
    "version": 3
   },
   "file_extension": ".py",
   "mimetype": "text/x-python",
   "name": "python",
   "nbconvert_exporter": "python",
   "pygments_lexer": "ipython3",
   "version": "3.10.12"
  }
 },
 "nbformat": 4,
 "nbformat_minor": 2
}
