{
 "cells": [
  {
   "cell_type": "code",
   "execution_count": 27,
   "metadata": {},
   "outputs": [],
   "source": [
    "from src.card import Card \n",
    "from src.decks import Deck\n",
    "import src.decks as decks, src.grimoire as grimoire\n",
    "from src.by import By\n"
   ]
  },
  {
   "cell_type": "code",
   "execution_count": 28,
   "metadata": {},
   "outputs": [
    {
     "name": "stdout",
     "output_type": "stream",
     "text": [
      "Carico 112 mazzi per stubbaroni\n"
     ]
    },
    {
     "data": {
      "text/plain": [
       "223.61"
      ]
     },
     "execution_count": 28,
     "metadata": {},
     "output_type": "execute_result"
    }
   ],
   "source": [
    "#Ottieni [ownerA_decks] lista coi mazzi di ownerA\n",
    "ownerA = \"stubbaroni\"\n",
    "PATH = \"./data/fetched/\"\n",
    "\n",
    "ownerA_decks = decks.fetch(By.OWNER,ownerA)\n",
    "decks.save(ownerA_decks, ownerA, By.OWNER)"
   ]
  },
  {
   "cell_type": "code",
   "execution_count": 29,
   "metadata": {},
   "outputs": [
    {
     "name": "stdout",
     "output_type": "stream",
     "text": [
      "Carico le carte dal grimorio di stubbaroni\n"
     ]
    }
   ],
   "source": [
    "#Esplora ogni mazzo, ottieni tutte le carte, poi ricarica i mazzi aggiornati\n",
    "ownerA_grimoire = grimoire.fetch(By.OWNER, ownerA)\n",
    "ownerA_decks = decks.load(ownerA)"
   ]
  },
  {
   "cell_type": "code",
   "execution_count": 30,
   "metadata": {},
   "outputs": [
    {
     "name": "stdout",
     "output_type": "stream",
     "text": [
      "Carico 500 mazzi per Marchesa, the Black Rose\n",
      "Carico 600 mazzi per Rafiq of the Many\n",
      "Carico 386 mazzi per Oji, the Exquisite Blade\n",
      "Carico 600 mazzi per The Howling Abomination\n",
      "Carico 600 mazzi per Darien, King of Kjeldor\n",
      "Carico 600 mazzi per Aurelia, the Law Above\n",
      "Carico 600 mazzi per Omnath, Locus of Mana\n",
      "Carico 500 mazzi per Laelia, the Blade Reforged\n",
      "Carico 550 mazzi per Vishgraz, the Doomhive\n",
      "Carico 550 mazzi per Taii Wakeen, Perfect Shot\n",
      "Carico 600 mazzi per Kambal, Profiteering Mayor\n",
      "Carico 600 mazzi per Veyran, Voice of Duality\n",
      "Carico 196 mazzi per The Tarrasque\n",
      "Carico 550 mazzi per Zedruu the Greathearted\n",
      "Carico 550 mazzi per Octavia, Living Thesis\n",
      "Carico 600 mazzi per Heartless Hidetsugu\n",
      "Carico 550 mazzi per Esix, Fractal Bloom\n",
      "Carico 600 mazzi per Sovereign Okinec Ahau\n",
      "Carico 600 mazzi per Jegantha, the Wellspring\n",
      "Carico 600 mazzi per The Beamtown Bullies\n",
      "Carico 600 mazzi per Kenessos, Priest of Thassa\n",
      "Carico 600 mazzi per Toluz, Clever Conductor\n",
      "Carico 49 mazzi per Ian the Reckless\n",
      "Carico 600 mazzi per Yenna, Redtooth Regent\n",
      "Carico 123 mazzi per Borborygmos\n",
      "Carico 350 mazzi per Rakdos, Lord of Riots\n",
      "Carico 600 mazzi per Borborygmos Enraged\n",
      "Carico 509 mazzi per Gwafa Hazid, Profiteer\n",
      "Carico 600 mazzi per Yargle and Multani\n",
      "Carico 600 mazzi per Mizzix of the Izmagnus\n",
      "Carico 450 mazzi per Fynn, the Fangbearer\n",
      "Carico 600 mazzi per Hazezon, Shaper of Sand\n",
      "Carico 600 mazzi per Neheb, the Eternal\n",
      "Carico 600 mazzi per Nekusar, the Mindrazer\n",
      "Carico 600 mazzi per Jhoira of the Ghitu\n",
      "Carico 600 mazzi per Svella, Ice Shaper\n",
      "Carico 600 mazzi per Zo-Zu the Punisher\n",
      "Carico 550 mazzi per Kyler, Sigardian Emissary\n",
      "Carico 600 mazzi per Shirei, Shizo's Caretaker\n",
      "Carico 600 mazzi per Gavi, Nest Warden\n",
      "Carico 500 mazzi per Numot, the Devastator\n",
      "Carico 99 mazzi per Zurgo Bellstriker\n",
      "Carico 600 mazzi per Zurgo Helmsmasher\n",
      "Carico 550 mazzi per Ian Malcolm, Chaotician\n",
      "Carico 201 mazzi per Illuminor Szeras\n",
      "Carico 450 mazzi per Flubs, the Fool\n",
      "Carico 500 mazzi per Ojer Axonil, Deepest Might // Temple of Power\n",
      "Carico 100 mazzi per Chulane, Teller of Tales\n",
      "Carico 600 mazzi per Zurzoth, Chaos Rider\n",
      "Carico 550 mazzi per Tekuthal, Inquiry Dominus\n",
      "Carico 600 mazzi per Graaz, Unstoppable Juggernaut\n",
      "Carico 567 mazzi per Grenzo, Havoc Raiser\n",
      "Carico 600 mazzi per Ognis, the Dragon's Lash\n",
      "Carico 600 mazzi per The Ancient One\n",
      "Carico 600 mazzi per K'rrik, Son of Yawgmoth\n",
      "Carico 138 mazzi per Akawalli, the Seething Tower\n",
      "Carico 370 mazzi per Wildsear, Scouring Maw\n",
      "Carico 480 mazzi per Gerrard, Weatherlight Hero\n",
      "Carico 462 mazzi per Malcator, Purity Overseer\n",
      "Carico 451 mazzi per Unctus, Grand Metatect\n",
      "Carico 600 mazzi per Braids, Conjurer Adept\n",
      "Carico 28 mazzi per Irini Sengir\n",
      "Carico 500 mazzi per Pramikon, Sky Rampart\n",
      "Carico 167 mazzi per Strong, the Brutish Thespian\n",
      "Carico 600 mazzi per Varragoth, Bloodsky Sire\n",
      "Carico 416 mazzi per Zopandrel, Hunger Dominus\n",
      "Carico 600 mazzi per Greven, Predator Captain\n",
      "Carico 533 mazzi per Cayth, Famed Mechanist\n",
      "Carico 600 mazzi per Judith, Carnage Connoisseur\n",
      "Carico 600 mazzi per Naban, Dean of Iteration\n",
      "Carico 500 mazzi per Olivia, Opulent Outlaw\n",
      "Carico 600 mazzi per Rankle, Master of Pranks\n",
      "Carico 250 mazzi per Lord Xander, the Collector\n",
      "Carico 500 mazzi per Vorel of the Hull Clade\n",
      "Carico 600 mazzi per Skullbriar, the Walking Grave\n",
      "Carico 600 mazzi per Morska, Undersea Sleuth\n",
      "Carico 600 mazzi per Chishiro, the Shattered Blade\n",
      "Carico 600 mazzi per Nikya of the Old Ways\n",
      "Carico 450 mazzi per Alela, Artful Provocateur\n",
      "Carico 450 mazzi per Kami of the Crescent Moon\n",
      "Carico 600 mazzi per Vaevictis Asmadi, the Dire\n",
      "Carico 600 mazzi per Averna, the Chaos Bloom\n",
      "Carico 450 mazzi per Ezuri, Claw of Progress\n",
      "Carico 600 mazzi per The Pride of Hull Clade\n",
      "Carico 600 mazzi per Titania, Nature's Force\n",
      "Carico 500 mazzi per Jaxis, the Troublemaker\n",
      "Carico 500 mazzi per Captain N'ghathrod\n",
      "Carico 469 mazzi per Zara, Renegade Recruiter\n",
      "Carico 600 mazzi per Prossh, Skyraider of Kher\n",
      "Carico 600 mazzi per Zhulodok, Void Gorger\n",
      "Carico 600 mazzi per Jodah, the Unifier\n"
     ]
    }
   ],
   "source": [
    "#Ottengo [similar_owners], la lista di user con almeno un commander in comune ad ownerA\n",
    "#ottieni lista di commander di ownerA \n",
    "owner_commanders = decks.get_commanders(ownerA_decks)\n",
    "similar_owners = [] #Lista di username\n",
    "for commander in set(owner_commanders):\n",
    "    #Per ogni commander nella lista di commander di ownerA\n",
    "    #Ottieni la lista dei loro mazzi\n",
    "    similar_decks = decks.fetch(By.COMMANDER,commander.name)\n",
    "    for deck in set(similar_decks):\n",
    "        #E per ogni mazzo in questa lista, segna tutti coloro che hanno lo stesso\n",
    "        #commander di owner\n",
    "        try:\n",
    "            similar_owners.append(deck.owner)\n",
    "        except Exception as e:\n",
    "            print(f\"{e}: {deck}\")"
   ]
  },
  {
   "cell_type": "code",
   "execution_count": 31,
   "metadata": {},
   "outputs": [],
   "source": [
    "import src.grimoire as grimoire\n",
    "import  src.card as cards\n",
    "from src.pooling import Pooling\n",
    "import importlib"
   ]
  },
  {
   "cell_type": "code",
   "execution_count": 32,
   "metadata": {},
   "outputs": [
    {
     "name": "stdout",
     "output_type": "stream",
     "text": [
      "30409 Utenti con commander similili, ne esamineremo solo 30\n"
     ]
    }
   ],
   "source": [
    "#similar_owners.sort()\n",
    "importlib.reload(cards)\n",
    "importlib.reload(grimoire)\n",
    "\n",
    "#riordina gli owner per la similarita` nei mazzi con ownerA\n",
    "similar_decks = decks.load('similar', By.DECKNAME)\n",
    "similar_owners = list(set(similar_owners))\n",
    "owners_max = 30 #considera una media di 25 mazzi per utente\n",
    "\n",
    "print(f\"{len(similar_owners)} Utenti con commander similili, ne esamineremo solo {owners_max}\")\n",
    "if similar_decks is None:\n",
    "    similar_decks = []\n",
    "    # Prendi solo 60 tra gli owner simili ad OwnerA\n",
    "    for n, owner in enumerate(similar_owners[:owners_max]):\n",
    "        #print(decks.url_by(By.OWNER,owner,1))\n",
    "        for deck in decks.fetch(By.OWNER, owner, n_thread=2,do_load=False):\n",
    "            try:\n",
    "                similar_decks.append(deck)\n",
    "            except Exception as e:\n",
    "                print(f\"{e}: {deck}\")   "
   ]
  },
  {
   "cell_type": "code",
   "execution_count": 33,
   "metadata": {},
   "outputs": [
    {
     "name": "stdout",
     "output_type": "stream",
     "text": [
      "Caricati 1537 mazzi da 30 utenti \n"
     ]
    },
    {
     "data": {
      "text/plain": [
       "212.07"
      ]
     },
     "execution_count": 33,
     "metadata": {},
     "output_type": "execute_result"
    }
   ],
   "source": [
    "print(f\"Caricati {len(similar_decks)} mazzi da {owners_max} utenti \")\n",
    "decks.save(similar_decks, 'similar', By.DECKNAME)"
   ]
  },
  {
   "cell_type": "code",
   "execution_count": 34,
   "metadata": {},
   "outputs": [],
   "source": [
    "import src.grimoire as grimoire\n",
    "import  src.card as cards\n",
    "from src.pooling import Pooling\n",
    "import importlib"
   ]
  },
  {
   "cell_type": "code",
   "execution_count": 35,
   "metadata": {},
   "outputs": [
    {
     "name": "stdout",
     "output_type": "stream",
     "text": [
      "Carico le carte dal grimorio di Eggs Discount\n",
      "Carico le carte dal grimorio di Zer1\n",
      "Carico le carte dal grimorio di Red Thief\n",
      "Carico le carte dal grimorio di Imoteck trial\n",
      "Carico le carte dal grimorio di Bully Maguire\n",
      "Carico le carte dal grimorio di Piu Pia\n",
      "Carico le carte dal grimorio di Nachoni\n",
      "Carico le carte dal grimorio di Zurzoth\n",
      "Carico le carte dal grimorio di Myryad\n",
      "Carico le carte dal grimorio di Merfolks\n",
      "Carico le carte dal grimorio di Cascada\n",
      "Carico le carte dal grimorio di Ygra\n",
      "Carico le carte dal grimorio di Esper Atrifacts\n",
      "Carico le carte dal grimorio di Golgari\n",
      "Carico le carte dal grimorio di Maralen of the mornsong\n",
      "Carico le carte dal grimorio di Red Lands\n",
      "Carico le carte dal grimorio di Rhys the Redeemed\n",
      "Carico le carte dal grimorio di Mono-Green Value\n",
      "Carico le carte dal grimorio di Food Fight\n",
      "Carico le carte dal grimorio di Zombies!\n",
      "Non riesco ad aggiungere altre carte, procedo oltre                \n",
      "Carico le carte dal grimorio di Ssssshamansss\n",
      "Carico le carte dal grimorio di Hokori\n",
      "Non riesco ad aggiungere altre carte, procedo oltre                \n",
      "Carico le carte dal grimorio di Gruul Verboden\n",
      "Carico le carte dal grimorio di Fafnir's Treasure\n",
      "Carico le carte dal grimorio di Weeeeehan\n",
      "Carico le carte dal grimorio di Vigo\n",
      "Carico le carte dal grimorio di Uril Aura\n",
      "Carico le carte dal grimorio di Smeagol, Helpful Guide\n",
      "Carico le carte dal grimorio di Seppuku\n",
      "Carico le carte dal grimorio di MW2\n",
      "Carico le carte dal grimorio di Mw $\n",
      "Carico le carte dal grimorio di Milling flame\n",
      "Carico le carte dal grimorio di Lord of murder\n",
      "Carico le carte dal grimorio di Healing angels\n",
      "Carico le carte dal grimorio di Buff deck 50 €\n",
      "Carico le carte dal grimorio di Budget Flame\n",
      "Non riesco ad aggiungere altre carte, procedo oltre                \n",
      "Non riesco ad aggiungere altre carte, procedo oltre                \n",
      "Non riesco ad aggiungere altre carte, procedo oltre                \n",
      "Salvate 86 carte in Vampires.pkl da Archidekt - 29.96 kB\n",
      "Salvate 87 carte in Minthara.pkl da Archidekt - 31.16 kB\n",
      "Salvate 86 carte in Elenda.pkl da Archidekt - 28.93 kB\n",
      "Salvate 89 carte in 40/(1+3)=win.pkl da Archidekt - 28.48 kB\n",
      "Salvate 77 carte in Goblin.pkl da Archidekt - 26.25 kB\n",
      "Non riesco ad aggiungere altre carte, procedo oltre                \n",
      "Carico le carte dal grimorio di Thrun\n",
      "Carico le carte dal grimorio di Azorius Blink\n",
      "Carico le carte dal grimorio di Boros Soldier\n",
      "Carico le carte dal grimorio di Landfall\n",
      "Carico le carte dal grimorio di Golgary Elves\n",
      "Carico le carte dal grimorio di Orzhov\n",
      "Carico le carte dal grimorio di Many Life\n",
      "Carico le carte dal grimorio di Emblems\n",
      "Carico le carte dal grimorio di Ninjutsu\n",
      "Carico le carte dal grimorio di Slime Time\n",
      "Carico le carte dal grimorio di Darien bro\n",
      "Non riesco ad aggiungere altre carte, procedo oltre                \n",
      "Non riesco ad aggiungere altre carte, procedo oltre                \n",
      "Carico le carte dal grimorio di Adrix and Nev blue green token\n",
      "Carico le carte dal grimorio di Avacyn, angel of bullshit\n",
      "Carico le carte dal grimorio di Blue black zommy\n",
      "Carico le carte dal grimorio di Flying voltron\n",
      "Carico le carte dal grimorio di Green Elves\n",
      "Carico le carte dal grimorio di Zo-Zu Zug Zug\n",
      "Non riesco ad aggiungere altre carte, procedo oltre                \n",
      "Non riesco ad aggiungere altre carte, procedo oltre                \n",
      "Carico le carte dal grimorio di Tatyova, Salty Druid\n",
      "Carico le carte dal grimorio di Titania and her moons\n",
      "Carico le carte dal grimorio di Lavinia, Azoruius Fun Place\n",
      "Carico le carte dal grimorio di Kess wheel\n",
      "Carico le carte dal grimorio di Alela, Current Edition\n",
      "Carico le carte dal grimorio di Lurrus of the Value Den\n",
      "Carico le carte dal grimorio di A Hippo\n",
      "Carico le carte dal grimorio di Budget Odric, Lunarch Marshal\n",
      "Carico le carte dal grimorio di Sram Synergy\n",
      "Carico le carte dal grimorio di Gnshhagghkkapphribbit\n",
      "Carico le carte dal grimorio di A Hippo\n",
      "Carico le carte dal grimorio di Liesa, Shroud of Dusk\n",
      "Carico le carte dal grimorio di Alela, EnchantmentArtifact Synergy\n",
      "Non riesco ad aggiungere altre carte, procedo oltre                \n",
      "Non riesco ad aggiungere altre carte, procedo oltre                \n",
      "Non riesco ad aggiungere altre carte, procedo oltre                \n",
      "Non riesco ad aggiungere altre carte, procedo oltre                \n",
      "Non riesco ad aggiungere altre carte, procedo oltre                \n",
      "Non riesco ad aggiungere altre carte, procedo oltre                \n",
      "Non riesco ad aggiungere altre carte, procedo oltre                \n",
      "Salvate 96 carte in Salad Days.pkl da Archidekt - 35.96 kB\n"
     ]
    },
    {
     "name": "stderr",
     "output_type": "stream",
     "text": [
      "Exception in thread Thread-9438 (handle_cards):\n",
      "Traceback (most recent call last):\n",
      "  File \"/usr/lib/python3.10/threading.py\", line 1016, in _bootstrap_inner\n",
      "    self.run()\n",
      "  File \"/home/axten/.local/lib/python3.10/site-packages/ipykernel/ipkernel.py\", line 766, in run_closure\n",
      "    _threading_Thread_run(self)\n",
      "  File \"/usr/lib/python3.10/threading.py\", line 953, in run\n",
      "    self._target(*self._args, **self._kwargs)\n",
      "  File \"/mnt/nvme1n1p3/Documents/Codes/Python/ICON-23-24-EDH/src/grimoire.py\", line 245, in handle_cards\n",
      "    decks.find(decks_to_fetch, deck_id).add_commander(card)\n",
      "AttributeError: 'NoneType' object has no attribute 'add_commander'\n"
     ]
    },
    {
     "name": "stdout",
     "output_type": "stream",
     "text": [
      "Salvate 1 carte in Ride or Die.pkl da Archidekt - 0.83 kB\n",
      "Carico le carte dal grimorio di Horror Show\n",
      "Carico le carte dal grimorio di Zombies Ate My Opponents\n",
      "Carico le carte dal grimorio di What's Yours is Mine\n",
      "Carico le carte dal grimorio di Nightwalkers\n",
      "Carico le carte dal grimorio di Oh Gnome You Didn’t!\n",
      "Carico le carte dal grimorio di Holy Wars\n",
      "Carico le carte dal grimorio di Dino Crisis\n",
      "Carico le carte dal grimorio di Get Out Me Swamp!\n",
      "Carico le carte dal grimorio di Sidar Jabari of Zhalfir\n",
      "Carico le carte dal grimorio di Feathery Owl\n",
      "Carico le carte dal grimorio di Kami of the Crescent Moon\n",
      "Carico le carte dal grimorio di Enchanted Kitty\n",
      "Carico le carte dal grimorio di x2\n",
      "Carico le carte dal grimorio di Krenko the Gremlin\n",
      "Carico le carte dal grimorio di Let's Go Gambling\n",
      "Carico le carte dal grimorio di Good Unicorn\n"
     ]
    },
    {
     "name": "stderr",
     "output_type": "stream",
     "text": [
      "Exception in thread Thread-9442 (handle_cards):\n",
      "Traceback (most recent call last):\n",
      "  File \"/usr/lib/python3.10/threading.py\", line 1016, in _bootstrap_inner\n",
      "    self.run()\n",
      "  File \"/home/axten/.local/lib/python3.10/site-packages/ipykernel/ipkernel.py\", line 766, in run_closure\n",
      "    _threading_Thread_run(self)\n",
      "  File \"/usr/lib/python3.10/threading.py\", line 953, in run\n",
      "    self._target(*self._args, **self._kwargs)\n",
      "  File \"/mnt/nvme1n1p3/Documents/Codes/Python/ICON-23-24-EDH/src/grimoire.py\", line 245, in handle_cards\n",
      "    decks.find(decks_to_fetch, deck_id).add_commander(card)\n",
      "AttributeError: 'NoneType' object has no attribute 'add_commander'\n"
     ]
    },
    {
     "name": "stdout",
     "output_type": "stream",
     "text": [
      "Salvate 30 carte in Lands, Lands, and Lands.pkl da Archidekt - 10.61 kB\n"
     ]
    },
    {
     "name": "stderr",
     "output_type": "stream",
     "text": [
      "Exception in thread Thread-9446 (handle_cards):\n",
      "Traceback (most recent call last):\n",
      "  File \"/usr/lib/python3.10/threading.py\", line 1016, in _bootstrap_inner\n",
      "    self.run()\n",
      "  File \"/home/axten/.local/lib/python3.10/site-packages/ipykernel/ipkernel.py\", line 766, in run_closure\n",
      "    _threading_Thread_run(self)\n",
      "  File \"/usr/lib/python3.10/threading.py\", line 953, in run\n",
      "    self._target(*self._args, **self._kwargs)\n",
      "  File \"/mnt/nvme1n1p3/Documents/Codes/Python/ICON-23-24-EDH/src/grimoire.py\", line 245, in handle_cards\n",
      "    decks.find(decks_to_fetch, deck_id).add_commander(card)\n",
      "AttributeError: 'NoneType' object has no attribute 'add_commander'\n"
     ]
    },
    {
     "name": "stdout",
     "output_type": "stream",
     "text": [
      "Salvate 67 carte in Fynn, the Fangbearer.pkl da Archidekt - 23.05 kB\n",
      "Salvate 82 carte in Yuriko, the Tiger's Shadow.pkl da Archidekt - 30.53 kB\n",
      "Salvate 82 carte in Animar, Soul of Elements.pkl da Archidekt - 30.01 kB\n",
      "Non riesco ad aggiungere altre carte, procedo oltre                \n",
      "Non riesco ad aggiungere altre carte, procedo oltre                \n",
      "Carico le carte dal grimorio di Giada, Font of Hope\n",
      "Carico le carte dal grimorio di Zur the Enchanter\n",
      "Carico le carte dal grimorio di Kaali of the Vast\n",
      "Carico le carte dal grimorio di Kyn\n",
      "Carico le carte dal grimorio di Shadow born demons\n",
      "Carico le carte dal grimorio di Taste The Rainbow\n",
      "Carico le carte dal grimorio di Etali full Chaos\n",
      "Non riesco ad aggiungere altre carte, procedo oltre                \n",
      "Carico le carte dal grimorio di Zax\n",
      "Carico le carte dal grimorio di crosis\n",
      "Non riesco ad aggiungere altre carte, procedo oltre                \n",
      "Non riesco ad aggiungere altre carte, procedo oltre                \n",
      "Non riesco ad aggiungere altre carte, procedo oltre                \n",
      "Non riesco ad aggiungere altre carte, procedo oltre                \n",
      "Non riesco ad aggiungere altre carte, procedo oltre                \n",
      "Carico le carte dal grimorio di Henzie Pod Budget\n",
      "Carico le carte dal grimorio di seizan\n",
      "Non riesco ad aggiungere altre carte, procedo oltre                \n",
      "Carico le carte dal grimorio di zozu slugma\n",
      "Carico le carte dal grimorio di Sagama\n",
      "Carico le carte dal grimorio di spell spell spell\n",
      "Carico le carte dal grimorio di Miirym\n",
      "Carico le carte dal grimorio di hazy ipa\n",
      "Carico le carte dal grimorio di Angelic Legion\n",
      "Carico le carte dal grimorio di Seeing Doubles\n",
      "Carico le carte dal grimorio di Skittering Spiders\n",
      "Carico le carte dal grimorio di Men, Alive and Dead\n",
      "Carico le carte dal grimorio di Imotekh the Stormlord\n",
      "Carico le carte dal grimorio di Angel (The Areosmith Song)\n",
      "Carico le carte dal grimorio di Blueberry Faygo\n",
      "Carico le carte dal grimorio di Santeria\n",
      "Carico le carte dal grimorio di Sunflower\n",
      "Non riesco ad aggiungere altre carte, procedo oltre                \n",
      "Non riesco ad aggiungere altre carte, procedo oltre                \n"
     ]
    },
    {
     "name": "stderr",
     "output_type": "stream",
     "text": [
      "Exception in thread Thread-9502 (handle_cards):\n",
      "Traceback (most recent call last):\n",
      "  File \"/usr/lib/python3.10/threading.py\", line 1016, in _bootstrap_inner\n",
      "    self.run()\n",
      "  File \"/home/axten/.local/lib/python3.10/site-packages/ipykernel/ipkernel.py\", line 766, in run_closure\n",
      "    _threading_Thread_run(self)\n",
      "  File \"/usr/lib/python3.10/threading.py\", line 953, in run\n",
      "    self._target(*self._args, **self._kwargs)\n",
      "  File \"/mnt/nvme1n1p3/Documents/Codes/Python/ICON-23-24-EDH/src/grimoire.py\", line 245, in handle_cards\n",
      "    decks.find(decks_to_fetch, deck_id).add_commander(card)\n",
      "AttributeError: 'NoneType' object has no attribute 'add_commander'\n"
     ]
    },
    {
     "name": "stdout",
     "output_type": "stream",
     "text": [
      "Salvate 3 carte in Round and Round.pkl da Archidekt - 1.42 kB\n"
     ]
    },
    {
     "name": "stderr",
     "output_type": "stream",
     "text": [
      "Exception in thread Thread-9506 (handle_cards):\n",
      "Traceback (most recent call last):\n",
      "  File \"/usr/lib/python3.10/threading.py\", line 1016, in _bootstrap_inner\n",
      "    self.run()\n",
      "  File \"/home/axten/.local/lib/python3.10/site-packages/ipykernel/ipkernel.py\", line 766, in run_closure\n",
      "    _threading_Thread_run(self)\n",
      "  File \"/usr/lib/python3.10/threading.py\", line 953, in run\n",
      "    self._target(*self._args, **self._kwargs)\n",
      "  File \"/mnt/nvme1n1p3/Documents/Codes/Python/ICON-23-24-EDH/src/grimoire.py\", line 245, in handle_cards\n",
      "    decks.find(decks_to_fetch, deck_id).add_commander(card)\n",
      "AttributeError: 'NoneType' object has no attribute 'add_commander'\n"
     ]
    },
    {
     "name": "stdout",
     "output_type": "stream",
     "text": [
      "Salvate 5 carte in Welcome Home (Sanitarium).pkl da Archidekt - 1.73 kB\n",
      "Salvate 116 carte in Circles.pkl da Archidekt - 39.44 kB\n"
     ]
    },
    {
     "name": "stderr",
     "output_type": "stream",
     "text": [
      "Exception in thread Thread-9514 (handle_cards):\n",
      "Traceback (most recent call last):\n",
      "  File \"/usr/lib/python3.10/threading.py\", line 1016, in _bootstrap_inner\n",
      "    self.run()\n",
      "  File \"/home/axten/.local/lib/python3.10/site-packages/ipykernel/ipkernel.py\", line 766, in run_closure\n",
      "    _threading_Thread_run(self)\n",
      "  File \"/usr/lib/python3.10/threading.py\", line 953, in run\n",
      "    self._target(*self._args, **self._kwargs)\n",
      "  File \"/mnt/nvme1n1p3/Documents/Codes/Python/ICON-23-24-EDH/src/grimoire.py\", line 245, in handle_cards\n",
      "    decks.find(decks_to_fetch, deck_id).add_commander(card)\n",
      "AttributeError: 'NoneType' object has no attribute 'add_commander'\n"
     ]
    },
    {
     "name": "stdout",
     "output_type": "stream",
     "text": [
      "Salvate 2 carte in Hazoret Polymorph.pkl da Archidekt - 0.92 kB\n"
     ]
    },
    {
     "name": "stderr",
     "output_type": "stream",
     "text": [
      "Exception in thread Thread-9518 (handle_cards):\n",
      "Traceback (most recent call last):\n",
      "  File \"/usr/lib/python3.10/threading.py\", line 1016, in _bootstrap_inner\n",
      "    self.run()\n",
      "  File \"/home/axten/.local/lib/python3.10/site-packages/ipykernel/ipkernel.py\", line 766, in run_closure\n",
      "    _threading_Thread_run(self)\n",
      "  File \"/usr/lib/python3.10/threading.py\", line 953, in run\n",
      "    self._target(*self._args, **self._kwargs)\n",
      "  File \"/mnt/nvme1n1p3/Documents/Codes/Python/ICON-23-24-EDH/src/grimoire.py\", line 245, in handle_cards\n",
      "    decks.find(decks_to_fetch, deck_id).add_commander(card)\n",
      "AttributeError: 'NoneType' object has no attribute 'add_commander'\n"
     ]
    },
    {
     "name": "stdout",
     "output_type": "stream",
     "text": [
      "Salvate 162 carte in Cozy Combos.pkl da Archidekt - 58.86 kB\n",
      "Non riesco ad aggiungere altre carte, procedo oltre                \n",
      "Non riesco ad aggiungere altre carte, procedo oltre                \n",
      "Non riesco ad aggiungere altre carte, procedo oltre                \n",
      "Carico le carte dal grimorio di Master of Puppets\n",
      "Carico le carte dal grimorio di NO FUN\n",
      "Carico le carte dal grimorio di Beauty Behind the Madness\n",
      "Carico le carte dal grimorio di Snow (Hey Oh)\n",
      "Carico le carte dal grimorio di G-L-A-M-O-R-O-U-S Yeah\n",
      "Carico le carte dal grimorio di Fast  Food ChuChain\n",
      "Carico le carte dal grimorio di Riptide\n",
      "Carico le carte dal grimorio di Give The Goblin Some Gold! REEEEEEEE\n",
      "Carico le carte dal grimorio di Silhouette\n",
      "Carico le carte dal grimorio di Panini\n",
      "Carico le carte dal grimorio di Head in the Clouds\n",
      "Non riesco ad aggiungere altre carte, procedo oltre                \n",
      "Carico le carte dal grimorio di Goad's Grrrrrrrreat!\n",
      "Carico le carte dal grimorio di We aint got ball, D Rose\n",
      "Carico le carte dal grimorio di 3\n",
      "Carico le carte dal grimorio di Fat Bottomed Girls\n",
      "Carico le carte dal grimorio di Bad Idea Enchantments\n",
      "Carico le carte dal grimorio di Nerf This\n",
      "Non riesco ad aggiungere altre carte, procedo oltre                \n",
      "Non riesco ad aggiungere altre carte, procedo oltre                \n",
      "Non riesco ad aggiungere altre carte, procedo oltre                \n",
      "Carico le carte dal grimorio di Massive Legend Here\n",
      "Carico le carte dal grimorio di OwO *Glomps you*\n",
      "Carico le carte dal grimorio di Chainer, Headache Inducer\n",
      "Carico le carte dal grimorio di thing\n",
      "Carico le carte dal grimorio di W E T\n",
      "Carico le carte dal grimorio di Copy of - Anhelo's Annihilation\n",
      "Carico le carte dal grimorio di Thriller\n",
      "Carico le carte dal grimorio di Sick Love\n",
      "Carico le carte dal grimorio di Barbie World\n",
      "Carico le carte dal grimorio di Doomsday\n",
      "Carico le carte dal grimorio di LUMBERJACK\n",
      "Non riesco ad aggiungere altre carte, procedo oltre                \n",
      "Non riesco ad aggiungere altre carte, procedo oltre                \n",
      "Non riesco ad aggiungere altre carte, procedo oltre                \n",
      "Non riesco ad aggiungere altre carte, procedo oltre                \n"
     ]
    },
    {
     "name": "stderr",
     "output_type": "stream",
     "text": [
      "Exception in thread Thread-9566 (handle_cards):\n",
      "Traceback (most recent call last):\n",
      "  File \"/usr/lib/python3.10/threading.py\", line 1016, in _bootstrap_inner\n",
      "    self.run()\n",
      "  File \"/home/axten/.local/lib/python3.10/site-packages/ipykernel/ipkernel.py\", line 766, in run_closure\n",
      "    _threading_Thread_run(self)\n",
      "  File \"/usr/lib/python3.10/threading.py\", line 953, in run\n",
      "    self._target(*self._args, **self._kwargs)\n",
      "  File \"/mnt/nvme1n1p3/Documents/Codes/Python/ICON-23-24-EDH/src/grimoire.py\", line 245, in handle_cards\n",
      "    decks.find(decks_to_fetch, deck_id).add_commander(card)\n",
      "AttributeError: 'NoneType' object has no attribute 'add_commander'\n"
     ]
    },
    {
     "name": "stdout",
     "output_type": "stream",
     "text": [
      "Salvate 4 carte in KICKBACK.pkl da Archidekt - 2.04 kB\n",
      "Salvate 97 carte in Boy Bye.pkl da Archidekt - 29.81 kB\n",
      "Salvate 115 carte in Jetmir.pkl da Archidekt - 39.4 kB\n"
     ]
    },
    {
     "name": "stderr",
     "output_type": "stream",
     "text": [
      "Exception in thread Thread-9578 (handle_cards):\n",
      "Traceback (most recent call last):\n",
      "  File \"/usr/lib/python3.10/threading.py\", line 1016, in _bootstrap_inner\n",
      "    self.run()\n",
      "  File \"/home/axten/.local/lib/python3.10/site-packages/ipykernel/ipkernel.py\", line 766, in run_closure\n",
      "    _threading_Thread_run(self)\n",
      "  File \"/usr/lib/python3.10/threading.py\", line 953, in run\n",
      "    self._target(*self._args, **self._kwargs)\n",
      "  File \"/mnt/nvme1n1p3/Documents/Codes/Python/ICON-23-24-EDH/src/grimoire.py\", line 245, in handle_cards\n",
      "    decks.find(decks_to_fetch, deck_id).add_commander(card)\n",
      "AttributeError: 'NoneType' object has no attribute 'add_commander'\n"
     ]
    },
    {
     "name": "stdout",
     "output_type": "stream",
     "text": [
      "Salvate 1 carte in Polukranos MK1.pkl da Archidekt - 0.62 kB\n"
     ]
    },
    {
     "name": "stderr",
     "output_type": "stream",
     "text": [
      "Exception in thread Thread-9582 (handle_cards):\n",
      "Traceback (most recent call last):\n",
      "  File \"/usr/lib/python3.10/threading.py\", line 1016, in _bootstrap_inner\n",
      "    self.run()\n",
      "  File \"/home/axten/.local/lib/python3.10/site-packages/ipykernel/ipkernel.py\", line 766, in run_closure\n",
      "    _threading_Thread_run(self)\n",
      "  File \"/usr/lib/python3.10/threading.py\", line 953, in run\n",
      "    self._target(*self._args, **self._kwargs)\n",
      "  File \"/mnt/nvme1n1p3/Documents/Codes/Python/ICON-23-24-EDH/src/grimoire.py\", line 245, in handle_cards\n",
      "    decks.find(decks_to_fetch, deck_id).add_commander(card)\n",
      "AttributeError: 'NoneType' object has no attribute 'add_commander'\n"
     ]
    },
    {
     "name": "stdout",
     "output_type": "stream",
     "text": [
      "Salvate 3 carte in NEW MAGIC WAND.pkl da Archidekt - 1.29 kB\n",
      "Carico le carte dal grimorio di Call Me by Your Name\n",
      "Carico le carte dal grimorio di SUN GOES DOWN\n",
      "Carico le carte dal grimorio di MY NAME CHEF\n",
      "Carico le carte dal grimorio di Bleach\n",
      "Carico le carte dal grimorio di BAD DRAGON\n",
      "Carico le carte dal grimorio di RNA\n",
      "Carico le carte dal grimorio di Shibuya Shuffle\n",
      "Carico le carte dal grimorio di Gimme Love\n",
      "Carico le carte dal grimorio di Vega from Street Fighter II\n",
      "Carico le carte dal grimorio di The Court of the Crimson King\n",
      "Carico le carte dal grimorio di Upgrade\n",
      "Carico le carte dal grimorio di Sunflower\n",
      "Carico le carte dal grimorio di Blueberry Faygo\n",
      "Carico le carte dal grimorio di Zombie (The Cranberries)\n",
      "Carico le carte dal grimorio di Congratulations\n",
      "Carico le carte dal grimorio di Zetsubo no Shima\n",
      "Carico le carte dal grimorio di OoPs A CoMbO\n",
      "Carico le carte dal grimorio di (Don't Fear) The Reaper\n",
      "Salvate 57 carte in Mikey's Garden.pkl da Archidekt - 19.16 kB\n",
      "Non riesco ad aggiungere altre carte, procedo oltre                \n",
      "Non riesco ad aggiungere altre carte, procedo oltre                \n",
      "Non riesco ad aggiungere altre carte, procedo oltre                \n",
      "Non riesco ad aggiungere altre carte, procedo oltre                \n",
      "Carico le carte dal grimorio di Shrine on You Crazy Diamond\n",
      "Carico le carte dal grimorio di Bonetrousle\n",
      "Carico le carte dal grimorio di Don't Blink\n",
      "Carico le carte dal grimorio di Illuna Food Chain\n",
      "Carico le carte dal grimorio di Marath Zirda Best Buds\n",
      "Carico le carte dal grimorio di Gettin Nivvy With It\n",
      "Carico le carte dal grimorio di WhaleWolf UwU\n",
      "Carico le carte dal grimorio di Indatha Flavor\n",
      "Carico le carte dal grimorio di Hivemind\n",
      "Carico le carte dal grimorio di Faries\n",
      "Carico le carte dal grimorio di Chulane\n",
      "Carico le carte dal grimorio di Murderrrrrrr KNG\n",
      "Non riesco ad aggiungere altre carte, procedo oltre                \n",
      "Non riesco ad aggiungere altre carte, procedo oltre                \n",
      "Non riesco ad aggiungere altre carte, procedo oltre                \n",
      "Non riesco ad aggiungere altre carte, procedo oltre                \n",
      "Non riesco ad aggiungere altre carte, procedo oltre                \n",
      "Non riesco ad aggiungere altre carte, procedo oltre                \n",
      "Carico le carte dal grimorio di opps all bombs\n",
      "Carico le carte dal grimorio di cards and cards\n",
      "Carico le carte dal grimorio di cards and cards\n",
      "Carico le carte dal grimorio di Through the realms\n",
      "Carico le carte dal grimorio di Through the realms\n",
      "Carico le carte dal grimorio di Is this a snek\n",
      "Carico le carte dal grimorio di Is this a snek\n",
      "Carico le carte dal grimorio di Mono Black\n",
      "Carico le carte dal grimorio di SHASHASHA pocket sand\n",
      "Carico le carte dal grimorio di Is this a Dragon\n",
      "Carico le carte dal grimorio di Thalia and the Gitrog monster\n",
      "Carico le carte dal grimorio di Welcome to Sram ranch\n",
      "Carico le carte dal grimorio di Mono blue walking multiply\n",
      "Carico le carte dal grimorio di Thalia and the Gitrog monster\n",
      "Non riesco ad aggiungere altre carte, procedo oltre                \n",
      "Carico le carte dal grimorio di Desecrate Me\n",
      "Carico le carte dal grimorio di Second Breakfast\n",
      "Carico le carte dal grimorio di I was crazy once, they locked me in a room\n",
      "Carico le carte dal grimorio di Tuvasa Enchantments\n",
      "Non riesco ad aggiungere altre carte, procedo oltre                \n"
     ]
    },
    {
     "name": "stderr",
     "output_type": "stream",
     "text": [
      "Exception in thread Thread-9638 (handle_cards):\n",
      "Traceback (most recent call last):\n",
      "  File \"/usr/lib/python3.10/threading.py\", line 1016, in _bootstrap_inner\n",
      "    self.run()\n",
      "  File \"/home/axten/.local/lib/python3.10/site-packages/ipykernel/ipkernel.py\", line 766, in run_closure\n",
      "    _threading_Thread_run(self)\n",
      "  File \"/usr/lib/python3.10/threading.py\", line 953, in run\n",
      "    self._target(*self._args, **self._kwargs)\n",
      "  File \"/mnt/nvme1n1p3/Documents/Codes/Python/ICON-23-24-EDH/src/grimoire.py\", line 245, in handle_cards\n",
      "    decks.find(decks_to_fetch, deck_id).add_commander(card)\n",
      "AttributeError: 'NoneType' object has no attribute 'add_commander'\n"
     ]
    },
    {
     "name": "stdout",
     "output_type": "stream",
     "text": [
      "Salvate 66 carte in Karlov - Life.pkl da Archidekt - 23.73 kB\n"
     ]
    },
    {
     "name": "stderr",
     "output_type": "stream",
     "text": [
      "Exception in thread Thread-9642 (handle_cards):\n",
      "Traceback (most recent call last):\n",
      "  File \"/usr/lib/python3.10/threading.py\", line 1016, in _bootstrap_inner\n",
      "    self.run()\n",
      "  File \"/home/axten/.local/lib/python3.10/site-packages/ipykernel/ipkernel.py\", line 766, in run_closure\n",
      "    _threading_Thread_run(self)\n",
      "  File \"/usr/lib/python3.10/threading.py\", line 953, in run\n",
      "    self._target(*self._args, **self._kwargs)\n",
      "  File \"/mnt/nvme1n1p3/Documents/Codes/Python/ICON-23-24-EDH/src/grimoire.py\", line 245, in handle_cards\n",
      "    decks.find(decks_to_fetch, deck_id).add_commander(card)\n",
      "AttributeError: 'NoneType' object has no attribute 'add_commander'\n"
     ]
    },
    {
     "name": "stdout",
     "output_type": "stream",
     "text": [
      "Salvate 1 carte in Mates Teysa Aristocrats - Token Control.pkl da Archidekt - 0.64 kB\n",
      "Salvate 87 carte in PLANTS.pkl da Archidekt - 31.43 kB\n",
      "Salvate 79 carte in Rograkh Swing Big.pkl da Archidekt - 26.51 kB\n",
      "Non riesco ad aggiungere altre carte, procedo oltre                \n",
      "Non riesco ad aggiungere altre carte, procedo oltre                \n",
      "Non riesco ad aggiungere altre carte, procedo oltre                \n",
      "Carico le carte dal grimorio di Vihaan\n",
      "Carico le carte dal grimorio di No More Shenanigans\n",
      "Carico le carte dal grimorio di tb\n",
      "Carico le carte dal grimorio di Yurlok Group Slug\n",
      "Carico le carte dal grimorio di Budget Discard Raven Man\n",
      "Carico le carte dal grimorio di King Darien\n",
      "Carico le carte dal grimorio di Adrix and Nev Tokens\n",
      "Carico le carte dal grimorio di Lands\n",
      "Carico le carte dal grimorio di Nikya of the Old Ways\n",
      "Carico le carte dal grimorio di I am a Master Breeder\n",
      "Carico le carte dal grimorio di Lord Windgrace Lands\n",
      "Carico le carte dal grimorio di Curses\n",
      "Non riesco ad aggiungere altre carte, procedo oltre                \n",
      "Non riesco ad aggiungere altre carte, procedo oltre                \n",
      "Non riesco ad aggiungere altre carte, procedo oltre                \n",
      "Carico le carte dal grimorio di Saga\n",
      "Carico le carte dal grimorio di Dimir Cards\n",
      "Carico le carte dal grimorio di Mana for Days\n",
      "Carico le carte dal grimorio di Saruman the Silly\n",
      "Carico le carte dal grimorio di Want a flower\n",
      "Carico le carte dal grimorio di Lord of Bones\n",
      "Non riesco ad aggiungere altre carte, procedo oltre                \n",
      "Carico le carte dal grimorio di You Hate Me I Hate You\n",
      "Carico le carte dal grimorio di Miirym dragons v2\n",
      "Carico le carte dal grimorio di Judith\n",
      "Carico le carte dal grimorio di Atraxa Poison v2\n",
      "Carico le carte dal grimorio di Merfolk Atraxa\n",
      "Carico le carte dal grimorio di Teysa aristo\n",
      "Carico le carte dal grimorio di She can silence me any day\n",
      "Carico le carte dal grimorio di Oh Oh Oh Obeka\n",
      "Carico le carte dal grimorio di Top Deck Queen\n",
      "Carico le carte dal grimorio di Mothy Boi\n",
      "Carico le carte dal grimorio di Theivery\n",
      "Non riesco ad aggiungere altre carte, procedo oltre                \n",
      "Non riesco ad aggiungere altre carte, procedo oltre                \n",
      "Non riesco ad aggiungere altre carte, procedo oltre                \n",
      "Non riesco ad aggiungere altre carte, procedo oltre                \n"
     ]
    },
    {
     "name": "stderr",
     "output_type": "stream",
     "text": [
      "Exception in thread Thread-9698 (handle_cards):\n",
      "Traceback (most recent call last):\n",
      "  File \"/usr/lib/python3.10/threading.py\", line 1016, in _bootstrap_inner\n",
      "    self.run()\n",
      "  File \"/home/axten/.local/lib/python3.10/site-packages/ipykernel/ipkernel.py\", line 766, in run_closure\n",
      "    _threading_Thread_run(self)\n",
      "  File \"/usr/lib/python3.10/threading.py\", line 953, in run\n",
      "    self._target(*self._args, **self._kwargs)\n",
      "  File \"/mnt/nvme1n1p3/Documents/Codes/Python/ICON-23-24-EDH/src/grimoire.py\", line 245, in handle_cards\n",
      "    decks.find(decks_to_fetch, deck_id).add_commander(card)\n",
      "AttributeError: 'NoneType' object has no attribute 'add_commander'\n"
     ]
    },
    {
     "name": "stdout",
     "output_type": "stream",
     "text": [
      "Salvate 3 carte in Good Boy Treva.pkl da Archidekt - 1.29 kB\n"
     ]
    },
    {
     "name": "stderr",
     "output_type": "stream",
     "text": [
      "Exception in thread Thread-9702 (handle_cards):\n",
      "Traceback (most recent call last):\n",
      "  File \"/usr/lib/python3.10/threading.py\", line 1016, in _bootstrap_inner\n",
      "    self.run()\n",
      "  File \"/home/axten/.local/lib/python3.10/site-packages/ipykernel/ipkernel.py\", line 766, in run_closure\n",
      "    _threading_Thread_run(self)\n",
      "  File \"/usr/lib/python3.10/threading.py\", line 953, in run\n",
      "    self._target(*self._args, **self._kwargs)\n",
      "  File \"/mnt/nvme1n1p3/Documents/Codes/Python/ICON-23-24-EDH/src/grimoire.py\", line 245, in handle_cards\n",
      "    decks.find(decks_to_fetch, deck_id).add_commander(card)\n",
      "AttributeError: 'NoneType' object has no attribute 'add_commander'\n"
     ]
    },
    {
     "name": "stdout",
     "output_type": "stream",
     "text": [
      "Salvate 11 carte in Mono Green Eldrazi.pkl da Archidekt - 4.05 kB\n"
     ]
    },
    {
     "name": "stderr",
     "output_type": "stream",
     "text": [
      "Exception in thread Thread-9706 (handle_cards):\n",
      "Traceback (most recent call last):\n",
      "  File \"/usr/lib/python3.10/threading.py\", line 1016, in _bootstrap_inner\n",
      "    self.run()\n",
      "  File \"/home/axten/.local/lib/python3.10/site-packages/ipykernel/ipkernel.py\", line 766, in run_closure\n",
      "    _threading_Thread_run(self)\n",
      "  File \"/usr/lib/python3.10/threading.py\", line 953, in run\n",
      "    self._target(*self._args, **self._kwargs)\n",
      "  File \"/mnt/nvme1n1p3/Documents/Codes/Python/ICON-23-24-EDH/src/grimoire.py\", line 245, in handle_cards\n",
      "    decks.find(decks_to_fetch, deck_id).add_commander(card)\n",
      "AttributeError: 'NoneType' object has no attribute 'add_commander'\n"
     ]
    },
    {
     "name": "stdout",
     "output_type": "stream",
     "text": [
      "Salvate 19 carte in OCTOPUS.pkl da Archidekt - 6.97 kB\n",
      "Salvate 87 carte in Obuun Landfall.pkl da Archidekt - 31.82 kB\n",
      "Salvate 91 carte in Oloro - Anti Creature Combo.pkl da Archidekt - 29.76 kB\n",
      "Non riesco ad aggiungere altre carte, procedo oltre                \n",
      "Carico le carte dal grimorio di Vorin my clex\n",
      "Carico le carte dal grimorio di Racist Soldiers\n",
      "Carico le carte dal grimorio di Slobad Artifact\n",
      "Carico le carte dal grimorio di Dragon Fliker\n",
      "Carico le carte dal grimorio di Kiora Mistress of the Sea\n",
      "Carico le carte dal grimorio di Salt\n",
      "Carico le carte dal grimorio di K'rrik\n",
      "Carico le carte dal grimorio di Elesh Norn\n",
      "Carico le carte dal grimorio di Reach for the skies!\n",
      "Carico le carte dal grimorio di No bones about it\n",
      "Carico le carte dal grimorio di Top of the morning to ya!\n",
      "Carico le carte dal grimorio di Keyword White\n",
      "Carico le carte dal grimorio di Black Lifegain\n",
      "Carico le carte dal grimorio di Sygg's School for Merfolk\n",
      "Carico le carte dal grimorio di Wild Force\n",
      "Carico le carte dal grimorio di My Karona\n",
      "Carico le carte dal grimorio di Multicolored Madness\n",
      "Non riesco ad aggiungere altre carte, procedo oltre                \n",
      "Non riesco ad aggiungere altre carte, procedo oltre                \n",
      "Non riesco ad aggiungere altre carte, procedo oltre                \n",
      "Non riesco ad aggiungere altre carte, procedo oltre                \n",
      "Carico le carte dal grimorio di We are Warriors\n",
      "Carico le carte dal grimorio di Gummy Bugs\n",
      "Carico le carte dal grimorio di The gods cometh\n",
      "Carico le carte dal grimorio di Distribute the Strength\n",
      "Carico le carte dal grimorio di White Legendary\n",
      "Carico le carte dal grimorio di RATS\n",
      "Carico le carte dal grimorio di Cascade down the falls\n",
      "Carico le carte dal grimorio di Charge!\n",
      "Carico le carte dal grimorio di Words are Key\n",
      "Carico le carte dal grimorio di Code Red\n",
      "Carico le carte dal grimorio di May the Odds be forever in your favor\n",
      "Carico le carte dal grimorio di Zombie March\n",
      "Non riesco ad aggiungere altre carte, procedo oltre                \n",
      "Non riesco ad aggiungere altre carte, procedo oltre                \n",
      "Non riesco ad aggiungere altre carte, procedo oltre                \n",
      "Non riesco ad aggiungere altre carte, procedo oltre                \n",
      "Non riesco ad aggiungere altre carte, procedo oltre                \n",
      "Non riesco ad aggiungere altre carte, procedo oltre                \n"
     ]
    },
    {
     "name": "stderr",
     "output_type": "stream",
     "text": [
      "Exception in thread Thread-9762 (handle_cards):\n",
      "Traceback (most recent call last):\n",
      "  File \"/usr/lib/python3.10/threading.py\", line 1016, in _bootstrap_inner\n",
      "    self.run()\n",
      "  File \"/home/axten/.local/lib/python3.10/site-packages/ipykernel/ipkernel.py\", line 766, in run_closure\n",
      "    _threading_Thread_run(self)\n",
      "  File \"/usr/lib/python3.10/threading.py\", line 953, in run\n",
      "    self._target(*self._args, **self._kwargs)\n",
      "  File \"/mnt/nvme1n1p3/Documents/Codes/Python/ICON-23-24-EDH/src/grimoire.py\", line 245, in handle_cards\n",
      "    decks.find(decks_to_fetch, deck_id).add_commander(card)\n",
      "AttributeError: 'NoneType' object has no attribute 'add_commander'\n"
     ]
    },
    {
     "name": "stdout",
     "output_type": "stream",
     "text": [
      "Salvate 39 carte in Chaos Carnival.pkl da Archidekt - 15.43 kB\n",
      "Carico le carte dal grimorio di Copy of  - My Garage\n",
      "Carico le carte dal grimorio di Draw Me Dry\n",
      "Carico le carte dal grimorio di Angel Chorus\n",
      "Carico le carte dal grimorio di Let it go\n",
      "Carico le carte dal grimorio di Connive and Cycle\n",
      "Carico le carte dal grimorio di The Zombies Arise\n",
      "Carico le carte dal grimorio di Lands a plenty\n",
      "Carico le carte dal grimorio di Draw of the gods\n",
      "Carico le carte dal grimorio di Kk\n",
      "Carico le carte dal grimorio di Adventure Awaits\n",
      "Carico le carte dal grimorio di Random Deck 2\n",
      "Carico le carte dal grimorio di Random deck 1\n",
      "Carico le carte dal grimorio di Enduring Enchantments 20\n",
      "Carico le carte dal grimorio di I’m the Juggernaut!\n",
      "Carico le carte dal grimorio di Gladiatorial Brawl\n",
      "Carico le carte dal grimorio di Sacrificial Finisher\n",
      "Salvate 79 carte in Toymaker’s Circus.pkl da Archidekt - 27.7 kB\n",
      "Salvate 83 carte in Life in Metal.pkl da Archidekt - 28.88 kB\n"
     ]
    },
    {
     "name": "stderr",
     "output_type": "stream",
     "text": [
      "Exception in thread Thread-9774 (handle_cards):\n",
      "Traceback (most recent call last):\n",
      "  File \"/usr/lib/python3.10/threading.py\", line 1016, in _bootstrap_inner\n",
      "    self.run()\n",
      "  File \"/home/axten/.local/lib/python3.10/site-packages/ipykernel/ipkernel.py\", line 766, in run_closure\n",
      "    _threading_Thread_run(self)\n",
      "  File \"/usr/lib/python3.10/threading.py\", line 953, in run\n",
      "    self._target(*self._args, **self._kwargs)\n",
      "  File \"/mnt/nvme1n1p3/Documents/Codes/Python/ICON-23-24-EDH/src/grimoire.py\", line 245, in handle_cards\n",
      "    decks.find(decks_to_fetch, deck_id).add_commander(card)\n",
      "AttributeError: 'NoneType' object has no attribute 'add_commander'\n"
     ]
    },
    {
     "name": "stdout",
     "output_type": "stream",
     "text": [
      "Salvate 2 carte in Heroic Armaments.pkl da Archidekt - 1.14 kB\n"
     ]
    },
    {
     "name": "stderr",
     "output_type": "stream",
     "text": [
      "Exception in thread Thread-9778 (handle_cards):\n",
      "Traceback (most recent call last):\n",
      "  File \"/usr/lib/python3.10/threading.py\", line 1016, in _bootstrap_inner\n",
      "    self.run()\n",
      "  File \"/home/axten/.local/lib/python3.10/site-packages/ipykernel/ipkernel.py\", line 766, in run_closure\n",
      "    _threading_Thread_run(self)\n",
      "  File \"/usr/lib/python3.10/threading.py\", line 953, in run\n",
      "    self._target(*self._args, **self._kwargs)\n",
      "  File \"/mnt/nvme1n1p3/Documents/Codes/Python/ICON-23-24-EDH/src/grimoire.py\", line 245, in handle_cards\n",
      "    decks.find(decks_to_fetch, deck_id).add_commander(card)\n",
      "AttributeError: 'NoneType' object has no attribute 'add_commander'\n"
     ]
    },
    {
     "name": "stdout",
     "output_type": "stream",
     "text": [
      "Salvate 88 carte in Coveted Kinship.pkl da Archidekt - 29.46 kB\n"
     ]
    },
    {
     "name": "stderr",
     "output_type": "stream",
     "text": [
      "Exception in thread Thread-9782 (handle_cards):\n",
      "Traceback (most recent call last):\n",
      "  File \"/usr/lib/python3.10/threading.py\", line 1016, in _bootstrap_inner\n",
      "    self.run()\n",
      "  File \"/home/axten/.local/lib/python3.10/site-packages/ipykernel/ipkernel.py\", line 766, in run_closure\n",
      "    _threading_Thread_run(self)\n",
      "  File \"/usr/lib/python3.10/threading.py\", line 953, in run\n",
      "    self._target(*self._args, **self._kwargs)\n",
      "  File \"/mnt/nvme1n1p3/Documents/Codes/Python/ICON-23-24-EDH/src/grimoire.py\", line 245, in handle_cards\n",
      "    decks.find(decks_to_fetch, deck_id).add_commander(card)\n",
      "AttributeError: 'NoneType' object has no attribute 'add_commander'\n"
     ]
    },
    {
     "name": "stdout",
     "output_type": "stream",
     "text": [
      "Salvate 70 carte in The Dead Shall Rise.pkl da Archidekt - 24.72 kB\n",
      "Non riesco ad aggiungere altre carte, procedo oltre                \n",
      "Non riesco ad aggiungere altre carte, procedo oltre                \n",
      "Non riesco ad aggiungere altre carte, procedo oltre                \n",
      "Carico le carte dal grimorio di Dwarven Lands\n",
      "Carico le carte dal grimorio di Blink of an Eye\n",
      "Carico le carte dal grimorio di All Out Attack\n",
      "Carico le carte dal grimorio di Drawing Drakes\n",
      "Carico le carte dal grimorio di Nature’s Wraith\n",
      "Carico le carte dal grimorio di Swift Arcana\n",
      "Carico le carte dal grimorio di Elesh\n",
      "Carico le carte dal grimorio di Speed of the dead\n",
      "Carico le carte dal grimorio di Wizards\n",
      "Carico le carte dal grimorio di Red Infinite\n",
      "Carico le carte dal grimorio di Multi-Energy\n",
      "Non riesco ad aggiungere altre carte, procedo oltre                \n",
      "Non riesco ad aggiungere altre carte, procedo oltre                \n",
      "Non riesco ad aggiungere altre carte, procedo oltre                \n",
      "Non riesco ad aggiungere altre carte, procedo oltre                \n",
      "Carico le carte dal grimorio di Red Hot Fire\n",
      "Carico le carte dal grimorio di Codey Niv Mizzet\n",
      "Carico le carte dal grimorio di Birds of a feather\n",
      "Carico le carte dal grimorio di Kor Tribal\n",
      "Carico le carte dal grimorio di I hate snakes\n",
      "Carico le carte dal grimorio di Spirits awaken\n",
      "Non riesco ad aggiungere altre carte, procedo oltre                \n",
      "Carico le carte dal grimorio di CEDH 1\n",
      "Carico le carte dal grimorio di Flash Dragon\n",
      "Carico le carte dal grimorio di Now Draw\n",
      "Carico le carte dal grimorio di Long live the King\n",
      "Carico le carte dal grimorio di Myr Tribal\n",
      "Carico le carte dal grimorio di Yore My Treasure\n",
      "Carico le carte dal grimorio di Meren Lifegain\n",
      "Carico le carte dal grimorio di Ocean Depths Mill\n",
      "Carico le carte dal grimorio di Obeka\n",
      "Carico le carte dal grimorio di Angel Life BW\n",
      "Carico le carte dal grimorio di Greymond Templars\n",
      "Carico le carte dal grimorio di Giada Angels (Very Unique!)\n",
      "Non riesco ad aggiungere altre carte, procedo oltre                \n",
      "Non riesco ad aggiungere altre carte, procedo oltre                \n",
      "Non riesco ad aggiungere altre carte, procedo oltre                \n"
     ]
    },
    {
     "name": "stderr",
     "output_type": "stream",
     "text": [
      "Exception in thread Thread-9830 (handle_cards):\n",
      "Traceback (most recent call last):\n",
      "  File \"/usr/lib/python3.10/threading.py\", line 1016, in _bootstrap_inner\n",
      "    self.run()\n",
      "  File \"/home/axten/.local/lib/python3.10/site-packages/ipykernel/ipkernel.py\", line 766, in run_closure\n",
      "    _threading_Thread_run(self)\n",
      "  File \"/usr/lib/python3.10/threading.py\", line 953, in run\n",
      "    self._target(*self._args, **self._kwargs)\n",
      "  File \"/mnt/nvme1n1p3/Documents/Codes/Python/ICON-23-24-EDH/src/grimoire.py\", line 245, in handle_cards\n",
      "    decks.find(decks_to_fetch, deck_id).add_commander(card)\n",
      "AttributeError: 'NoneType' object has no attribute 'add_commander'\n"
     ]
    },
    {
     "name": "stdout",
     "output_type": "stream",
     "text": [
      "Salvate 10 carte in H-O-R-S-E.pkl da Archidekt - 3.89 kB\n"
     ]
    },
    {
     "name": "stderr",
     "output_type": "stream",
     "text": [
      "Exception in thread Thread-9834 (handle_cards):\n",
      "Traceback (most recent call last):\n",
      "  File \"/usr/lib/python3.10/threading.py\", line 1016, in _bootstrap_inner\n",
      "    self.run()\n",
      "  File \"/home/axten/.local/lib/python3.10/site-packages/ipykernel/ipkernel.py\", line 766, in run_closure\n",
      "    _threading_Thread_run(self)\n",
      "  File \"/usr/lib/python3.10/threading.py\", line 953, in run\n",
      "    self._target(*self._args, **self._kwargs)\n",
      "  File \"/mnt/nvme1n1p3/Documents/Codes/Python/ICON-23-24-EDH/src/grimoire.py\", line 245, in handle_cards\n",
      "    decks.find(decks_to_fetch, deck_id).add_commander(card)\n",
      "AttributeError: 'NoneType' object has no attribute 'add_commander'\n"
     ]
    },
    {
     "name": "stdout",
     "output_type": "stream",
     "text": [
      "Salvate 52 carte in Bober Kurwa.pkl da Archidekt - 20.5 kB\n",
      "Ho raccolto 0 carte finora\r"
     ]
    },
    {
     "name": "stderr",
     "output_type": "stream",
     "text": [
      "Exception in thread Thread-9842 (handle_cards):\n",
      "Traceback (most recent call last):\n",
      "  File \"/usr/lib/python3.10/threading.py\", line 1016, in _bootstrap_inner\n",
      "    self.run()\n",
      "  File \"/home/axten/.local/lib/python3.10/site-packages/ipykernel/ipkernel.py\", line 766, in run_closure\n",
      "    _threading_Thread_run(self)\n",
      "  File \"/usr/lib/python3.10/threading.py\", line 953, in run\n",
      "    self._target(*self._args, **self._kwargs)\n",
      "  File \"/mnt/nvme1n1p3/Documents/Codes/Python/ICON-23-24-EDH/src/grimoire.py\", line 245, in handle_cards\n",
      "    decks.find(decks_to_fetch, deck_id).add_commander(card)\n",
      "AttributeError: 'NoneType' object has no attribute 'add_commander'\n"
     ]
    },
    {
     "name": "stdout",
     "output_type": "stream",
     "text": [
      "Salvate 134 carte in Dynamic Duo!.pkl da Archidekt - 47.48 kB\n"
     ]
    },
    {
     "name": "stderr",
     "output_type": "stream",
     "text": [
      "Exception in thread Thread-9846 (handle_cards):\n",
      "Traceback (most recent call last):\n",
      "  File \"/usr/lib/python3.10/threading.py\", line 1016, in _bootstrap_inner\n",
      "    self.run()\n",
      "  File \"/home/axten/.local/lib/python3.10/site-packages/ipykernel/ipkernel.py\", line 766, in run_closure\n",
      "    _threading_Thread_run(self)\n",
      "  File \"/usr/lib/python3.10/threading.py\", line 953, in run\n",
      "    self._target(*self._args, **self._kwargs)\n",
      "  File \"/mnt/nvme1n1p3/Documents/Codes/Python/ICON-23-24-EDH/src/grimoire.py\", line 245, in handle_cards\n",
      "    decks.find(decks_to_fetch, deck_id).add_commander(card)\n",
      "AttributeError: 'NoneType' object has no attribute 'add_commander'\n"
     ]
    },
    {
     "name": "stdout",
     "output_type": "stream",
     "text": [
      "Salvate 47 carte in Gimli Voltron.pkl da Archidekt - 12.99 kB\n",
      "Salvate 86 carte in Midnight Boros Angels WIP.pkl da Archidekt - 29.86 kB\n",
      "Salvate 84 carte in Atla Palani, Nest Tender.pkl da Archidekt - 28.96 kB\n",
      "Carico le carte dal grimorio di Slurms Mackenzie\n",
      "Carico le carte dal grimorio di Golden Girls (Retired)\n",
      "Carico le carte dal grimorio di Very Tough Turtles (and co)\n",
      "Carico le carte dal grimorio di Mazirek SZN (Retired)\n",
      "Carico le carte dal grimorio di Selesnya Tokens Wide\n",
      "Carico le carte dal grimorio di Housekeeping\n",
      "Carico le carte dal grimorio di Eriette of the Charmed Apple\n",
      "Carico le carte dal grimorio di Judge Judy\n",
      "Carico le carte dal grimorio di Small Cascades\n",
      "Carico le carte dal grimorio di H-O-R-S-E (TokensWIP)\n",
      "Carico le carte dal grimorio di Man's Best Friend(s)\n",
      "Carico le carte dal grimorio di 1-Creature Rhys\n",
      "Carico le carte dal grimorio di Prosper Tome\n",
      "Carico le carte dal grimorio di Marchesa Wizards\n",
      "Carico le carte dal grimorio di Nekusar EDH\n",
      "Non riesco ad aggiungere altre carte, procedo oltre                \n",
      "Non riesco ad aggiungere altre carte, procedo oltre                \n",
      "Non riesco ad aggiungere altre carte, procedo oltre                \n",
      "Non riesco ad aggiungere altre carte, procedo oltre                \n",
      "Non riesco ad aggiungere altre carte, procedo oltre                \n",
      "Carico le carte dal grimorio di Ognis, the Dragon's Lash\n",
      "Carico le carte dal grimorio di Jan Jansen, Chaos Crafter\n",
      "Carico le carte dal grimorio di Galadriel, Light of Valinor\n",
      "Carico le carte dal grimorio di Savra, Queen of the Golgari\n",
      "Carico le carte dal grimorio di Noble Bae\n",
      "Carico le carte dal grimorio di Thieving Pupper\n",
      "Carico le carte dal grimorio di Rad Mill\n",
      "Carico le carte dal grimorio di Ojer Axonil, Deepest Might\n",
      "Carico le carte dal grimorio di Nekusar, the Mindrazer\n",
      "Carico le carte dal grimorio di Saryth, the Viper's Fang\n",
      "Non riesco ad aggiungere altre carte, procedo oltre                \n",
      "Non riesco ad aggiungere altre carte, procedo oltre                \n",
      "Non riesco ad aggiungere altre carte, procedo oltre                \n",
      "Non riesco ad aggiungere altre carte, procedo oltre                \n",
      "Non riesco ad aggiungere altre carte, procedo oltre                \n",
      "Non riesco ad aggiungere altre carte, procedo oltre                \n",
      "Carico le carte dal grimorio di Najeela, the Blade-Blossom (BUDGET)\n",
      "Carico le carte dal grimorio di Jarad Reanimater\n",
      "Carico le carte dal grimorio di Modular Meanies\n",
      "Carico le carte dal grimorio di The Lord of Horses\n",
      "Carico le carte dal grimorio di Eluge CEDH\n",
      "Carico le carte dal grimorio di Kyogre plays MTG\n",
      "Carico le carte dal grimorio di CEDH Kitsa, Otterball Elite\n",
      "Carico le carte dal grimorio di Born to Die\n",
      "Carico le carte dal grimorio di That One Star Trek Episode\n",
      "Carico le carte dal grimorio di A Murder Most Fowl\n",
      "Carico le carte dal grimorio di Meatgrinder\n",
      "Carico le carte dal grimorio di Rex\n"
     ]
    },
    {
     "name": "stderr",
     "output_type": "stream",
     "text": [
      "Exception in thread Thread-9902 (handle_cards):\n",
      "Traceback (most recent call last):\n",
      "  File \"/usr/lib/python3.10/threading.py\", line 1016, in _bootstrap_inner\n",
      "    self.run()\n",
      "  File \"/home/axten/.local/lib/python3.10/site-packages/ipykernel/ipkernel.py\", line 766, in run_closure\n",
      "    _threading_Thread_run(self)\n",
      "  File \"/usr/lib/python3.10/threading.py\", line 953, in run\n",
      "    self._target(*self._args, **self._kwargs)\n",
      "  File \"/mnt/nvme1n1p3/Documents/Codes/Python/ICON-23-24-EDH/src/grimoire.py\", line 245, in handle_cards\n",
      "    decks.find(decks_to_fetch, deck_id).add_commander(card)\n",
      "AttributeError: 'NoneType' object has no attribute 'add_commander'\n"
     ]
    },
    {
     "name": "stdout",
     "output_type": "stream",
     "text": [
      "Salvate 2 carte in The Game was Rigged from the Start.pkl da Archidekt - 0.98 kB\n",
      "Non riesco ad aggiungere altre carte, procedo oltre                \n",
      "Salvate 286 carte in DOG! The bounty hunter.pkl da Archidekt - 101.02 kB\n",
      "Salvate 150 carte in Fatherhood.pkl da Archidekt - 49.37 kB\n",
      "Salvate 184 carte in Ugly Poison Ivy.pkl da Archidekt - 65.49 kB\n",
      "Non riesco ad aggiungere altre carte, procedo oltre                \n",
      "Non riesco ad aggiungere altre carte, procedo oltre                \n",
      "Non riesco ad aggiungere altre carte, procedo oltre                \n",
      "Non riesco ad aggiungere altre carte, procedo oltre                \n",
      "Non riesco ad aggiungere altre carte, procedo oltre                \n",
      "Carico le carte dal grimorio di Bria\n",
      "Carico le carte dal grimorio di Azlask\n",
      "Carico le carte dal grimorio di Black Wave\n",
      "Carico le carte dal grimorio di Copy of - Radha's Explosive Vegetables\n",
      "Carico le carte dal grimorio di Shadow Wizard Money Gang\n",
      "Carico le carte dal grimorio di Rated E for Everyone\n",
      "Carico le carte dal grimorio di Quest for the Janklord deck\n",
      "Carico le carte dal grimorio di You can fuck the bear\n",
      "Carico le carte dal grimorio di Drury Lane Defenders\n",
      "Non riesco ad aggiungere altre carte, procedo oltre                \n",
      "Carico le carte dal grimorio di and a Diet Cloak, please\n",
      "Carico le carte dal grimorio di Quantum Superposition\n",
      "Carico le carte dal grimorio di Copy of - I'm Looking Respectfully\n",
      "Carico le carte dal grimorio di Jhoira can't even\n",
      "Carico le carte dal grimorio di I Hope CS Lewis' Estate Doesn't Sue Me\n",
      "Non riesco ad aggiungere altre carte, procedo oltre                \n",
      "Non riesco ad aggiungere altre carte, procedo oltre                \n",
      "Non riesco ad aggiungere altre carte, procedo oltre                \n",
      "Non riesco ad aggiungere altre carte, procedo oltre                \n",
      "Carico le carte dal grimorio di Born to Die (backup copy)\n",
      "Carico le carte dal grimorio di Wishlist\n",
      "Carico le carte dal grimorio di Hosts of Mordor\n",
      "Carico le carte dal grimorio di Hosts of Mordor v2\n",
      "Carico le carte dal grimorio di Friends&Fellowship\n",
      "Carico le carte dal grimorio di niv + umori\n",
      "Carico le carte dal grimorio di Samurai Storm\n",
      "Carico le carte dal grimorio di The Australian  Embassy Would Like To Speak With You\n",
      "Carico le carte dal grimorio di Horsies\n",
      "Carico le carte dal grimorio di Malcolm in the Middle - Reese Joins the Army 2\n",
      "Non riesco ad aggiungere altre carte, procedo oltre                \n"
     ]
    },
    {
     "name": "stderr",
     "output_type": "stream",
     "text": [
      "Exception in thread Thread-9966 (handle_cards):\n",
      "Traceback (most recent call last):\n",
      "  File \"/usr/lib/python3.10/threading.py\", line 1016, in _bootstrap_inner\n",
      "    self.run()\n",
      "  File \"/home/axten/.local/lib/python3.10/site-packages/ipykernel/ipkernel.py\", line 766, in run_closure\n",
      "    _threading_Thread_run(self)\n",
      "  File \"/usr/lib/python3.10/threading.py\", line 953, in run\n",
      "    self._target(*self._args, **self._kwargs)\n",
      "  File \"/mnt/nvme1n1p3/Documents/Codes/Python/ICON-23-24-EDH/src/grimoire.py\", line 245, in handle_cards\n",
      "    decks.find(decks_to_fetch, deck_id).add_commander(card)\n",
      "AttributeError: 'NoneType' object has no attribute 'add_commander'\n"
     ]
    },
    {
     "name": "stdout",
     "output_type": "stream",
     "text": [
      "Salvate 10 carte in Move Over Dr. Strange!.pkl da Archidekt - 3.98 kB\n"
     ]
    },
    {
     "name": "stderr",
     "output_type": "stream",
     "text": [
      "Exception in thread Thread-9970 (handle_cards):\n",
      "Traceback (most recent call last):\n",
      "  File \"/usr/lib/python3.10/threading.py\", line 1016, in _bootstrap_inner\n",
      "    self.run()\n",
      "  File \"/home/axten/.local/lib/python3.10/site-packages/ipykernel/ipkernel.py\", line 766, in run_closure\n",
      "    _threading_Thread_run(self)\n",
      "  File \"/usr/lib/python3.10/threading.py\", line 953, in run\n",
      "    self._target(*self._args, **self._kwargs)\n",
      "  File \"/mnt/nvme1n1p3/Documents/Codes/Python/ICON-23-24-EDH/src/grimoire.py\", line 245, in handle_cards\n",
      "    decks.find(decks_to_fetch, deck_id).add_commander(card)\n",
      "AttributeError: 'NoneType' object has no attribute 'add_commander'\n"
     ]
    },
    {
     "name": "stdout",
     "output_type": "stream",
     "text": [
      "Salvate 124 carte in Worm Sign.pkl da Archidekt - 43.78 kB\n"
     ]
    },
    {
     "name": "stderr",
     "output_type": "stream",
     "text": [
      "Exception in thread Thread-9974 (handle_cards):\n",
      "Traceback (most recent call last):\n",
      "  File \"/usr/lib/python3.10/threading.py\", line 1016, in _bootstrap_inner\n",
      "    self.run()\n",
      "  File \"/home/axten/.local/lib/python3.10/site-packages/ipykernel/ipkernel.py\", line 766, in run_closure\n",
      "    _threading_Thread_run(self)\n",
      "  File \"/usr/lib/python3.10/threading.py\", line 953, in run\n",
      "    self._target(*self._args, **self._kwargs)\n",
      "  File \"/mnt/nvme1n1p3/Documents/Codes/Python/ICON-23-24-EDH/src/grimoire.py\", line 245, in handle_cards\n",
      "    decks.find(decks_to_fetch, deck_id).add_commander(card)\n",
      "AttributeError: 'NoneType' object has no attribute 'add_commander'\n"
     ]
    },
    {
     "name": "stdout",
     "output_type": "stream",
     "text": [
      "Salvate 60 carte in Desert Power.pkl da Archidekt - 23.38 kB\n",
      "Salvate 393 carte in Grixis Voltron.pkl da Archidekt - 143.54 kB\n",
      "Non riesco ad aggiungere altre carte, procedo oltre                \n",
      "Non riesco ad aggiungere altre carte, procedo oltre                \n",
      "Carico le carte dal grimorio di I don't need no stinkin' instants\n",
      "Carico le carte dal grimorio di I'm Hungry\n",
      "Carico le carte dal grimorio di The Waifu Deck\n",
      "Carico le carte dal grimorio di httpsyoutubeyvQ4t-Nk128t=20\n",
      "Carico le carte dal grimorio di GrraaaarghHoooo!\n",
      "Carico le carte dal grimorio di Furious Fortelling for Fun, Fame, fand Flory\n",
      "Carico le carte dal grimorio di 35 Monster Manuals are the best\n",
      "Carico le carte dal grimorio di Check Out Her Ab-zan\n",
      "Carico le carte dal grimorio di Snakes On A Plane (Of Existence)\n",
      "Carico le carte dal grimorio di Dungeons & Diners & Dragons & Drive-ins & Dives\n",
      "Carico le carte dal grimorio di The Dwarf\n",
      "Carico le carte dal grimorio di Sabotage\n",
      "Carico le carte dal grimorio di The Ranger\n",
      "Carico le carte dal grimorio di The Archer\n",
      "Carico le carte dal grimorio di The Barbarian\n",
      "Carico le carte dal grimorio di Climb to Glory\n",
      "Carico le carte dal grimorio di Dimir Pingers\n",
      "Non riesco ad aggiungere altre carte, procedo oltre                \n",
      "Non riesco ad aggiungere altre carte, procedo oltre                \n",
      "Non riesco ad aggiungere altre carte, procedo oltre                \n",
      "Non riesco ad aggiungere altre carte, procedo oltre                \n",
      "Non riesco ad aggiungere altre carte, procedo oltre                \n",
      "Non riesco ad aggiungere altre carte, procedo oltre                \n",
      "Carico le carte dal grimorio di Down With The Sickness\n",
      "Carico le carte dal grimorio di JAYZUS CHROIST!\n",
      "Carico le carte dal grimorio di Proxy order dupe check\n",
      "Carico le carte dal grimorio di Boop the Snoot\n",
      "Carico le carte dal grimorio di Omnath Wants Numnums\n",
      "Carico le carte dal grimorio di Copy of - Magnus' Opus\n",
      "Carico le carte dal grimorio di Copy of - Omnath Wants Numnums\n",
      "Carico le carte dal grimorio di Grixis Voltron (Dragon's Approach)\n",
      "Carico le carte dal grimorio di International Spelling Drake Competition\n",
      "Non riesco ad aggiungere altre carte, procedo oltre                \n",
      "Non riesco ad aggiungere altre carte, procedo oltre                \n",
      "Non riesco ad aggiungere altre carte, procedo oltre                \n"
     ]
    },
    {
     "name": "stderr",
     "output_type": "stream",
     "text": [
      "Exception in thread Thread-10026 (handle_cards):\n",
      "Traceback (most recent call last):\n",
      "  File \"/usr/lib/python3.10/threading.py\", line 1016, in _bootstrap_inner\n",
      "    self.run()\n",
      "  File \"/home/axten/.local/lib/python3.10/site-packages/ipykernel/ipkernel.py\", line 766, in run_closure\n",
      "    _threading_Thread_run(self)\n",
      "  File \"/usr/lib/python3.10/threading.py\", line 953, in run\n",
      "    self._target(*self._args, **self._kwargs)\n",
      "  File \"/mnt/nvme1n1p3/Documents/Codes/Python/ICON-23-24-EDH/src/grimoire.py\", line 245, in handle_cards\n",
      "    decks.find(decks_to_fetch, deck_id).add_commander(card)\n",
      "AttributeError: 'NoneType' object has no attribute 'add_commander'\n"
     ]
    },
    {
     "name": "stdout",
     "output_type": "stream",
     "text": [
      "Salvate 24 carte in So many spells.pkl da Archidekt - 9.5 kB\n",
      "Carico le carte dal grimorio di Spicy Boom\n",
      "Carico le carte dal grimorio di Feb 2023 deckbuilding contest\n",
      "Carico le carte dal grimorio di Proliferate tribal\n",
      "Carico le carte dal grimorio di Unstoppable Object Immovable Force\n",
      "Carico le carte dal grimorio di Myr Tribal\n",
      "Carico le carte dal grimorio di Jewish Folklore\n",
      "Carico le carte dal grimorio di Nice Card I Want It\n",
      "Carico le carte dal grimorio di Jin GiSTAXias, Progress Tyrant\n",
      "Carico le carte dal grimorio di Dare You Enter My Magical Realm\n",
      "Carico le carte dal grimorio di Crunchatize me, Cap'n!\n",
      "Carico le carte dal grimorio di Wayne's World\n",
      "Carico le carte dal grimorio di Joyride Accomplices\n",
      "Carico le carte dal grimorio di Mommy, Please Compleat Me!\n",
      "Carico le carte dal grimorio di Boros Musketeers\n",
      "Carico le carte dal grimorio di [PREPARING] Your Deck is Now Cake\n"
     ]
    },
    {
     "name": "stderr",
     "output_type": "stream",
     "text": [
      "Exception in thread Thread-10030 (handle_cards):\n",
      "Traceback (most recent call last):\n",
      "  File \"/usr/lib/python3.10/threading.py\", line 1016, in _bootstrap_inner\n",
      "    self.run()\n",
      "  File \"/home/axten/.local/lib/python3.10/site-packages/ipykernel/ipkernel.py\", line 766, in run_closure\n",
      "    _threading_Thread_run(self)\n",
      "  File \"/usr/lib/python3.10/threading.py\", line 953, in run\n",
      "    self._target(*self._args, **self._kwargs)\n",
      "  File \"/mnt/nvme1n1p3/Documents/Codes/Python/ICON-23-24-EDH/src/grimoire.py\", line 245, in handle_cards\n",
      "    decks.find(decks_to_fetch, deck_id).add_commander(card)\n",
      "AttributeError: 'NoneType' object has no attribute 'add_commander'\n"
     ]
    },
    {
     "name": "stdout",
     "output_type": "stream",
     "text": [
      "Salvate 43 carte in [BUILDING] I Let the Dogs Out.pkl da Archidekt - 18.36 kB\n",
      "Salvate 87 carte in [BUILDING] Relieved from Duty.pkl da Archidekt - 35.89 kB\n",
      "Non riesco ad aggiungere altre carte, procedo oltre                \n",
      "Non riesco ad aggiungere altre carte, procedo oltre                \n",
      "Non riesco ad aggiungere altre carte, procedo oltre                \n",
      "Non riesco ad aggiungere altre carte, procedo oltre                \n",
      "Non riesco ad aggiungere altre carte, procedo oltre                \n",
      "Non riesco ad aggiungere altre carte, procedo oltre                \n",
      "Non riesco ad aggiungere altre carte, procedo oltre                \n",
      "Non riesco ad aggiungere altre carte, procedo oltre                \n",
      "Non riesco ad aggiungere altre carte, procedo oltre                \n",
      "Carico le carte dal grimorio di [COMPLETE] Dark Matter\n",
      "Carico le carte dal grimorio di [COMPLETE] Adventure Time!\n",
      "Carico le carte dal grimorio di [PREPARING] Perhaps You Imagined Losing\n",
      "Carico le carte dal grimorio di [COMPLETE] Your Queen Has Arrived\n",
      "Carico le carte dal grimorio di [COMPLETE] What is Dead May Never Die\n",
      "Carico le carte dal grimorio di [COMPLETE] Little Ship of Horrors\n",
      "Carico le carte dal grimorio di [COMPLETE] Open the Crypts, I Need More Bodies\n",
      "Carico le carte dal grimorio di [COMPLETE] Friendship is Lifegain\n",
      "Carico le carte dal grimorio di [COMPLETE] Retro is Chic\n",
      "Carico le carte dal grimorio di [COMPLETE] The Coming Storm\n",
      "Carico le carte dal grimorio di [PREPARING] The Dead Rise for War\n",
      "Carico le carte dal grimorio di [PREPARING] Trial by Fire\n",
      "Carico le carte dal grimorio di [PREPARING] Beauty and the Beast\n",
      "Carico le carte dal grimorio di [READY] Awesomely Cool Legends\n",
      "Carico le carte dal grimorio di [READY] Hungry Hungry Thromok\n",
      "Non riesco ad aggiungere altre carte, procedo oltre                \n",
      "Non riesco ad aggiungere altre carte, procedo oltre                \n",
      "Non riesco ad aggiungere altre carte, procedo oltre                \n"
     ]
    },
    {
     "name": "stderr",
     "output_type": "stream",
     "text": [
      "Exception in thread Thread-10086 (handle_cards):\n",
      "Traceback (most recent call last):\n",
      "  File \"/usr/lib/python3.10/threading.py\", line 1016, in _bootstrap_inner\n",
      "    self.run()\n",
      "  File \"/home/axten/.local/lib/python3.10/site-packages/ipykernel/ipkernel.py\", line 766, in run_closure\n",
      "    _threading_Thread_run(self)\n",
      "  File \"/usr/lib/python3.10/threading.py\", line 953, in run\n",
      "    self._target(*self._args, **self._kwargs)\n",
      "  File \"/mnt/nvme1n1p3/Documents/Codes/Python/ICON-23-24-EDH/src/grimoire.py\", line 245, in handle_cards\n",
      "    decks.find(decks_to_fetch, deck_id).add_commander(card)\n",
      "AttributeError: 'NoneType' object has no attribute 'add_commander'\n"
     ]
    },
    {
     "name": "stdout",
     "output_type": "stream",
     "text": [
      "Salvate 16 carte in [READY] The Happiest Salesphant Around.pkl da Archidekt - 6.28 kB\n"
     ]
    },
    {
     "name": "stderr",
     "output_type": "stream",
     "text": [
      "Exception in thread Thread-10090 (handle_cards):\n",
      "Traceback (most recent call last):\n",
      "  File \"/usr/lib/python3.10/threading.py\", line 1016, in _bootstrap_inner\n",
      "    self.run()\n",
      "  File \"/home/axten/.local/lib/python3.10/site-packages/ipykernel/ipkernel.py\", line 766, in run_closure\n",
      "    _threading_Thread_run(self)\n",
      "  File \"/usr/lib/python3.10/threading.py\", line 953, in run\n",
      "    self._target(*self._args, **self._kwargs)\n",
      "  File \"/mnt/nvme1n1p3/Documents/Codes/Python/ICON-23-24-EDH/src/grimoire.py\", line 245, in handle_cards\n",
      "    decks.find(decks_to_fetch, deck_id).add_commander(card)\n",
      "AttributeError: 'NoneType' object has no attribute 'add_commander'\n"
     ]
    },
    {
     "name": "stdout",
     "output_type": "stream",
     "text": [
      "Salvate 26 carte in [READY] The Gold Rush.pkl da Archidekt - 10.05 kB\n",
      "Carico le carte dal grimorio di [COMPLETE] Spore Creature Creator\n",
      "Carico le carte dal grimorio di [COMPLETE] This is Not a Democracy\n",
      "Carico le carte dal grimorio di [COMPLETE] StarClan's Rise\n",
      "Carico le carte dal grimorio di [READY] Tasty Tasty Tokens\n",
      "Carico le carte dal grimorio di [READY] Perplexing Pests\n",
      "Carico le carte dal grimorio di [READY] Slimy Takeover\n",
      "Carico le carte dal grimorio di Wild Magic\n",
      "Carico le carte dal grimorio di War Angels\n",
      "Carico le carte dal grimorio di 2s Table\n"
     ]
    },
    {
     "name": "stderr",
     "output_type": "stream",
     "text": [
      "Exception in thread Thread-10094 (handle_cards):\n",
      "Traceback (most recent call last):\n",
      "  File \"/usr/lib/python3.10/threading.py\", line 1016, in _bootstrap_inner\n",
      "    self.run()\n",
      "  File \"/home/axten/.local/lib/python3.10/site-packages/ipykernel/ipkernel.py\", line 766, in run_closure\n",
      "    _threading_Thread_run(self)\n",
      "  File \"/usr/lib/python3.10/threading.py\", line 953, in run\n",
      "    self._target(*self._args, **self._kwargs)\n",
      "  File \"/mnt/nvme1n1p3/Documents/Codes/Python/ICON-23-24-EDH/src/grimoire.py\", line 245, in handle_cards\n",
      "    decks.find(decks_to_fetch, deck_id).add_commander(card)\n",
      "AttributeError: 'NoneType' object has no attribute 'add_commander'\n"
     ]
    },
    {
     "name": "stdout",
     "output_type": "stream",
     "text": [
      "Salvate 94 carte in Elrond, Master of Scrying.pkl da Archidekt - 29.6 kB\n",
      "Non riesco ad aggiungere altre carte, procedo oltre                \n",
      "Salvate 84 carte in The Big Grey Goose Honk!.pkl da Archidekt - 30.05 kB\n",
      "Salvate 89 carte in Twilight.pkl da Archidekt - 30.15 kB\n",
      "Salvate 93 carte in Lord of Mordor.pkl da Archidekt - 35.77 kB\n",
      "Non riesco ad aggiungere altre carte, procedo oltre                \n",
      "Carico le carte dal grimorio di Rotten Legendary Menu\n",
      "Carico le carte dal grimorio di Weapons\n",
      "Carico le carte dal grimorio di elves\n",
      "Carico le carte dal grimorio di Flubs, the Fool\n",
      "Carico le carte dal grimorio di Lets HOP to it!\n",
      "Carico le carte dal grimorio di Ain't That Grand\n",
      "Carico le carte dal grimorio di Megatron [Budget]\n",
      "Carico le carte dal grimorio di The Hobbits are taking back Isengard\n",
      "Carico le carte dal grimorio di Mayael The Anima\n",
      "Carico le carte dal grimorio di Kaalia of the Vast\n",
      "Carico le carte dal grimorio di Discard please and thank you, don't forget to tip\n",
      "Carico le carte dal grimorio di burn it all\n",
      "Carico le carte dal grimorio di ragavan boner jams 09\n",
      "Carico le carte dal grimorio di Flap flap vamp sac\n",
      "Carico le carte dal grimorio di Bloomy\n",
      "Carico le carte dal grimorio di Yuriko\n",
      "Non riesco ad aggiungere altre carte, procedo oltre                \n",
      "Non riesco ad aggiungere altre carte, procedo oltre                \n",
      "Non riesco ad aggiungere altre carte, procedo oltre                \n",
      "Carico le carte dal grimorio di Zombies\n",
      "Non riesco ad aggiungere altre carte, procedo oltre                \n",
      "Non riesco ad aggiungere altre carte, procedo oltre                \n",
      "Non riesco ad aggiungere altre carte, procedo oltre                \n",
      "Non riesco ad aggiungere altre carte, procedo oltre                \n",
      "Non riesco ad aggiungere altre carte, procedo oltre                \n",
      "Non riesco ad aggiungere altre carte, procedo oltre                \n",
      "Carico le carte dal grimorio di Ow gimmie gimmie!\n",
      "Carico le carte dal grimorio di Bonny Pall & Bo Gonna fuck yo itch\n",
      "Carico le carte dal grimorio di Ghyrson Starn, pew pew (Non-Cedh)\n"
     ]
    },
    {
     "name": "stderr",
     "output_type": "stream",
     "text": [
      "Exception in thread Thread-10154 (handle_cards):\n",
      "Traceback (most recent call last):\n",
      "  File \"/usr/lib/python3.10/threading.py\", line 1016, in _bootstrap_inner\n",
      "    self.run()\n",
      "  File \"/home/axten/.local/lib/python3.10/site-packages/ipykernel/ipkernel.py\", line 766, in run_closure\n",
      "    _threading_Thread_run(self)\n",
      "  File \"/usr/lib/python3.10/threading.py\", line 953, in run\n",
      "    self._target(*self._args, **self._kwargs)\n",
      "  File \"/mnt/nvme1n1p3/Documents/Codes/Python/ICON-23-24-EDH/src/grimoire.py\", line 245, in handle_cards\n",
      "    decks.find(decks_to_fetch, deck_id).add_commander(card)\n",
      "AttributeError: 'NoneType' object has no attribute 'add_commander'\n"
     ]
    },
    {
     "name": "stdout",
     "output_type": "stream",
     "text": [
      "Salvate 57 carte in Watcher tentacles.pkl da Archidekt - 19.37 kB\n"
     ]
    },
    {
     "name": "stderr",
     "output_type": "stream",
     "text": [
      "Exception in thread Thread-10158 (handle_cards):\n",
      "Traceback (most recent call last):\n",
      "  File \"/usr/lib/python3.10/threading.py\", line 1016, in _bootstrap_inner\n",
      "    self.run()\n",
      "  File \"/home/axten/.local/lib/python3.10/site-packages/ipykernel/ipkernel.py\", line 766, in run_closure\n",
      "    _threading_Thread_run(self)\n",
      "  File \"/usr/lib/python3.10/threading.py\", line 953, in run\n",
      "    self._target(*self._args, **self._kwargs)\n",
      "  File \"/mnt/nvme1n1p3/Documents/Codes/Python/ICON-23-24-EDH/src/grimoire.py\", line 245, in handle_cards\n",
      "    decks.find(decks_to_fetch, deck_id).add_commander(card)\n",
      "AttributeError: 'NoneType' object has no attribute 'add_commander'\n"
     ]
    },
    {
     "name": "stdout",
     "output_type": "stream",
     "text": [
      "Salvate 94 carte in Vamp draw.pkl da Archidekt - 32.51 kB\n",
      "Salvate 84 carte in Soldiers Be Soldiering.pkl da Archidekt - 29.69 kB\n",
      "Carico le carte dal grimorio di K'rrik Son of Yaw\n",
      "Carico le carte dal grimorio di LifeDeath\n",
      "Carico le carte dal grimorio di Hydra-X\n",
      "Carico le carte dal grimorio di Pirate CEDH trial\n"
     ]
    },
    {
     "name": "stderr",
     "output_type": "stream",
     "text": [
      "Exception in thread Thread-10166 (handle_cards):\n",
      "Traceback (most recent call last):\n",
      "  File \"/usr/lib/python3.10/threading.py\", line 1016, in _bootstrap_inner\n",
      "    self.run()\n",
      "  File \"/home/axten/.local/lib/python3.10/site-packages/ipykernel/ipkernel.py\", line 766, in run_closure\n",
      "    _threading_Thread_run(self)\n",
      "  File \"/usr/lib/python3.10/threading.py\", line 953, in run\n",
      "    self._target(*self._args, **self._kwargs)\n",
      "  File \"/mnt/nvme1n1p3/Documents/Codes/Python/ICON-23-24-EDH/src/grimoire.py\", line 245, in handle_cards\n",
      "    decks.find(decks_to_fetch, deck_id).add_commander(card)\n",
      "AttributeError: 'NoneType' object has no attribute 'add_commander'\n"
     ]
    },
    {
     "name": "stdout",
     "output_type": "stream",
     "text": [
      "Salvate 79 carte in TR-6 \"Elaine\".pkl da Archidekt - 26.79 kB\n",
      "Non riesco ad aggiungere altre carte, procedo oltre                \n",
      "Non riesco ad aggiungere altre carte, procedo oltre                \n",
      "Non riesco ad aggiungere altre carte, procedo oltre                \n",
      "Non riesco ad aggiungere altre carte, procedo oltre                \n",
      "Carico le carte dal grimorio di Gandalf - Spellslinger burning\n",
      "Carico le carte dal grimorio di Kellan, the Fae-Blooded - All the EQUIPMENT\n",
      "Carico le carte dal grimorio di Agatha - Activated Abilitiesdeck\n",
      "Carico le carte dal grimorio di Urza - High Power - Almost cEDH\n",
      "Carico le carte dal grimorio di Elenda Vampire Aristocrats\n",
      "Carico le carte dal grimorio di Ob Nixilis, Captive Kingpin - PINGERS\n",
      "Carico le carte dal grimorio di Chatterfang Squirrels\n",
      "Carico le carte dal grimorio di Liliana Tribal\n",
      "Carico le carte dal grimorio di draw all the things\n",
      "Non riesco ad aggiungere altre carte, procedo oltre                \n",
      "Non riesco ad aggiungere altre carte, procedo oltre                \n",
      "Non riesco ad aggiungere altre carte, procedo oltre                \n",
      "Non riesco ad aggiungere altre carte, procedo oltre                \n",
      "Non riesco ad aggiungere altre carte, procedo oltre                \n",
      "Non riesco ad aggiungere altre carte, procedo oltre                \n",
      "Carico le carte dal grimorio di Solennel\n",
      "Carico le carte dal grimorio di Trelasarra Voltron Lifegain\n",
      "Carico le carte dal grimorio di I'm Tiny Bones!\n",
      "Carico le carte dal grimorio di rag\n",
      "Carico le carte dal grimorio di Bigger badder wolf\n",
      "Carico le carte dal grimorio di Mono Black Stax Attacks\n",
      "Carico le carte dal grimorio di Ob Nix 30\n",
      "Carico le carte dal grimorio di Timey Wimey Modernized\n",
      "Carico le carte dal grimorio di Gallifrey Stands\n",
      "Carico le carte dal grimorio di obeka - First Stage\n",
      "Carico le carte dal grimorio di Radio Konrad\n",
      "Non riesco ad aggiungere altre carte, procedo oltre                \n",
      "Carico le carte dal grimorio di Kirk, Son of Spock\n",
      "Carico le carte dal grimorio di Big mana ball ache\n",
      "Non riesco ad aggiungere altre carte, procedo oltre                \n",
      "Carico le carte dal grimorio di Graaz's Juggernaut Army\n",
      "Carico le carte dal grimorio di Edgar Markov\n",
      "Salvate 78 carte in saki boom card boom.pkl da Archidekt - 28.08 kB\n",
      "Salvate 92 carte in Pingu 3: Frozen throne.pkl da Archidekt - 30.45 kB\n",
      "Salvate 92 carte in Lavinia Stax.pkl da Archidekt - 30.12 kB\n",
      "Non riesco ad aggiungere altre carte, procedo oltre                \n",
      "Non riesco ad aggiungere altre carte, procedo oltre                \n",
      "Non riesco ad aggiungere altre carte, procedo oltre                \n",
      "Non riesco ad aggiungere altre carte, procedo oltre                \n",
      "Carico le carte dal grimorio di najeela\n",
      "Carico le carte dal grimorio di imodane\n",
      "Carico le carte dal grimorio di Queza Cards\n",
      "Carico le carte dal grimorio di Doggo go big, go bork, go boom!\n",
      "Carico le carte dal grimorio di wernog spellslinger\n",
      "Carico le carte dal grimorio di Disco frog\n",
      "Carico le carte dal grimorio di licia vampire voltron\n",
      "Carico le carte dal grimorio di Maralen\n",
      "Carico le carte dal grimorio di Draw and die\n",
      "Carico le carte dal grimorio di Millertime\n",
      "Carico le carte dal grimorio di oloro, ageless ascetic\n",
      "Carico le carte dal grimorio di elves\n",
      "Carico le carte dal grimorio di arjun the shifting flame\n",
      "Non riesco ad aggiungere altre carte, procedo oltre                \n",
      "Carico le carte dal grimorio di LESS GOOO\n",
      "Carico le carte dal grimorio di isshin\n",
      "Carico le carte dal grimorio di magus lucea kane\n",
      "Non riesco ad aggiungere altre carte, procedo oltre                \n",
      "Non riesco ad aggiungere altre carte, procedo oltre                \n",
      "Non riesco ad aggiungere altre carte, procedo oltre                \n",
      "Carico le carte dal grimorio di Atraxo mon amigo\n",
      "Carico le carte dal grimorio di Big ol greyboys\n",
      "Carico le carte dal grimorio di Dat's mine\n",
      "Carico le carte dal grimorio di Fungoooooo\n",
      "Carico le carte dal grimorio di Big Red Budget\n",
      "Carico le carte dal grimorio di OmNomNomNath\n",
      "Carico le carte dal grimorio di Group Slug\n",
      "Carico le carte dal grimorio di Undead Spirits Aristocrats\n",
      "Carico le carte dal grimorio di Rakdos Lord of Riots\n",
      "Carico le carte dal grimorio di Self Replicating Volrath\n",
      "Non riesco ad aggiungere altre carte, procedo oltre                \n",
      "Non riesco ad aggiungere altre carte, procedo oltre                \n",
      "Non riesco ad aggiungere altre carte, procedo oltre                \n"
     ]
    },
    {
     "name": "stderr",
     "output_type": "stream",
     "text": [
      "Exception in thread Thread-10282 (handle_cards):\n",
      "Traceback (most recent call last):\n",
      "  File \"/usr/lib/python3.10/threading.py\", line 1016, in _bootstrap_inner\n",
      "    self.run()\n",
      "  File \"/home/axten/.local/lib/python3.10/site-packages/ipykernel/ipkernel.py\", line 766, in run_closure\n",
      "    _threading_Thread_run(self)\n",
      "  File \"/usr/lib/python3.10/threading.py\", line 953, in run\n",
      "    self._target(*self._args, **self._kwargs)\n",
      "  File \"/mnt/nvme1n1p3/Documents/Codes/Python/ICON-23-24-EDH/src/grimoire.py\", line 245, in handle_cards\n",
      "    decks.find(decks_to_fetch, deck_id).add_commander(card)\n",
      "AttributeError: 'NoneType' object has no attribute 'add_commander'\n"
     ]
    },
    {
     "name": "stdout",
     "output_type": "stream",
     "text": [
      "Salvate 1 carte in Pirate CEDH trial 2.0.pkl da Archidekt - 0.67 kB\n"
     ]
    },
    {
     "name": "stderr",
     "output_type": "stream",
     "text": [
      "Exception in thread Thread-10286 (handle_cards):\n",
      "Traceback (most recent call last):\n",
      "  File \"/usr/lib/python3.10/threading.py\", line 1016, in _bootstrap_inner\n",
      "    self.run()\n",
      "  File \"/home/axten/.local/lib/python3.10/site-packages/ipykernel/ipkernel.py\", line 766, in run_closure\n",
      "    _threading_Thread_run(self)\n",
      "  File \"/usr/lib/python3.10/threading.py\", line 953, in run\n",
      "    self._target(*self._args, **self._kwargs)\n",
      "  File \"/mnt/nvme1n1p3/Documents/Codes/Python/ICON-23-24-EDH/src/grimoire.py\", line 245, in handle_cards\n",
      "    decks.find(decks_to_fetch, deck_id).add_commander(card)\n",
      "AttributeError: 'NoneType' object has no attribute 'add_commander'\n"
     ]
    },
    {
     "name": "stdout",
     "output_type": "stream",
     "text": [
      "Salvate 31 carte in Urrr Dragon.pkl da Archidekt - 11.32 kB\n"
     ]
    },
    {
     "name": "stderr",
     "output_type": "stream",
     "text": [
      "Exception in thread Thread-10290 (handle_cards):\n",
      "Traceback (most recent call last):\n",
      "  File \"/usr/lib/python3.10/threading.py\", line 1016, in _bootstrap_inner\n",
      "    self.run()\n",
      "  File \"/home/axten/.local/lib/python3.10/site-packages/ipykernel/ipkernel.py\", line 766, in run_closure\n",
      "    _threading_Thread_run(self)\n",
      "  File \"/usr/lib/python3.10/threading.py\", line 953, in run\n",
      "    self._target(*self._args, **self._kwargs)\n",
      "  File \"/mnt/nvme1n1p3/Documents/Codes/Python/ICON-23-24-EDH/src/grimoire.py\", line 245, in handle_cards\n",
      "    decks.find(decks_to_fetch, deck_id).add_commander(card)\n",
      "AttributeError: 'NoneType' object has no attribute 'add_commander'\n"
     ]
    },
    {
     "name": "stdout",
     "output_type": "stream",
     "text": [
      "Salvate 29 carte in Light-Paws.pkl da Archidekt - 10.03 kB\n",
      "Salvate 81 carte in The Boar.pkl da Archidekt - 29.33 kB\n"
     ]
    },
    {
     "name": "stderr",
     "output_type": "stream",
     "text": [
      "Exception in thread Thread-10298 (handle_cards):\n",
      "Traceback (most recent call last):\n",
      "  File \"/usr/lib/python3.10/threading.py\", line 1016, in _bootstrap_inner\n",
      "    self.run()\n",
      "  File \"/home/axten/.local/lib/python3.10/site-packages/ipykernel/ipkernel.py\", line 766, in run_closure\n",
      "    _threading_Thread_run(self)\n",
      "  File \"/usr/lib/python3.10/threading.py\", line 953, in run\n",
      "    self._target(*self._args, **self._kwargs)\n",
      "  File \"/mnt/nvme1n1p3/Documents/Codes/Python/ICON-23-24-EDH/src/grimoire.py\", line 245, in handle_cards\n",
      "    decks.find(decks_to_fetch, deck_id).add_commander(card)\n",
      "AttributeError: 'NoneType' object has no attribute 'add_commander'\n"
     ]
    },
    {
     "name": "stdout",
     "output_type": "stream",
     "text": [
      "Salvate 23 carte in Wilson; a most friendly bear.pkl da Archidekt - 8.21 kB\n",
      "Carico le carte dal grimorio di Robots in Disguise\n",
      "Carico le carte dal grimorio di Scryfall\n",
      "Carico le carte dal grimorio di Hungry Like The Wolf\n",
      "Carico le carte dal grimorio di Can I Copy Your Homework\n",
      "Carico le carte dal grimorio di Lifegain Group Hug\n",
      "Carico le carte dal grimorio di Mer-MAN\n",
      "Carico le carte dal grimorio di Ognis, The Dragon's Lash - Exile Theme\n",
      "Carico le carte dal grimorio di High Powered Winota\n",
      "Carico le carte dal grimorio di hail hydra\n",
      "Carico le carte dal grimorio di HEARTLESSSMH\n",
      "Carico le carte dal grimorio di Yidris, Maelstrom\n",
      "Carico le carte dal grimorio di Mana Burn Baby!!!\n",
      "Carico le carte dal grimorio di WE ARE LEGION (IRL)\n",
      "Carico le carte dal grimorio di Korvold, Fae-Cursed King\n",
      "Non riesco ad aggiungere altre carte, procedo oltre                \n",
      "Non riesco ad aggiungere altre carte, procedo oltre                \n",
      "Non riesco ad aggiungere altre carte, procedo oltre                \n",
      "Non riesco ad aggiungere altre carte, procedo oltre                \n",
      "Non riesco ad aggiungere altre carte, procedo oltre                \n",
      "Non riesco ad aggiungere altre carte, procedo oltre                \n",
      "Non riesco ad aggiungere altre carte, procedo oltre                \n",
      "Non riesco ad aggiungere altre carte, procedo oltre                \n",
      "Non riesco ad aggiungere altre carte, procedo oltre                \n",
      "Carico le carte dal grimorio di Grothama, All-Devouring Raid Boss\n",
      "Carico le carte dal grimorio di Mike’s Angels\n",
      "Carico le carte dal grimorio di I wanna be a BALLER SHOT-CALLER, 20-Inch blades on the Impala\n",
      "Carico le carte dal grimorio di Tevesh\n",
      "Carico le carte dal grimorio di Group Hug\n",
      "Carico le carte dal grimorio di Esper Knights\n",
      "Carico le carte dal grimorio di millertime\n",
      "Non riesco ad aggiungere altre carte, procedo oltre                \n",
      "Non riesco ad aggiungere altre carte, procedo oltre                \n",
      "Carico le carte dal grimorio di Chris' Dinosaurs\n",
      "Carico le carte dal grimorio di Tap To Kill\n",
      "Carico le carte dal grimorio di Dihad tokens\n",
      "Carico le carte dal grimorio di Treasures for days\n",
      "Carico le carte dal grimorio di Atla Populate\n",
      "Non riesco ad aggiungere altre carte, procedo oltre                \n",
      "Salvate 99 carte in Copy of - Rata Lego token madness.pkl da Archidekt - 35.85 kB\n"
     ]
    },
    {
     "name": "stderr",
     "output_type": "stream",
     "text": [
      "Exception in thread Thread-10354 (handle_cards):\n",
      "Traceback (most recent call last):\n",
      "  File \"/usr/lib/python3.10/threading.py\", line 1016, in _bootstrap_inner\n",
      "    self.run()\n",
      "  File \"/home/axten/.local/lib/python3.10/site-packages/ipykernel/ipkernel.py\", line 766, in run_closure\n",
      "    _threading_Thread_run(self)\n",
      "  File \"/usr/lib/python3.10/threading.py\", line 953, in run\n",
      "    self._target(*self._args, **self._kwargs)\n",
      "  File \"/mnt/nvme1n1p3/Documents/Codes/Python/ICON-23-24-EDH/src/grimoire.py\", line 245, in handle_cards\n",
      "    decks.find(decks_to_fetch, deck_id).add_commander(card)\n",
      "AttributeError: 'NoneType' object has no attribute 'add_commander'\n"
     ]
    },
    {
     "name": "stdout",
     "output_type": "stream",
     "text": [
      "Salvate 22 carte in Rata Lego token madness.pkl da Archidekt - 7.75 kB\n"
     ]
    },
    {
     "name": "stderr",
     "output_type": "stream",
     "text": [
      "Exception in thread Thread-10358 (handle_cards):\n",
      "Traceback (most recent call last):\n",
      "  File \"/usr/lib/python3.10/threading.py\", line 1016, in _bootstrap_inner\n",
      "    self.run()\n",
      "  File \"/home/axten/.local/lib/python3.10/site-packages/ipykernel/ipkernel.py\", line 766, in run_closure\n",
      "    _threading_Thread_run(self)\n",
      "  File \"/usr/lib/python3.10/threading.py\", line 953, in run\n",
      "    self._target(*self._args, **self._kwargs)\n",
      "  File \"/mnt/nvme1n1p3/Documents/Codes/Python/ICON-23-24-EDH/src/grimoire.py\", line 245, in handle_cards\n",
      "    decks.find(decks_to_fetch, deck_id).add_commander(card)\n",
      "AttributeError: 'NoneType' object has no attribute 'add_commander'\n"
     ]
    },
    {
     "name": "stdout",
     "output_type": "stream",
     "text": [
      "Salvate 1 carte in Ruric Thar Hates Non-permanent Spells.pkl da Archidekt - 0.6 kB\n",
      "Carico le carte dal grimorio di Nighty Night, Knights\n",
      "Carico le carte dal grimorio di Chaos Precon\n",
      "Carico le carte dal grimorio di Tyranid Precon\n",
      "Carico le carte dal grimorio di Mutate Godzilla\n",
      "Carico le carte dal grimorio di Krenko's Mind Goblins\n",
      "Carico le carte dal grimorio di WUBRG FOREVER!!!!!\n",
      "Carico le carte dal grimorio di Zz pops\n",
      "Carico le carte dal grimorio di Let’s Get Refiqy\n",
      "Carico le carte dal grimorio di The Ur-Dragon\n",
      "Salvate 67 carte in Sun Quan, Lord of Wu.pkl da Archidekt - 25.31 kB\n",
      "Salvate 46 carte in Bear Power.pkl da Archidekt - 14.9 kB\n",
      "Non riesco ad aggiungere altre carte, procedo oltre                \n",
      "Non riesco ad aggiungere altre carte, procedo oltre                \n",
      "Non riesco ad aggiungere altre carte, procedo oltre                \n",
      "Non riesco ad aggiungere altre carte, procedo oltre                \n",
      "Non riesco ad aggiungere altre carte, procedo oltre                \n",
      "Non riesco ad aggiungere altre carte, procedo oltre                \n",
      "Carico le carte dal grimorio di Life grinder\n",
      "Carico le carte dal grimorio di Grind\n",
      "Carico le carte dal grimorio di Test\n",
      "Carico le carte dal grimorio di Copy of - The Wisdom of the Oni\n",
      "Carico le carte dal grimorio di meria\n",
      "Carico le carte dal grimorio di Patron Green 135\n",
      "Carico le carte dal grimorio di Isshin - Myriad Fuckery\n",
      "Carico le carte dal grimorio di Voltron\n",
      "Carico le carte dal grimorio di Marisi Pillow Fight\n",
      "Carico le carte dal grimorio di Silas & Rebbec\n",
      "Carico le carte dal grimorio di New Atla\n",
      "Carico le carte dal grimorio di The Goblin King\n",
      "Carico le carte dal grimorio di Glissa, The Traitor (OG)\n",
      "Non riesco ad aggiungere altre carte, procedo oltre                \n",
      "Non riesco ad aggiungere altre carte, procedo oltre                \n",
      "Non riesco ad aggiungere altre carte, procedo oltre                \n",
      "Non riesco ad aggiungere altre carte, procedo oltre                \n",
      "Non riesco ad aggiungere altre carte, procedo oltre                \n"
     ]
    },
    {
     "name": "stderr",
     "output_type": "stream",
     "text": [
      "Exception in thread Thread-10414 (handle_cards):\n",
      "Traceback (most recent call last):\n",
      "  File \"/usr/lib/python3.10/threading.py\", line 1016, in _bootstrap_inner\n",
      "    self.run()\n",
      "  File \"/home/axten/.local/lib/python3.10/site-packages/ipykernel/ipkernel.py\", line 766, in run_closure\n",
      "    _threading_Thread_run(self)\n",
      "  File \"/usr/lib/python3.10/threading.py\", line 953, in run\n",
      "    self._target(*self._args, **self._kwargs)\n",
      "  File \"/mnt/nvme1n1p3/Documents/Codes/Python/ICON-23-24-EDH/src/grimoire.py\", line 245, in handle_cards\n",
      "    decks.find(decks_to_fetch, deck_id).add_commander(card)\n",
      "AttributeError: 'NoneType' object has no attribute 'add_commander'\n"
     ]
    },
    {
     "name": "stdout",
     "output_type": "stream",
     "text": [
      "Salvate 11 carte in Lord Windgrace.pkl da Archidekt - 3.71 kB\n"
     ]
    },
    {
     "name": "stderr",
     "output_type": "stream",
     "text": [
      "Exception in thread Thread-10418 (handle_cards):\n",
      "Traceback (most recent call last):\n",
      "  File \"/usr/lib/python3.10/threading.py\", line 1016, in _bootstrap_inner\n",
      "    self.run()\n",
      "  File \"/home/axten/.local/lib/python3.10/site-packages/ipykernel/ipkernel.py\", line 766, in run_closure\n",
      "    _threading_Thread_run(self)\n",
      "  File \"/usr/lib/python3.10/threading.py\", line 953, in run\n",
      "    self._target(*self._args, **self._kwargs)\n",
      "  File \"/mnt/nvme1n1p3/Documents/Codes/Python/ICON-23-24-EDH/src/grimoire.py\", line 245, in handle_cards\n",
      "    decks.find(decks_to_fetch, deck_id).add_commander(card)\n",
      "AttributeError: 'NoneType' object has no attribute 'add_commander'\n"
     ]
    },
    {
     "name": "stdout",
     "output_type": "stream",
     "text": [
      "Salvate 1 carte in Pain.pkl da Archidekt - 0.66 kB\n",
      "Salvate 94 carte in Niv Mizzet, Supreme (Maze's End).pkl da Archidekt - 30.39 kB\n"
     ]
    },
    {
     "name": "stderr",
     "output_type": "stream",
     "text": [
      "Exception in thread Thread-10426 (handle_cards):\n",
      "Traceback (most recent call last):\n",
      "  File \"/usr/lib/python3.10/threading.py\", line 1016, in _bootstrap_inner\n",
      "    self.run()\n",
      "  File \"/home/axten/.local/lib/python3.10/site-packages/ipykernel/ipkernel.py\", line 766, in run_closure\n",
      "    _threading_Thread_run(self)\n",
      "  File \"/usr/lib/python3.10/threading.py\", line 953, in run\n",
      "    self._target(*self._args, **self._kwargs)\n",
      "  File \"/mnt/nvme1n1p3/Documents/Codes/Python/ICON-23-24-EDH/src/grimoire.py\", line 245, in handle_cards\n",
      "    decks.find(decks_to_fetch, deck_id).add_commander(card)\n",
      "AttributeError: 'NoneType' object has no attribute 'add_commander'\n"
     ]
    },
    {
     "name": "stdout",
     "output_type": "stream",
     "text": [
      "Salvate 2 carte in tigers eye.pkl da Archidekt - 1.0 kB\n",
      "Non riesco ad aggiungere altre carte, procedo oltre                \n",
      "Carico le carte dal grimorio di daddy eisenhorn\n",
      "Carico le carte dal grimorio di Red Green\n",
      "Carico le carte dal grimorio di Brimaz Phyrexians\n",
      "Carico le carte dal grimorio di Gishath - Dinos!\n",
      "Non riesco ad aggiungere altre carte, procedo oltre                \n",
      "Carico le carte dal grimorio di Sliver Overlord (Reworked)\n",
      "Carico le carte dal grimorio di Atraxa, Grand Unifier\n",
      "Carico le carte dal grimorio di Sen Triplets\n",
      "Carico le carte dal grimorio di Yuriko, The Tiger's Shadow\n",
      "Non riesco ad aggiungere altre carte, procedo oltre                \n",
      "Carico le carte dal grimorio di Nymris, Oona's Trickster\n",
      "Carico le carte dal grimorio di Daddy Issues\n",
      "Carico le carte dal grimorio di Pointy Ears\n",
      "Non riesco ad aggiungere altre carte, procedo oltre                \n",
      "Non riesco ad aggiungere altre carte, procedo oltre                \n",
      "Non riesco ad aggiungere altre carte, procedo oltre                \n",
      "Carico le carte dal grimorio di Giada, Font of Hope\n",
      "Non riesco ad aggiungere altre carte, procedo oltre                \n",
      "Non riesco ad aggiungere altre carte, procedo oltre                \n",
      "Non riesco ad aggiungere altre carte, procedo oltre                \n",
      "Carico le carte dal grimorio di Copy of - Tinybones Mono Blombo\n",
      "Carico le carte dal grimorio di Copy of - Kinnan Turbo-mid CEDH\n",
      "Carico le carte dal grimorio di The Meek Shall Inherit The Earth\n",
      "Carico le carte dal grimorio di Le Chonk\n",
      "Carico le carte dal grimorio di I like Big Butts\n",
      "Carico le carte dal grimorio di Tovolar, Dire Overlord\n",
      "Carico le carte dal grimorio di Tap My Bitch Up\n",
      "Carico le carte dal grimorio di Blinky Bill\n",
      "Carico le carte dal grimorio di Angel House Party\n",
      "Carico le carte dal grimorio di Fire in the Disco\n",
      "Non riesco ad aggiungere altre carte, procedo oltre                \n",
      "Non riesco ad aggiungere altre carte, procedo oltre                \n",
      "Non riesco ad aggiungere altre carte, procedo oltre                \n",
      "Salvate 81 carte in Isu the Abominable.pkl da Archidekt - 28.27 kB\n"
     ]
    },
    {
     "name": "stderr",
     "output_type": "stream",
     "text": [
      "Exception in thread Thread-10482 (handle_cards):\n",
      "Traceback (most recent call last):\n",
      "  File \"/usr/lib/python3.10/threading.py\", line 1016, in _bootstrap_inner\n",
      "    self.run()\n",
      "  File \"/home/axten/.local/lib/python3.10/site-packages/ipykernel/ipkernel.py\", line 766, in run_closure\n",
      "    _threading_Thread_run(self)\n",
      "  File \"/usr/lib/python3.10/threading.py\", line 953, in run\n",
      "    self._target(*self._args, **self._kwargs)\n",
      "  File \"/mnt/nvme1n1p3/Documents/Codes/Python/ICON-23-24-EDH/src/grimoire.py\", line 245, in handle_cards\n",
      "    decks.find(decks_to_fetch, deck_id).add_commander(card)\n",
      "AttributeError: 'NoneType' object has no attribute 'add_commander'\n"
     ]
    },
    {
     "name": "stdout",
     "output_type": "stream",
     "text": [
      "Salvate 1 carte in To The Dungeons With Ye.pkl da Archidekt - 0.62 kB\n"
     ]
    },
    {
     "name": "stderr",
     "output_type": "stream",
     "text": [
      "Exception in thread Thread-10486 (handle_cards):\n",
      "Traceback (most recent call last):\n",
      "  File \"/usr/lib/python3.10/threading.py\", line 1016, in _bootstrap_inner\n",
      "    self.run()\n",
      "  File \"/home/axten/.local/lib/python3.10/site-packages/ipykernel/ipkernel.py\", line 766, in run_closure\n",
      "    _threading_Thread_run(self)\n",
      "  File \"/usr/lib/python3.10/threading.py\", line 953, in run\n",
      "    self._target(*self._args, **self._kwargs)\n",
      "  File \"/mnt/nvme1n1p3/Documents/Codes/Python/ICON-23-24-EDH/src/grimoire.py\", line 245, in handle_cards\n",
      "    decks.find(decks_to_fetch, deck_id).add_commander(card)\n",
      "AttributeError: 'NoneType' object has no attribute 'add_commander'\n"
     ]
    },
    {
     "name": "stdout",
     "output_type": "stream",
     "text": [
      "Salvate 39 carte in My Vampie BOII.pkl da Archidekt - 12.86 kB\n",
      "Carico le carte dal grimorio di Nekusar, the Mindrazer\n",
      "Carico le carte dal grimorio di KedissYoshimaru\n",
      "Carico le carte dal grimorio di marchesa, the black rose\n",
      "Carico le carte dal grimorio di The Madness of Asmoranomardicadaistinaculdacar\n",
      "Carico le carte dal grimorio di Saint Traft\n",
      "Carico le carte dal grimorio di Jund Non-Basic Hate\n",
      "Carico le carte dal grimorio di Mono-blue Charbelcher\n",
      "Carico le carte dal grimorio di Mardu Hate\n",
      "Carico le carte dal grimorio di Kelsien\n",
      "Carico le carte dal grimorio di Alesha Rev 25\n",
      "Carico le carte dal grimorio di Mazirek Scapeshift 84\n",
      "Carico le carte dal grimorio di Reaper Kang\n",
      "Carico le carte dal grimorio di Sefris Tokens\n",
      "Carico le carte dal grimorio di Fateshifter\n",
      "Carico le carte dal grimorio di Goblins Attack\n",
      "Carico le carte dal grimorio di Oh My Braids\n",
      "Carico le carte dal grimorio di Tovolar\n",
      "Carico le carte dal grimorio di Feather\n",
      "Carico le carte dal grimorio di Josh Gift 1\n"
     ]
    },
    {
     "name": "stderr",
     "output_type": "stream",
     "text": [
      "Exception in thread Thread-10490 (handle_cards):\n",
      "Traceback (most recent call last):\n",
      "  File \"/usr/lib/python3.10/threading.py\", line 1016, in _bootstrap_inner\n",
      "    self.run()\n",
      "  File \"/home/axten/.local/lib/python3.10/site-packages/ipykernel/ipkernel.py\", line 766, in run_closure\n",
      "    _threading_Thread_run(self)\n",
      "  File \"/usr/lib/python3.10/threading.py\", line 953, in run\n",
      "    self._target(*self._args, **self._kwargs)\n",
      "  File \"/mnt/nvme1n1p3/Documents/Codes/Python/ICON-23-24-EDH/src/grimoire.py\", line 245, in handle_cards\n",
      "    decks.find(decks_to_fetch, deck_id).add_commander(card)\n",
      "AttributeError: 'NoneType' object has no attribute 'add_commander'\n"
     ]
    },
    {
     "name": "stdout",
     "output_type": "stream",
     "text": [
      "Salvate 10 carte in Thomas Gift 2.pkl da Archidekt - 3.81 kB\n",
      "Salvate 82 carte in Naya Zoo v1.pkl da Archidekt - 27.15 kB\n",
      "Non riesco ad aggiungere altre carte, procedo oltre                \n",
      "Non riesco ad aggiungere altre carte, procedo oltre                \n",
      "Non riesco ad aggiungere altre carte, procedo oltre                \n",
      "Non riesco ad aggiungere altre carte, procedo oltre                \n",
      "Non riesco ad aggiungere altre carte, procedo oltre                \n",
      "Carico le carte dal grimorio di Drawing Cards\n",
      "Carico le carte dal grimorio di Mutating Ramos\n",
      "Carico le carte dal grimorio di Old Gods\n",
      "Carico le carte dal grimorio di Shatterfang Chattergang, Squirrel Brothers hot on the trail\n",
      "Carico le carte dal grimorio di Aristi squirrel\n",
      "Carico le carte dal grimorio di Friendship\n",
      "Carico le carte dal grimorio di Kalamax, Lightning Dinosaur\n",
      "Carico le carte dal grimorio di Golos\n",
      "Non riesco ad aggiungere altre carte, procedo oltre                \n",
      "Non riesco ad aggiungere altre carte, procedo oltre                \n",
      "Non riesco ad aggiungere altre carte, procedo oltre                \n",
      "Non riesco ad aggiungere altre carte, procedo oltre                \n",
      "Carico le carte dal grimorio di Tymna + Jeska  Death and Taxes\n",
      "Carico le carte dal grimorio di Kykar, Elsha's wind of Infinite Fury\n",
      "Carico le carte dal grimorio di Chatterfang\n",
      "Carico le carte dal grimorio di Giants\n",
      "Carico le carte dal grimorio di death by squirrel\n",
      "Non riesco ad aggiungere altre carte, procedo oltre                \n",
      "Non riesco ad aggiungere altre carte, procedo oltre                \n",
      "Carico le carte dal grimorio di Yarok Pod Control\n",
      "Carico le carte dal grimorio di Kykar\n",
      "Carico le carte dal grimorio di Copy of - Kykar\n",
      "Carico le carte dal grimorio di Geth's Lockup\n",
      "Carico le carte dal grimorio di Food Chain Sliver\n",
      "Non riesco ad aggiungere altre carte, procedo oltre                \n",
      "Carico le carte dal grimorio di Copy of - Shaggy and Scooby\n",
      "Carico le carte dal grimorio di UNIFACTOR\n",
      "Ho raccolto 0 carte finora\r"
     ]
    },
    {
     "name": "stderr",
     "output_type": "stream",
     "text": [
      "Exception in thread Thread-10550 (handle_cards):\n",
      "Traceback (most recent call last):\n",
      "  File \"/usr/lib/python3.10/threading.py\", line 1016, in _bootstrap_inner\n",
      "    self.run()\n",
      "  File \"/home/axten/.local/lib/python3.10/site-packages/ipykernel/ipkernel.py\", line 766, in run_closure\n",
      "    _threading_Thread_run(self)\n",
      "  File \"/usr/lib/python3.10/threading.py\", line 953, in run\n",
      "    self._target(*self._args, **self._kwargs)\n",
      "  File \"/mnt/nvme1n1p3/Documents/Codes/Python/ICON-23-24-EDH/src/grimoire.py\", line 245, in handle_cards\n",
      "    decks.find(decks_to_fetch, deck_id).add_commander(card)\n",
      "AttributeError: 'NoneType' object has no attribute 'add_commander'\n"
     ]
    },
    {
     "name": "stdout",
     "output_type": "stream",
     "text": [
      "Salvate 1 carte in Legends.pkl da Archidekt - 0.82 kB\n",
      "Salvate 81 carte in Ognis - Token Theme.pkl da Archidekt - 28.4 kB\n",
      "Non riesco ad aggiungere altre carte, procedo oltre                \n",
      "Non riesco ad aggiungere altre carte, procedo oltre                \n",
      "Non riesco ad aggiungere altre carte, procedo oltre                \n",
      "Non riesco ad aggiungere altre carte, procedo oltre                \n",
      "Carico le carte dal grimorio di Kodama of the West Tree\n",
      "Non riesco ad aggiungere altre carte, procedo oltre                \n",
      "Carico le carte dal grimorio di Copy of - Mrs Myrel\n",
      "Carico le carte dal grimorio di Human Zombies\n",
      "Carico le carte dal grimorio di Yennett, Cryptic Sovereign\n",
      "Carico le carte dal grimorio di Shorikai, Engine of Thomas\n",
      "Carico le carte dal grimorio di Slogurk the Mana Booger (OLD BUILD)\n",
      "Carico le carte dal grimorio di Mill\n",
      "Carico le carte dal grimorio di Long may she reign\n",
      "Carico le carte dal grimorio di Wolfsmond\n",
      "Carico le carte dal grimorio di Derevi\n",
      "Carico le carte dal grimorio di Vamps\n",
      "Carico le carte dal grimorio di Teysa\n",
      "Carico le carte dal grimorio di djnubbz13\n",
      "Carico le carte dal grimorio di Teeg's Teabag\n",
      "Carico le carte dal grimorio di Ruric Thur Beatdown\n",
      "Carico le carte dal grimorio di Treebeard\n",
      "Non riesco ad aggiungere altre carte, procedo oltre                \n",
      "Non riesco ad aggiungere altre carte, procedo oltre                \n",
      "Non riesco ad aggiungere altre carte, procedo oltre                \n",
      "Non riesco ad aggiungere altre carte, procedo oltre                \n",
      "Non riesco ad aggiungere altre carte, procedo oltre                \n",
      "Non riesco ad aggiungere altre carte, procedo oltre                \n",
      "Salvate 85 carte in Xengagos, God of Tomfoolery.pkl da Archidekt - 30.12 kB\n"
     ]
    },
    {
     "name": "stderr",
     "output_type": "stream",
     "text": [
      "Exception in thread Thread-10606 (handle_cards):\n",
      "Traceback (most recent call last):\n",
      "  File \"/usr/lib/python3.10/threading.py\", line 1016, in _bootstrap_inner\n",
      "    self.run()\n",
      "  File \"/home/axten/.local/lib/python3.10/site-packages/ipykernel/ipkernel.py\", line 766, in run_closure\n",
      "    _threading_Thread_run(self)\n",
      "  File \"/usr/lib/python3.10/threading.py\", line 953, in run\n",
      "    self._target(*self._args, **self._kwargs)\n",
      "  File \"/mnt/nvme1n1p3/Documents/Codes/Python/ICON-23-24-EDH/src/grimoire.py\", line 245, in handle_cards\n",
      "    decks.find(decks_to_fetch, deck_id).add_commander(card)\n",
      "AttributeError: 'NoneType' object has no attribute 'add_commander'\n"
     ]
    },
    {
     "name": "stdout",
     "output_type": "stream",
     "text": [
      "Salvate 1 carte in Ramos.pkl da Archidekt - 0.64 kB\n"
     ]
    },
    {
     "name": "stderr",
     "output_type": "stream",
     "text": [
      "Exception in thread Thread-10610 (handle_cards):\n",
      "Traceback (most recent call last):\n",
      "  File \"/usr/lib/python3.10/threading.py\", line 1016, in _bootstrap_inner\n",
      "    self.run()\n",
      "  File \"/home/axten/.local/lib/python3.10/site-packages/ipykernel/ipkernel.py\", line 766, in run_closure\n",
      "    _threading_Thread_run(self)\n",
      "  File \"/usr/lib/python3.10/threading.py\", line 953, in run\n",
      "    self._target(*self._args, **self._kwargs)\n",
      "  File \"/mnt/nvme1n1p3/Documents/Codes/Python/ICON-23-24-EDH/src/grimoire.py\", line 245, in handle_cards\n",
      "    decks.find(decks_to_fetch, deck_id).add_commander(card)\n",
      "AttributeError: 'NoneType' object has no attribute 'add_commander'\n"
     ]
    },
    {
     "name": "stdout",
     "output_type": "stream",
     "text": [
      "Salvate 87 carte in You Ooze, You LOoze.pkl da Archidekt - 31.06 kB\n",
      "Carico le carte dal grimorio di Okra-harl\n",
      "Carico le carte dal grimorio di Bow Down Fools\n",
      "Carico le carte dal grimorio di Wilhelt, the Rotcleaver (Zombie Tribal)\n",
      "Carico le carte dal grimorio di Copy of - Upping the Average - Runo Stromkirk\n",
      "Carico le carte dal grimorio di Lathiel Lifegain 11 Counters\n",
      "Carico le carte dal grimorio di Veyran Spellslinger\n",
      "Carico le carte dal grimorio di Copy of - Upping the Average - Kaalia of the Vast\n",
      "Carico le carte dal grimorio di Copy of - Upping the Average - Rin and Seri, Inseparable\n",
      "Carico le carte dal grimorio di Kaervek\n",
      "Salvate 83 carte in Durian.pkl da Archidekt - 28.4 kB\n",
      "Salvate 61 carte in Voltron Rafiq.pkl da Archidekt - 21.5 kB\n",
      "Salvate 99 carte in Slogurk.pkl da Archidekt - 32.54 kB\n",
      "Carico le carte dal grimorio di Copy of - Niv\n",
      "Carico le carte dal grimorio di Kess\n",
      "Carico le carte dal grimorio di Copy of - Slogurk, the Overslime\n",
      "Carico le carte dal grimorio di Rogues\n",
      "Carico le carte dal grimorio di Verina\n",
      "Carico le carte dal grimorio di Alesha Knights\n",
      "Carico le carte dal grimorio di Yuriko\n",
      "Carico le carte dal grimorio di Wizharmonicon Remake\n",
      "Carico le carte dal grimorio di Wizharmonicon 132\n",
      "Carico le carte dal grimorio di Exalted Beats 155\n",
      "Carico le carte dal grimorio di Copy of - yanni\n",
      "Carico le carte dal grimorio di Copy of - Snapdax\n",
      "Carico le carte dal grimorio di Snapdax\n",
      "Carico le carte dal grimorio di Humbling Provocation 113\n",
      "Non riesco ad aggiungere altre carte, procedo oltre                \n",
      "Carico le carte dal grimorio di Anthem Jeskai Spirits 129\n",
      "Carico le carte dal grimorio di Rats\n",
      "Carico le carte dal grimorio di Copy of - Uro giant boi\n",
      "Non riesco ad aggiungere altre carte, procedo oltre                \n",
      "Non riesco ad aggiungere altre carte, procedo oltre                \n",
      "Non riesco ad aggiungere altre carte, procedo oltre                \n",
      "Non riesco ad aggiungere altre carte, procedo oltre                \n",
      "Non riesco ad aggiungere altre carte, procedo oltre                \n",
      "Non riesco ad aggiungere altre carte, procedo oltre                \n",
      "Non riesco ad aggiungere altre carte, procedo oltre                \n",
      "Carico le carte dal grimorio di Kaalia\n",
      "Non riesco ad aggiungere altre carte, procedo oltre                \n",
      "Non riesco ad aggiungere altre carte, procedo oltre                \n",
      "Non riesco ad aggiungere altre carte, procedo oltre                \n",
      "Carico le carte dal grimorio di Jhoira Phatties\n",
      "Carico le carte dal grimorio di Riku Spellslinger\n",
      "Carico le carte dal grimorio di Jhoira Storm\n",
      "Carico le carte dal grimorio di Copy of - Feather-Edh\n",
      "Carico le carte dal grimorio di Feather-Edh\n",
      "Carico le carte dal grimorio di Copy of - Atris People Hunter\n",
      "Carico le carte dal grimorio di Atris People Hunter\n",
      "Carico le carte dal grimorio di Copy of - Copy of - Nekusar, the  Mindrazer (Wheel)\n",
      "Carico le carte dal grimorio di Rayami Key Master\n",
      "Carico le carte dal grimorio di Copy of - Uro giant boi\n",
      "Carico le carte dal grimorio di Kesss Storrrmm\n",
      "Carico le carte dal grimorio di Copy of - Tuvasa\n",
      "Carico le carte dal grimorio di Yasova\n",
      "Carico le carte dal grimorio di Shu Yun\n",
      "Non riesco ad aggiungere altre carte, procedo oltre                \n",
      "Salvate 77 carte in Ooooooona.pkl da Archidekt - 26.14 kB\n"
     ]
    },
    {
     "name": "stderr",
     "output_type": "stream",
     "text": [
      "Exception in thread Thread-10678 (handle_cards):\n",
      "Traceback (most recent call last):\n",
      "  File \"/usr/lib/python3.10/threading.py\", line 1016, in _bootstrap_inner\n",
      "    self.run()\n",
      "  File \"/home/axten/.local/lib/python3.10/site-packages/ipykernel/ipkernel.py\", line 766, in run_closure\n",
      "    _threading_Thread_run(self)\n",
      "  File \"/usr/lib/python3.10/threading.py\", line 953, in run\n",
      "    self._target(*self._args, **self._kwargs)\n",
      "  File \"/mnt/nvme1n1p3/Documents/Codes/Python/ICON-23-24-EDH/src/grimoire.py\", line 245, in handle_cards\n",
      "    decks.find(decks_to_fetch, deck_id).add_commander(card)\n",
      "AttributeError: 'NoneType' object has no attribute 'add_commander'\n"
     ]
    },
    {
     "name": "stdout",
     "output_type": "stream",
     "text": [
      "Salvate 1 carte in Chaos Storm.pkl da Archidekt - 0.74 kB\n",
      "Salvate 73 carte in Keranos Counterburn.pkl da Archidekt - 25.35 kB\n",
      "Salvate 79 carte in Copy of - purphoros.pkl da Archidekt - 26.14 kB\n",
      "Carico le carte dal grimorio di Copy of - chainer\n",
      "Carico le carte dal grimorio di Keranos Control\n",
      "Carico le carte dal grimorio di Kess chaos\n",
      "Carico le carte dal grimorio di Chulane lets see\n",
      "Carico le carte dal grimorio di Skullbriar\n",
      "Carico le carte dal grimorio di Silas Smack\n",
      "Carico le carte dal grimorio di cardsfornicol\n",
      "Non riesco ad aggiungere altre carte, procedo oltre                \n",
      "Carico le carte dal grimorio di Breya\n",
      "Non riesco ad aggiungere altre carte, procedo oltre                \n",
      "Non riesco ad aggiungere altre carte, procedo oltre                \n",
      "Non riesco ad aggiungere altre carte, procedo oltre                \n",
      "Non riesco ad aggiungere altre carte, procedo oltre                \n",
      "Carico le carte dal grimorio di Akiri\n",
      "Carico le carte dal grimorio di Legendary Aristocrats\n",
      "Carico le carte dal grimorio di Golos Kills fools\n",
      "Non riesco ad aggiungere altre carte, procedo oltre                \n",
      "Carico le carte dal grimorio di Ghave grave bois\n",
      "Carico le carte dal grimorio di Show em the door\n",
      "Carico le carte dal grimorio di Copy of - Show em the door\n",
      "Carico le carte dal grimorio di Sen Triplets\n",
      "Carico le carte dal grimorio di Rankle Prankle\n",
      "Carico le carte dal grimorio di Cat tribal\n",
      "Carico le carte dal grimorio di Hapatra for Hunter\n",
      "Carico le carte dal grimorio di Ghalta\n",
      "Carico le carte dal grimorio di Lazav\n",
      "Carico le carte dal grimorio di Breya\n",
      "Carico le carte dal grimorio di Sigarda\n",
      "Carico le carte dal grimorio di Deretti\n",
      "Carico le carte dal grimorio di Cedh golos\n",
      "Non riesco ad aggiungere altre carte, procedo oltre                \n",
      "Non riesco ad aggiungere altre carte, procedo oltre                \n",
      "Carico le carte dal grimorio di Kess\n",
      "Non riesco ad aggiungere altre carte, procedo oltre                \n",
      "Non riesco ad aggiungere altre carte, procedo oltre                \n",
      "Non riesco ad aggiungere altre carte, procedo oltre                \n"
     ]
    },
    {
     "name": "stderr",
     "output_type": "stream",
     "text": [
      "Exception in thread Thread-10738 (handle_cards):\n",
      "Traceback (most recent call last):\n",
      "  File \"/usr/lib/python3.10/threading.py\", line 1016, in _bootstrap_inner\n",
      "    self.run()\n",
      "  File \"/home/axten/.local/lib/python3.10/site-packages/ipykernel/ipkernel.py\", line 766, in run_closure\n",
      "    _threading_Thread_run(self)\n",
      "  File \"/usr/lib/python3.10/threading.py\", line 953, in run\n",
      "    self._target(*self._args, **self._kwargs)\n",
      "  File \"/mnt/nvme1n1p3/Documents/Codes/Python/ICON-23-24-EDH/src/grimoire.py\", line 245, in handle_cards\n",
      "    decks.find(decks_to_fetch, deck_id).add_commander(card)\n",
      "AttributeError: 'NoneType' object has no attribute 'add_commander'\n"
     ]
    },
    {
     "name": "stdout",
     "output_type": "stream",
     "text": [
      "Salvate 99 carte in Humbling Provocation R4 - More Interaction.pkl da Archidekt - 31.06 kB\n",
      "Carico le carte dal grimorio di Copy of - Uro giant boi\n",
      "Salvate 55 carte in Copy of - EDH UG Arixmethes.pkl da Archidekt - 19.84 kB\n",
      "Salvate 81 carte in Ruhan.pkl da Archidekt - 27.35 kB\n"
     ]
    },
    {
     "name": "stderr",
     "output_type": "stream",
     "text": [
      "Exception in thread Thread-10750 (handle_cards):\n",
      "Traceback (most recent call last):\n",
      "  File \"/usr/lib/python3.10/threading.py\", line 1016, in _bootstrap_inner\n",
      "    self.run()\n",
      "  File \"/home/axten/.local/lib/python3.10/site-packages/ipykernel/ipkernel.py\", line 766, in run_closure\n",
      "    _threading_Thread_run(self)\n",
      "  File \"/usr/lib/python3.10/threading.py\", line 953, in run\n",
      "    self._target(*self._args, **self._kwargs)\n",
      "  File \"/mnt/nvme1n1p3/Documents/Codes/Python/ICON-23-24-EDH/src/grimoire.py\", line 245, in handle_cards\n",
      "    decks.find(decks_to_fetch, deck_id).add_commander(card)\n",
      "AttributeError: 'NoneType' object has no attribute 'add_commander'\n"
     ]
    },
    {
     "name": "stdout",
     "output_type": "stream",
     "text": [
      "Salvate 96 carte in Omnath Pod.pkl da Archidekt - 30.31 kB\n",
      "Carico le carte dal grimorio di Tinybones\n",
      "Carico le carte dal grimorio di Selesnya +1+1\n",
      "Carico le carte dal grimorio di Chandra Tribal 135\n",
      "Carico le carte dal grimorio di Humbling Provocation R2 - Card Quality\n",
      "Carico le carte dal grimorio di Humbling Provocation R3 - Silver Bullets\n",
      "Carico le carte dal grimorio di ruhan\n",
      "Carico le carte dal grimorio di Keranos Land Hate\n",
      "Carico le carte dal grimorio di Alesha, Necromancer 82\n",
      "Carico le carte dal grimorio di Copy of - Tinybones\n",
      "Carico le carte dal grimorio di Mowu, Best Boy 181\n",
      "Carico le carte dal grimorio di Xyris Temur Wheels 193\n"
     ]
    },
    {
     "name": "stderr",
     "output_type": "stream",
     "text": [
      "Exception in thread Thread-10754 (handle_cards):\n",
      "Traceback (most recent call last):\n",
      "  File \"/usr/lib/python3.10/threading.py\", line 1016, in _bootstrap_inner\n",
      "    self.run()\n",
      "  File \"/home/axten/.local/lib/python3.10/site-packages/ipykernel/ipkernel.py\", line 766, in run_closure\n",
      "    _threading_Thread_run(self)\n",
      "  File \"/usr/lib/python3.10/threading.py\", line 953, in run\n",
      "    self._target(*self._args, **self._kwargs)\n",
      "  File \"/mnt/nvme1n1p3/Documents/Codes/Python/ICON-23-24-EDH/src/grimoire.py\", line 245, in handle_cards\n",
      "    decks.find(decks_to_fetch, deck_id).add_commander(card)\n",
      "AttributeError: 'NoneType' object has no attribute 'add_commander'\n"
     ]
    },
    {
     "name": "stdout",
     "output_type": "stream",
     "text": [
      "Salvate 83 carte in Saskia's warriors.pkl da Archidekt - 28.17 kB\n",
      "Non riesco ad aggiungere altre carte, procedo oltre                \n",
      "Carico le carte dal grimorio di Kalamax\n",
      "Carico le carte dal grimorio di Liliana is what i love\n",
      "Carico le carte dal grimorio di Xyris Temur Wheels v2\n",
      "Carico le carte dal grimorio di Copy of - Tasigur Lets do this\n",
      "Carico le carte dal grimorio di Elsha cedh\n",
      "Carico le carte dal grimorio di Tasigur Lets do this\n",
      "Non riesco ad aggiungere altre carte, procedo oltre                \n",
      "Non riesco ad aggiungere altre carte, procedo oltre                \n",
      "Non riesco ad aggiungere altre carte, procedo oltre                \n",
      "Carico le carte dal grimorio di Samut Big bois\n",
      "Carico le carte dal grimorio di Jeleva Steal yo stuff\n",
      "Carico le carte dal grimorio di Kefnet\n",
      "Carico le carte dal grimorio di Urza and his bois\n",
      "Carico le carte dal grimorio di breya\n",
      "Carico le carte dal grimorio di Shun yun cantrips\n",
      "Carico le carte dal grimorio di Copy of - Riku pod of fun\n",
      "Carico le carte dal grimorio di Riku pod of fun\n",
      "Carico le carte dal grimorio di Adaptive Upgraded 63\n",
      "Non riesco ad aggiungere altre carte, procedo oltre                \n",
      "Non riesco ad aggiungere altre carte, procedo oltre                \n",
      "Non riesco ad aggiungere altre carte, procedo oltre                \n",
      "Non riesco ad aggiungere altre carte, procedo oltre                \n",
      "Non riesco ad aggiungere altre carte, procedo oltre                \n",
      "Non riesco ad aggiungere altre carte, procedo oltre                \n",
      "Non riesco ad aggiungere altre carte, procedo oltre                \n"
     ]
    },
    {
     "name": "stderr",
     "output_type": "stream",
     "text": [
      "Exception in thread Thread-10802 (handle_cards):\n",
      "Traceback (most recent call last):\n",
      "  File \"/usr/lib/python3.10/threading.py\", line 1016, in _bootstrap_inner\n",
      "    self.run()\n",
      "  File \"/home/axten/.local/lib/python3.10/site-packages/ipykernel/ipkernel.py\", line 766, in run_closure\n",
      "    _threading_Thread_run(self)\n",
      "  File \"/usr/lib/python3.10/threading.py\", line 953, in run\n",
      "    self._target(*self._args, **self._kwargs)\n",
      "  File \"/mnt/nvme1n1p3/Documents/Codes/Python/ICON-23-24-EDH/src/grimoire.py\", line 245, in handle_cards\n",
      "    decks.find(decks_to_fetch, deck_id).add_commander(card)\n",
      "AttributeError: 'NoneType' object has no attribute 'add_commander'\n"
     ]
    },
    {
     "name": "stdout",
     "output_type": "stream",
     "text": [
      "Salvate 70 carte in Silas Wellspring 115.pkl da Archidekt - 23.35 kB\n",
      "Salvate 54 carte in Apostle of people.pkl da Archidekt - 18.6 kB\n",
      "Carico le carte dal grimorio di Nadu\n",
      "Carico le carte dal grimorio di You're the Villain, not me\n",
      "Carico le carte dal grimorio di Anikthea, Hand of Erebos\n",
      "Carico le carte dal grimorio di Octavia, living Thesis\n",
      "Carico le carte dal grimorio di urza, Chief artificer\n",
      "Carico le carte dal grimorio di Saruman, the white hand\n",
      "Carico le carte dal grimorio di Anhelo, The painter\n",
      "Carico le carte dal grimorio di Satoru Umezawa\n",
      "Carico le carte dal grimorio di Kenrith, The returned king\n",
      "Carico le carte dal grimorio di Leinore, Autumn Sovereign\n",
      "Carico le carte dal grimorio di Rashmi and Ragavan\n",
      "Carico le carte dal grimorio di Wilhelt, The Rotcleaver\n",
      "Carico le carte dal grimorio di Oloro, Ageless Ascetic\n",
      "Carico le carte dal grimorio di Ghired, Conclave Exile\n"
     ]
    },
    {
     "name": "stderr",
     "output_type": "stream",
     "text": [
      "Exception in thread Thread-10810 (handle_cards):\n",
      "Traceback (most recent call last):\n",
      "  File \"/usr/lib/python3.10/threading.py\", line 1016, in _bootstrap_inner\n",
      "    self.run()\n",
      "  File \"/home/axten/.local/lib/python3.10/site-packages/ipykernel/ipkernel.py\", line 766, in run_closure\n",
      "    _threading_Thread_run(self)\n",
      "  File \"/usr/lib/python3.10/threading.py\", line 953, in run\n",
      "    self._target(*self._args, **self._kwargs)\n",
      "  File \"/mnt/nvme1n1p3/Documents/Codes/Python/ICON-23-24-EDH/src/grimoire.py\", line 245, in handle_cards\n",
      "    decks.find(decks_to_fetch, deck_id).add_commander(card)\n",
      "AttributeError: 'NoneType' object has no attribute 'add_commander'\n"
     ]
    },
    {
     "name": "stdout",
     "output_type": "stream",
     "text": [
      "Salvate 92 carte in Blanka.pkl da Archidekt - 30.74 kB\n"
     ]
    },
    {
     "name": "stderr",
     "output_type": "stream",
     "text": [
      "Exception in thread Thread-10814 (handle_cards):\n",
      "Traceback (most recent call last):\n",
      "  File \"/usr/lib/python3.10/threading.py\", line 1016, in _bootstrap_inner\n",
      "    self.run()\n",
      "  File \"/home/axten/.local/lib/python3.10/site-packages/ipykernel/ipkernel.py\", line 766, in run_closure\n",
      "    _threading_Thread_run(self)\n",
      "  File \"/usr/lib/python3.10/threading.py\", line 953, in run\n",
      "    self._target(*self._args, **self._kwargs)\n",
      "  File \"/mnt/nvme1n1p3/Documents/Codes/Python/ICON-23-24-EDH/src/grimoire.py\", line 245, in handle_cards\n",
      "    decks.find(decks_to_fetch, deck_id).add_commander(card)\n",
      "AttributeError: 'NoneType' object has no attribute 'add_commander'\n"
     ]
    },
    {
     "name": "stdout",
     "output_type": "stream",
     "text": [
      "Salvate 5 carte in locust.pkl da Archidekt - 2.1 kB\n"
     ]
    },
    {
     "name": "stderr",
     "output_type": "stream",
     "text": [
      "Exception in thread Thread-10818 (handle_cards):\n",
      "Traceback (most recent call last):\n",
      "  File \"/usr/lib/python3.10/threading.py\", line 1016, in _bootstrap_inner\n",
      "    self.run()\n",
      "  File \"/home/axten/.local/lib/python3.10/site-packages/ipykernel/ipkernel.py\", line 766, in run_closure\n",
      "    _threading_Thread_run(self)\n",
      "  File \"/usr/lib/python3.10/threading.py\", line 953, in run\n",
      "    self._target(*self._args, **self._kwargs)\n",
      "  File \"/mnt/nvme1n1p3/Documents/Codes/Python/ICON-23-24-EDH/src/grimoire.py\", line 245, in handle_cards\n",
      "    decks.find(decks_to_fetch, deck_id).add_commander(card)\n",
      "AttributeError: 'NoneType' object has no attribute 'add_commander'\n"
     ]
    },
    {
     "name": "stdout",
     "output_type": "stream",
     "text": [
      "Salvate 81 carte in Cazur and Ukkima.pkl da Archidekt - 26.82 kB\n",
      "Salvate 70 carte in azusa.pkl da Archidekt - 23.76 kB\n",
      "Salvate 68 carte in fain.pkl da Archidekt - 24.15 kB\n",
      "Non riesco ad aggiungere altre carte, procedo oltre                \n",
      "Carico le carte dal grimorio di Cedh syr carah\n",
      "Carico le carte dal grimorio di anax\n",
      "Carico le carte dal grimorio di sedris\n",
      "Carico le carte dal grimorio di traxos edh\n",
      "Carico le carte dal grimorio di lorthos cmander\n",
      "Carico le carte dal grimorio di Glissa Sunslayer\n",
      "Carico le carte dal grimorio di Obeka\n",
      "Carico le carte dal grimorio di Sauron, Reanimator\n",
      "Carico le carte dal grimorio di chisei\n",
      "Carico le carte dal grimorio di Bjornog\n",
      "Non riesco ad aggiungere altre carte, procedo oltre                \n",
      "Non riesco ad aggiungere altre carte, procedo oltre                \n",
      "Non riesco ad aggiungere altre carte, procedo oltre                \n",
      "Non riesco ad aggiungere altre carte, procedo oltre                \n",
      "Non riesco ad aggiungere altre carte, procedo oltre                \n",
      "Carico le carte dal grimorio di Zur the Coach\n",
      "Carico le carte dal grimorio di Auntie Blythe\n",
      "Carico le carte dal grimorio di Graaz\n",
      "Carico le carte dal grimorio di Unblockablue\n",
      "Carico le carte dal grimorio di Aragorn\n",
      "Carico le carte dal grimorio di Evra\n",
      "Carico le carte dal grimorio di Cap\n",
      "Carico le carte dal grimorio di Calix, Guided By Faith (not yet released)\n",
      "Carico le carte dal grimorio di Nissa, Resurgent Animist\n",
      "Carico le carte dal grimorio di Pølle\n",
      "Carico le carte dal grimorio di rona\n",
      "Carico le carte dal grimorio di Grenzo\n",
      "Carico le carte dal grimorio di Liesa\n",
      "Carico le carte dal grimorio di mizzix\n",
      "Carico le carte dal grimorio di Eight-and-a-Half Superfriends\n",
      "Carico le carte dal grimorio di Glissa Sunslayer Budget\n",
      "Carico le carte dal grimorio di Skullbriar\n",
      "Non riesco ad aggiungere altre carte, procedo oltre                \n",
      "Non riesco ad aggiungere altre carte, procedo oltre                \n",
      "Non riesco ad aggiungere altre carte, procedo oltre                \n",
      "Non riesco ad aggiungere altre carte, procedo oltre                \n",
      "Non riesco ad aggiungere altre carte, procedo oltre                \n"
     ]
    },
    {
     "name": "stderr",
     "output_type": "stream",
     "text": [
      "Exception in thread Thread-10874 (handle_cards):\n",
      "Traceback (most recent call last):\n",
      "  File \"/usr/lib/python3.10/threading.py\", line 1016, in _bootstrap_inner\n",
      "    self.run()\n",
      "  File \"/home/axten/.local/lib/python3.10/site-packages/ipykernel/ipkernel.py\", line 766, in run_closure\n",
      "    _threading_Thread_run(self)\n",
      "  File \"/usr/lib/python3.10/threading.py\", line 953, in run\n",
      "    self._target(*self._args, **self._kwargs)\n",
      "  File \"/mnt/nvme1n1p3/Documents/Codes/Python/ICON-23-24-EDH/src/grimoire.py\", line 245, in handle_cards\n",
      "    decks.find(decks_to_fetch, deck_id).add_commander(card)\n",
      "AttributeError: 'NoneType' object has no attribute 'add_commander'\n"
     ]
    },
    {
     "name": "stdout",
     "output_type": "stream",
     "text": [
      "Salvate 59 carte in tor wauki.pkl da Archidekt - 19.97 kB\n"
     ]
    },
    {
     "name": "stderr",
     "output_type": "stream",
     "text": [
      "Exception in thread Thread-10878 (handle_cards):\n",
      "Traceback (most recent call last):\n",
      "  File \"/usr/lib/python3.10/threading.py\", line 1016, in _bootstrap_inner\n",
      "    self.run()\n",
      "  File \"/home/axten/.local/lib/python3.10/site-packages/ipykernel/ipkernel.py\", line 766, in run_closure\n",
      "    _threading_Thread_run(self)\n",
      "  File \"/usr/lib/python3.10/threading.py\", line 953, in run\n",
      "    self._target(*self._args, **self._kwargs)\n",
      "  File \"/mnt/nvme1n1p3/Documents/Codes/Python/ICON-23-24-EDH/src/grimoire.py\", line 245, in handle_cards\n",
      "    decks.find(decks_to_fetch, deck_id).add_commander(card)\n",
      "AttributeError: 'NoneType' object has no attribute 'add_commander'\n"
     ]
    },
    {
     "name": "stdout",
     "output_type": "stream",
     "text": [
      "Salvate 69 carte in Tetsuo.pkl da Archidekt - 25.43 kB\n",
      "Salvate 80 carte in Titnia.pkl da Archidekt - 28.69 kB\n",
      "Salvate 81 carte in Tameshi.pkl da Archidekt - 28.7 kB\n"
     ]
    },
    {
     "name": "stderr",
     "output_type": "stream",
     "text": [
      "Exception in thread Thread-10890 (handle_cards):\n",
      "Traceback (most recent call last):\n",
      "  File \"/usr/lib/python3.10/threading.py\", line 1016, in _bootstrap_inner\n",
      "    self.run()\n",
      "  File \"/home/axten/.local/lib/python3.10/site-packages/ipykernel/ipkernel.py\", line 766, in run_closure\n",
      "    _threading_Thread_run(self)\n",
      "  File \"/usr/lib/python3.10/threading.py\", line 953, in run\n",
      "    self._target(*self._args, **self._kwargs)\n",
      "  File \"/mnt/nvme1n1p3/Documents/Codes/Python/ICON-23-24-EDH/src/grimoire.py\", line 245, in handle_cards\n",
      "    decks.find(decks_to_fetch, deck_id).add_commander(card)\n",
      "AttributeError: 'NoneType' object has no attribute 'add_commander'\n"
     ]
    },
    {
     "name": "stdout",
     "output_type": "stream",
     "text": [
      "Salvate 1 carte in copy.pkl da Archidekt - 0.56 kB\n",
      "Carico le carte dal grimorio di Neeegan\n",
      "Carico le carte dal grimorio di acererak revised\n",
      "Carico le carte dal grimorio di Atraxa saga\n",
      "Carico le carte dal grimorio di Zalto Baggins\n",
      "Carico le carte dal grimorio di Shigeki\n",
      "Carico le carte dal grimorio di mana burn\n",
      "Carico le carte dal grimorio di inferno\n",
      "Carico le carte dal grimorio di hamza eldrazi artifact\n",
      "Carico le carte dal grimorio di gonti\n",
      "Carico le carte dal grimorio di yusri\n",
      "Non riesco ad aggiungere altre carte, procedo oltre                \n",
      "Carico le carte dal grimorio di boross blood\n",
      "Carico le carte dal grimorio di anje maid\n",
      "Carico le carte dal grimorio di Darien EDH\n",
      "Carico le carte dal grimorio di Alela\n",
      "Carico le carte dal grimorio di Chatterfang and Hazel Tokens\n",
      "Non riesco ad aggiungere altre carte, procedo oltre                \n",
      "Non riesco ad aggiungere altre carte, procedo oltre                \n",
      "Non riesco ad aggiungere altre carte, procedo oltre                \n",
      "Carico le carte dal grimorio di Chatterfang\n",
      "Non riesco ad aggiungere altre carte, procedo oltre                \n",
      "Carico le carte dal grimorio di Karona Warriors - Budget\n",
      "Carico le carte dal grimorio di Vito\n",
      "Carico le carte dal grimorio di dominus cavalcade\n",
      "Carico le carte dal grimorio di The Red Menace\n",
      "Carico le carte dal grimorio di Janky Dynaheir\n",
      "Carico le carte dal grimorio di Kuuna, Seepswarm King\n",
      "Carico le carte dal grimorio di Vadyan, Slaughter Drudge\n",
      "Carico le carte dal grimorio di Anicca, Wildrose Captain\n",
      "Non riesco ad aggiungere altre carte, procedo oltre                \n",
      "Non riesco ad aggiungere altre carte, procedo oltre                \n",
      "Non riesco ad aggiungere altre carte, procedo oltre                \n",
      "Non riesco ad aggiungere altre carte, procedo oltre                \n",
      "Non riesco ad aggiungere altre carte, procedo oltre                \n",
      "Non riesco ad aggiungere altre carte, procedo oltre                \n"
     ]
    },
    {
     "name": "stderr",
     "output_type": "stream",
     "text": [
      "Exception in thread Thread-10938 (handle_cards):\n",
      "Traceback (most recent call last):\n",
      "  File \"/usr/lib/python3.10/threading.py\", line 1016, in _bootstrap_inner\n",
      "    self.run()\n",
      "  File \"/home/axten/.local/lib/python3.10/site-packages/ipykernel/ipkernel.py\", line 766, in run_closure\n",
      "    _threading_Thread_run(self)\n",
      "  File \"/usr/lib/python3.10/threading.py\", line 953, in run\n",
      "    self._target(*self._args, **self._kwargs)\n",
      "  File \"/mnt/nvme1n1p3/Documents/Codes/Python/ICON-23-24-EDH/src/grimoire.py\", line 245, in handle_cards\n",
      "    decks.find(decks_to_fetch, deck_id).add_commander(card)\n",
      "AttributeError: 'NoneType' object has no attribute 'add_commander'\n"
     ]
    },
    {
     "name": "stdout",
     "output_type": "stream",
     "text": [
      "Salvate 74 carte in Kajirik, Adamant Extremage.pkl da Archidekt - 26.75 kB\n",
      "Salvate 73 carte in Harkod, Shallow Wrecker.pkl da Archidekt - 26.53 kB\n",
      "Carico le carte dal grimorio di Averon, Beast Sparker\n",
      "Carico le carte dal grimorio di Eftir, Meandering Soul\n",
      "Carico le carte dal grimorio di Slaggarm Tuskbeard\n",
      "Carico le carte dal grimorio di Syeena, Elvish Godtoucher\n",
      "Carico le carte dal grimorio di Cyndred, Axe-Horn Chief\n",
      "Carico le carte dal grimorio di Vytar, Thaumaturge’s Pet\n",
      "Carico le carte dal grimorio di Nesinak, Synthetic Brute\n",
      "Carico le carte dal grimorio di Sontram, Replicator Egotist\n",
      "Carico le carte dal grimorio di Gakoro, the Wildsoul\n",
      "Carico le carte dal grimorio di Otodus, Fleethunter\n",
      "Carico le carte dal grimorio di precon Faceless Menace\n",
      "Carico le carte dal grimorio di precon Enhanced Evolution\n",
      "Carico le carte dal grimorio di precon Ruthless Regiment\n",
      "Carico le carte dal grimorio di precon Land’s Wrath\n",
      "Carico le carte dal grimorio di precon Arm for Battle\n",
      "Carico le carte dal grimorio di precon witherbloom\n"
     ]
    },
    {
     "name": "stderr",
     "output_type": "stream",
     "text": [
      "Exception in thread Thread-10946 (handle_cards):\n",
      "Traceback (most recent call last):\n",
      "  File \"/usr/lib/python3.10/threading.py\", line 1016, in _bootstrap_inner\n",
      "    self.run()\n",
      "  File \"/home/axten/.local/lib/python3.10/site-packages/ipykernel/ipkernel.py\", line 766, in run_closure\n",
      "    _threading_Thread_run(self)\n",
      "  File \"/usr/lib/python3.10/threading.py\", line 953, in run\n",
      "    self._target(*self._args, **self._kwargs)\n",
      "  File \"/mnt/nvme1n1p3/Documents/Codes/Python/ICON-23-24-EDH/src/grimoire.py\", line 245, in handle_cards\n",
      "    decks.find(decks_to_fetch, deck_id).add_commander(card)\n",
      "AttributeError: 'NoneType' object has no attribute 'add_commander'\n"
     ]
    },
    {
     "name": "stdout",
     "output_type": "stream",
     "text": [
      "Salvate 24 carte in Precon Spirit Squadron.pkl da Archidekt - 8.75 kB\n"
     ]
    },
    {
     "name": "stderr",
     "output_type": "stream",
     "text": [
      "Exception in thread Thread-10950 (handle_cards):\n",
      "Traceback (most recent call last):\n",
      "  File \"/usr/lib/python3.10/threading.py\", line 1016, in _bootstrap_inner\n",
      "    self.run()\n",
      "  File \"/home/axten/.local/lib/python3.10/site-packages/ipykernel/ipkernel.py\", line 766, in run_closure\n",
      "    _threading_Thread_run(self)\n",
      "  File \"/usr/lib/python3.10/threading.py\", line 953, in run\n",
      "    self._target(*self._args, **self._kwargs)\n",
      "  File \"/mnt/nvme1n1p3/Documents/Codes/Python/ICON-23-24-EDH/src/grimoire.py\", line 245, in handle_cards\n",
      "    decks.find(decks_to_fetch, deck_id).add_commander(card)\n",
      "AttributeError: 'NoneType' object has no attribute 'add_commander'\n"
     ]
    },
    {
     "name": "stdout",
     "output_type": "stream",
     "text": [
      "Salvate 17 carte in Precon Reap the Tides.pkl da Archidekt - 7.41 kB\n"
     ]
    },
    {
     "name": "stderr",
     "output_type": "stream",
     "text": [
      "Exception in thread Thread-10954 (handle_cards):\n",
      "Traceback (most recent call last):\n",
      "  File \"/usr/lib/python3.10/threading.py\", line 1016, in _bootstrap_inner\n",
      "    self.run()\n",
      "  File \"/home/axten/.local/lib/python3.10/site-packages/ipykernel/ipkernel.py\", line 766, in run_closure\n",
      "    _threading_Thread_run(self)\n",
      "  File \"/usr/lib/python3.10/threading.py\", line 953, in run\n",
      "    self._target(*self._args, **self._kwargs)\n",
      "  File \"/mnt/nvme1n1p3/Documents/Codes/Python/ICON-23-24-EDH/src/grimoire.py\", line 245, in handle_cards\n",
      "    decks.find(decks_to_fetch, deck_id).add_commander(card)\n",
      "AttributeError: 'NoneType' object has no attribute 'add_commander'\n"
     ]
    },
    {
     "name": "stdout",
     "output_type": "stream",
     "text": [
      "Salvate 83 carte in precon quandrix.pkl da Archidekt - 27.65 kB\n",
      "Salvate 78 carte in precon silverquil.pkl da Archidekt - 28.35 kB\n",
      "Non riesco ad aggiungere altre carte, procedo oltre                \n",
      "Non riesco ad aggiungere altre carte, procedo oltre                \n",
      "Non riesco ad aggiungere altre carte, procedo oltre                \n",
      "Non riesco ad aggiungere altre carte, procedo oltre                \n",
      "Carico le carte dal grimorio di Prosperous Treasure\n",
      "Carico le carte dal grimorio di Sac City\n",
      "Carico le carte dal grimorio di Boros Equipment\n",
      "Carico le carte dal grimorio di Atraxa Enchantments\n",
      "Carico le carte dal grimorio di Blinking Brago\n",
      "Carico le carte dal grimorio di Mono Green Good Stuff\n",
      "Carico le carte dal grimorio di Winter is Coming\n",
      "Carico le carte dal grimorio di Saheeli's Artifacts\n",
      "Carico le carte dal grimorio di Superpowers\n",
      "Carico le carte dal grimorio di Flashback Burn\n",
      "Carico le carte dal grimorio di Human Tribal\n",
      "Non riesco ad aggiungere altre carte, procedo oltre                \n",
      "Non riesco ad aggiungere altre carte, procedo oltre                \n",
      "Non riesco ad aggiungere altre carte, procedo oltre                \n",
      "Carico le carte dal grimorio di Merfolk Tribal\n",
      "Carico le carte dal grimorio di Edgar's Vamps\n",
      "Carico le carte dal grimorio di Scrying in the Storm\n",
      "Carico le carte dal grimorio di Jodah' s Big Mana Funhouse\n",
      "Non riesco ad aggiungere altre carte, procedo oltre                \n",
      "Carico le carte dal grimorio di Wheel and Deal\n",
      "Carico le carte dal grimorio di Mutation Creation\n",
      "Carico le carte dal grimorio di Dino Tribal\n",
      "Carico le carte dal grimorio di Human Life Gain\n",
      "Carico le carte dal grimorio di Hydra Tribal\n",
      "Carico le carte dal grimorio di Fallen Angels\n",
      "Carico le carte dal grimorio di The Da Vinci Code\n",
      "Carico le carte dal grimorio di Calvin Johnson\n",
      "Carico le carte dal grimorio di Masters of Evil (Affinity)\n",
      "Carico le carte dal grimorio di Pet Cemetery (Creatures Only)\n",
      "Non riesco ad aggiungere altre carte, procedo oltre                \n",
      "Non riesco ad aggiungere altre carte, procedo oltre                \n",
      "Non riesco ad aggiungere altre carte, procedo oltre                \n"
     ]
    },
    {
     "name": "stderr",
     "output_type": "stream",
     "text": [
      "Exception in thread Thread-11006 (handle_cards):\n",
      "Traceback (most recent call last):\n",
      "  File \"/usr/lib/python3.10/threading.py\", line 1016, in _bootstrap_inner\n",
      "    self.run()\n",
      "  File \"/home/axten/.local/lib/python3.10/site-packages/ipykernel/ipkernel.py\", line 766, in run_closure\n",
      "    _threading_Thread_run(self)\n",
      "  File \"/usr/lib/python3.10/threading.py\", line 953, in run\n",
      "    self._target(*self._args, **self._kwargs)\n",
      "  File \"/mnt/nvme1n1p3/Documents/Codes/Python/ICON-23-24-EDH/src/grimoire.py\", line 245, in handle_cards\n",
      "    decks.find(decks_to_fetch, deck_id).add_commander(card)\n",
      "AttributeError: 'NoneType' object has no attribute 'add_commander'\n"
     ]
    },
    {
     "name": "stdout",
     "output_type": "stream",
     "text": [
      "Salvate 38 carte in Urza Assembles the Titans.pkl da Archidekt - 13.12 kB\n",
      "Salvate 67 carte in To Hot To Handle.pkl da Archidekt - 24.99 kB\n",
      "Salvate 94 carte in Legends Legacy.pkl da Archidekt - 36.8 kB\n"
     ]
    },
    {
     "name": "stderr",
     "output_type": "stream",
     "text": [
      "Exception in thread Thread-11018 (handle_cards):\n",
      "Traceback (most recent call last):\n",
      "  File \"/usr/lib/python3.10/threading.py\", line 1016, in _bootstrap_inner\n",
      "    self.run()\n",
      "  File \"/home/axten/.local/lib/python3.10/site-packages/ipykernel/ipkernel.py\", line 766, in run_closure\n",
      "    _threading_Thread_run(self)\n",
      "  File \"/usr/lib/python3.10/threading.py\", line 953, in run\n",
      "    self._target(*self._args, **self._kwargs)\n",
      "  File \"/mnt/nvme1n1p3/Documents/Codes/Python/ICON-23-24-EDH/src/grimoire.py\", line 245, in handle_cards\n",
      "    decks.find(decks_to_fetch, deck_id).add_commander(card)\n",
      "AttributeError: 'NoneType' object has no attribute 'add_commander'\n"
     ]
    },
    {
     "name": "stdout",
     "output_type": "stream",
     "text": [
      "Salvate 20 carte in Press Your Luck.pkl da Archidekt - 7.85 kB\n"
     ]
    },
    {
     "name": "stderr",
     "output_type": "stream",
     "text": [
      "Exception in thread Thread-11022 (handle_cards):\n",
      "Traceback (most recent call last):\n",
      "  File \"/usr/lib/python3.10/threading.py\", line 1016, in _bootstrap_inner\n",
      "    self.run()\n",
      "  File \"/home/axten/.local/lib/python3.10/site-packages/ipykernel/ipkernel.py\", line 766, in run_closure\n",
      "    _threading_Thread_run(self)\n",
      "  File \"/usr/lib/python3.10/threading.py\", line 953, in run\n",
      "    self._target(*self._args, **self._kwargs)\n",
      "  File \"/mnt/nvme1n1p3/Documents/Codes/Python/ICON-23-24-EDH/src/grimoire.py\", line 245, in handle_cards\n",
      "    decks.find(decks_to_fetch, deck_id).add_commander(card)\n",
      "AttributeError: 'NoneType' object has no attribute 'add_commander'\n"
     ]
    },
    {
     "name": "stdout",
     "output_type": "stream",
     "text": [
      "Salvate 13 carte in Venture Control.pkl da Archidekt - 4.9 kB\n"
     ]
    },
    {
     "name": "stderr",
     "output_type": "stream",
     "text": [
      "Exception in thread Thread-11026 (handle_cards):\n",
      "Traceback (most recent call last):\n",
      "  File \"/usr/lib/python3.10/threading.py\", line 1016, in _bootstrap_inner\n",
      "    self.run()\n",
      "  File \"/home/axten/.local/lib/python3.10/site-packages/ipykernel/ipkernel.py\", line 766, in run_closure\n",
      "    _threading_Thread_run(self)\n",
      "  File \"/usr/lib/python3.10/threading.py\", line 953, in run\n",
      "    self._target(*self._args, **self._kwargs)\n",
      "  File \"/mnt/nvme1n1p3/Documents/Codes/Python/ICON-23-24-EDH/src/grimoire.py\", line 245, in handle_cards\n",
      "    decks.find(decks_to_fetch, deck_id).add_commander(card)\n",
      "AttributeError: 'NoneType' object has no attribute 'add_commander'\n"
     ]
    },
    {
     "name": "stdout",
     "output_type": "stream",
     "text": [
      "Salvate 22 carte in Falcon Punch.pkl da Archidekt - 7.32 kB\n",
      "Non riesco ad aggiungere altre carte, procedo oltre                \n",
      "Carico le carte dal grimorio di Ovika, Enchantment Enigma\n",
      "Carico le carte dal grimorio di Hydranimator\n",
      "Carico le carte dal grimorio di What’s Your Background\n",
      "Carico le carte dal grimorio di Explorers of the Deep\n",
      "Carico le carte dal grimorio di Rings of Power\n",
      "Carico le carte dal grimorio di Mono Green Control\n",
      "Carico le carte dal grimorio di Animation Station\n",
      "Carico le carte dal grimorio di Party Time\n",
      "Carico le carte dal grimorio di Reuse and reCYCLE\n",
      "Carico le carte dal grimorio di Ninjas and Dragons\n",
      "Carico le carte dal grimorio di Do Right And Kill Everything\n",
      "Carico le carte dal grimorio di UnBEARable Assault\n",
      "Carico le carte dal grimorio di To Win or Toluz\n",
      "Carico le carte dal grimorio di Heartless Hidetsugu\n",
      "Carico le carte dal grimorio di Gone Fishing\n",
      "Non riesco ad aggiungere altre carte, procedo oltre                \n",
      "Non riesco ad aggiungere altre carte, procedo oltre                \n",
      "Non riesco ad aggiungere altre carte, procedo oltre                \n",
      "Non riesco ad aggiungere altre carte, procedo oltre                \n",
      "Non riesco ad aggiungere altre carte, procedo oltre                \n",
      "Non riesco ad aggiungere altre carte, procedo oltre                \n",
      "Carico le carte dal grimorio di Pay Your Taxes\n",
      "Carico le carte dal grimorio di Squirrel Nutz\n",
      "Carico le carte dal grimorio di Angels Sacrifice\n",
      "Carico le carte dal grimorio di Penguin's Pod\n",
      "Carico le carte dal grimorio di Erebos\n",
      "Carico le carte dal grimorio di Gruul Group Slug\n",
      "Carico le carte dal grimorio di Deathocrats\n",
      "Carico le carte dal grimorio di Toxrill is Toxic\n",
      "Carico le carte dal grimorio di Death and Taxes\n",
      "Non riesco ad aggiungere altre carte, procedo oltre                \n",
      "Non riesco ad aggiungere altre carte, procedo oltre                \n",
      "Non riesco ad aggiungere altre carte, procedo oltre                \n",
      "Non riesco ad aggiungere altre carte, procedo oltre                \n",
      "Non riesco ad aggiungere altre carte, procedo oltre                \n",
      "Salvate 86 carte in Zopandrel, Hunger Dominus.pkl da Archidekt - 32.35 kB\n",
      "Carico le carte dal grimorio di Edgar Markov\n",
      "Carico le carte dal grimorio di Giada, Font of Hope\n",
      "Carico le carte dal grimorio di Azlask\n",
      "Carico le carte dal grimorio di Zhulodok, Void Gorger\n",
      "Carico le carte dal grimorio di Vihaan Goldwaker\n",
      "Carico le carte dal grimorio di Satya\n",
      "Carico le carte dal grimorio di Sheoldred, The Apocalypse\n",
      "Carico le carte dal grimorio di Jodah, The Unifer\n",
      "Carico le carte dal grimorio di Urza, Chief Artificer\n",
      "Carico le carte dal grimorio di Nelly Borca, Impulsive Accuser\n",
      "Carico le carte dal grimorio di Mirko, Obsessive Theorist\n",
      "Carico le carte dal grimorio di MonoRedAffinity\n",
      "Carico le carte dal grimorio di SneakyFaceDownStuff\n",
      "Carico le carte dal grimorio di Kiki\n",
      "Carico le carte dal grimorio di TrazynTheNonInfinite\n",
      "Carico le carte dal grimorio di OopsAllDemons\n",
      "Carico le carte dal grimorio di Bruna\n"
     ]
    },
    {
     "name": "stderr",
     "output_type": "stream",
     "text": [
      "Exception in thread Thread-11082 (handle_cards):\n",
      "Traceback (most recent call last):\n",
      "  File \"/usr/lib/python3.10/threading.py\", line 1016, in _bootstrap_inner\n",
      "    self.run()\n",
      "  File \"/home/axten/.local/lib/python3.10/site-packages/ipykernel/ipkernel.py\", line 766, in run_closure\n",
      "    _threading_Thread_run(self)\n",
      "  File \"/usr/lib/python3.10/threading.py\", line 953, in run\n",
      "    self._target(*self._args, **self._kwargs)\n",
      "  File \"/mnt/nvme1n1p3/Documents/Codes/Python/ICON-23-24-EDH/src/grimoire.py\", line 245, in handle_cards\n",
      "    decks.find(decks_to_fetch, deck_id).add_commander(card)\n",
      "AttributeError: 'NoneType' object has no attribute 'add_commander'\n"
     ]
    },
    {
     "name": "stdout",
     "output_type": "stream",
     "text": [
      "Salvate 78 carte in NecronMill.pkl da Archidekt - 25.53 kB\n"
     ]
    },
    {
     "name": "stderr",
     "output_type": "stream",
     "text": [
      "Exception in thread Thread-11086 (handle_cards):\n",
      "Traceback (most recent call last):\n",
      "  File \"/usr/lib/python3.10/threading.py\", line 1016, in _bootstrap_inner\n",
      "    self.run()\n",
      "  File \"/home/axten/.local/lib/python3.10/site-packages/ipykernel/ipkernel.py\", line 766, in run_closure\n",
      "    _threading_Thread_run(self)\n",
      "  File \"/usr/lib/python3.10/threading.py\", line 953, in run\n",
      "    self._target(*self._args, **self._kwargs)\n",
      "  File \"/mnt/nvme1n1p3/Documents/Codes/Python/ICON-23-24-EDH/src/grimoire.py\", line 245, in handle_cards\n",
      "    decks.find(decks_to_fetch, deck_id).add_commander(card)\n",
      "AttributeError: 'NoneType' object has no attribute 'add_commander'\n"
     ]
    },
    {
     "name": "stdout",
     "output_type": "stream",
     "text": [
      "Salvate 52 carte in WeAreLegion.pkl da Archidekt - 18.6 kB\n",
      "Salvate 74 carte in SneeDronnigen.pkl da Archidekt - 26.27 kB\n",
      "Salvate 35 carte in WeDontNeedTheWater.pkl da Archidekt - 13.03 kB\n",
      "Carico le carte dal grimorio di Godly\n",
      "Carico le carte dal grimorio di Zombies\n",
      "Salvate 38 carte in DealsWithTheDevil.pkl da Archidekt - 13.05 kB\n",
      "Carico le carte dal grimorio di Feather\n",
      "Non riesco ad aggiungere altre carte, procedo oltre                \n",
      "Non riesco ad aggiungere altre carte, procedo oltre                \n",
      "Carico le carte dal grimorio di ColorsAreBad\n",
      "Carico le carte dal grimorio di Curses\n",
      "Carico le carte dal grimorio di BloodForTheBloodGod\n",
      "Carico le carte dal grimorio di JoriDragonRider\n",
      "Carico le carte dal grimorio di DragonsIncMonoRed\n",
      "Carico le carte dal grimorio di DragonsInc\n",
      "Carico le carte dal grimorio di ShrineLikeADiamond\n",
      "Carico le carte dal grimorio di Karador\n",
      "Carico le carte dal grimorio di LifeGain\n",
      "Carico le carte dal grimorio di MonoRed\n",
      "Carico le carte dal grimorio di Walls\n",
      "Non riesco ad aggiungere altre carte, procedo oltre                \n",
      "Non riesco ad aggiungere altre carte, procedo oltre                \n",
      "Non riesco ad aggiungere altre carte, procedo oltre                \n",
      "Non riesco ad aggiungere altre carte, procedo oltre                \n",
      "Carico le carte dal grimorio di Guilds\n",
      "Carico le carte dal grimorio di SweetestPoison\n",
      "Carico le carte dal grimorio di WitchkingOfAngmar\n",
      "Carico le carte dal grimorio di DeathByHamster\n",
      "Carico le carte dal grimorio di TheQueenOfEggs\n",
      "Carico le carte dal grimorio di Fishy\n",
      "Carico le carte dal grimorio di Mizzixx\n",
      "Carico le carte dal grimorio di AllTheCommanders\n",
      "Carico le carte dal grimorio di Flashy\n",
      "Carico le carte dal grimorio di Fight\n",
      "Carico le carte dal grimorio di Wheel\n",
      "Carico le carte dal grimorio di Titania\n",
      "Carico le carte dal grimorio di OopsAllCreatures\n",
      "Carico le carte dal grimorio di CanIGetAnEncore\n",
      "Non riesco ad aggiungere altre carte, procedo oltre                \n",
      "Non riesco ad aggiungere altre carte, procedo oltre                \n",
      "Non riesco ad aggiungere altre carte, procedo oltre                \n",
      "Non riesco ad aggiungere altre carte, procedo oltre                \n",
      "Non riesco ad aggiungere altre carte, procedo oltre                \n"
     ]
    },
    {
     "name": "stderr",
     "output_type": "stream",
     "text": [
      "Exception in thread Thread-11146 (handle_cards):\n",
      "Traceback (most recent call last):\n",
      "  File \"/usr/lib/python3.10/threading.py\", line 1016, in _bootstrap_inner\n",
      "    self.run()\n",
      "  File \"/home/axten/.local/lib/python3.10/site-packages/ipykernel/ipkernel.py\", line 766, in run_closure\n",
      "    _threading_Thread_run(self)\n",
      "  File \"/usr/lib/python3.10/threading.py\", line 953, in run\n",
      "    self._target(*self._args, **self._kwargs)\n",
      "  File \"/mnt/nvme1n1p3/Documents/Codes/Python/ICON-23-24-EDH/src/grimoire.py\", line 245, in handle_cards\n",
      "    decks.find(decks_to_fetch, deck_id).add_commander(card)\n",
      "AttributeError: 'NoneType' object has no attribute 'add_commander'\n"
     ]
    },
    {
     "name": "stdout",
     "output_type": "stream",
     "text": [
      "Salvate 21 carte in Knights.pkl da Archidekt - 7.96 kB\n"
     ]
    },
    {
     "name": "stderr",
     "output_type": "stream",
     "text": [
      "Exception in thread Thread-11150 (handle_cards):\n",
      "Traceback (most recent call last):\n",
      "  File \"/usr/lib/python3.10/threading.py\", line 1016, in _bootstrap_inner\n",
      "    self.run()\n",
      "  File \"/home/axten/.local/lib/python3.10/site-packages/ipykernel/ipkernel.py\", line 766, in run_closure\n",
      "    _threading_Thread_run(self)\n",
      "  File \"/usr/lib/python3.10/threading.py\", line 953, in run\n",
      "    self._target(*self._args, **self._kwargs)\n",
      "  File \"/mnt/nvme1n1p3/Documents/Codes/Python/ICON-23-24-EDH/src/grimoire.py\", line 245, in handle_cards\n",
      "    decks.find(decks_to_fetch, deck_id).add_commander(card)\n",
      "AttributeError: 'NoneType' object has no attribute 'add_commander'\n"
     ]
    },
    {
     "name": "stdout",
     "output_type": "stream",
     "text": [
      "Salvate 1 carte in MotherOfMachines.pkl da Archidekt - 0.68 kB\n",
      "Salvate 85 carte in BigDaddyD.pkl da Archidekt - 29.89 kB\n"
     ]
    },
    {
     "name": "stderr",
     "output_type": "stream",
     "text": [
      "Exception in thread Thread-11158 (handle_cards):\n",
      "Traceback (most recent call last):\n",
      "  File \"/usr/lib/python3.10/threading.py\", line 1016, in _bootstrap_inner\n",
      "    self.run()\n",
      "  File \"/home/axten/.local/lib/python3.10/site-packages/ipykernel/ipkernel.py\", line 766, in run_closure\n",
      "    _threading_Thread_run(self)\n",
      "  File \"/usr/lib/python3.10/threading.py\", line 953, in run\n",
      "    self._target(*self._args, **self._kwargs)\n",
      "  File \"/mnt/nvme1n1p3/Documents/Codes/Python/ICON-23-24-EDH/src/grimoire.py\", line 245, in handle_cards\n",
      "    decks.find(decks_to_fetch, deck_id).add_commander(card)\n",
      "AttributeError: 'NoneType' object has no attribute 'add_commander'\n"
     ]
    },
    {
     "name": "stdout",
     "output_type": "stream",
     "text": [
      "Salvate 58 carte in ItsAReach.pkl da Archidekt - 20.83 kB\n",
      "Non riesco ad aggiungere altre carte, procedo oltre                \n",
      "Non riesco ad aggiungere altre carte, procedo oltre                \n",
      "Carico le carte dal grimorio di MonoBlue3\n",
      "Carico le carte dal grimorio di MonoGood\n",
      "Carico le carte dal grimorio di Pod\n",
      "Carico le carte dal grimorio di EquipmentDude\n",
      "Carico le carte dal grimorio di DragonReanimator\n",
      "Carico le carte dal grimorio di Godly\n",
      "Carico le carte dal grimorio di BlinkBears\n",
      "Carico le carte dal grimorio di MonoRedAggro\n",
      "Carico le carte dal grimorio di MonoGreenGoodShit\n",
      "Carico le carte dal grimorio di Kaalia\n",
      "Carico le carte dal grimorio di Howl\n",
      "Carico le carte dal grimorio di Necron\n",
      "Carico le carte dal grimorio di SoToxic\n",
      "Carico le carte dal grimorio di MadAF\n",
      "Non riesco ad aggiungere altre carte, procedo oltre                \n",
      "Non riesco ad aggiungere altre carte, procedo oltre                \n",
      "Non riesco ad aggiungere altre carte, procedo oltre                \n",
      "Non riesco ad aggiungere altre carte, procedo oltre                \n",
      "Carico le carte dal grimorio di Illsuion\n",
      "Carico le carte dal grimorio di Cascadia\n",
      "Carico le carte dal grimorio di Meren\n",
      "Carico le carte dal grimorio di EnchantressVoltron\n",
      "Carico le carte dal grimorio di AngelDemonDragon\n",
      "Carico le carte dal grimorio di MonoGreenDraw\n",
      "Carico le carte dal grimorio di AristocraticSisters\n",
      "Carico le carte dal grimorio di SelfMillMonoBlack\n",
      "Non riesco ad aggiungere altre carte, procedo oltre                \n",
      "Non riesco ad aggiungere altre carte, procedo oltre                \n",
      "Non riesco ad aggiungere altre carte, procedo oltre                \n",
      "Non riesco ad aggiungere altre carte, procedo oltre                \n",
      "Carico le carte dal grimorio di Reanimator\n",
      "Carico le carte dal grimorio di Godly\n",
      "Non riesco ad aggiungere altre carte, procedo oltre                \n"
     ]
    },
    {
     "name": "stderr",
     "output_type": "stream",
     "text": [
      "Exception in thread Thread-11206 (handle_cards):\n",
      "Traceback (most recent call last):\n",
      "  File \"/usr/lib/python3.10/threading.py\", line 1016, in _bootstrap_inner\n",
      "    self.run()\n",
      "  File \"/home/axten/.local/lib/python3.10/site-packages/ipykernel/ipkernel.py\", line 766, in run_closure\n",
      "    _threading_Thread_run(self)\n",
      "  File \"/usr/lib/python3.10/threading.py\", line 953, in run\n",
      "    self._target(*self._args, **self._kwargs)\n",
      "  File \"/mnt/nvme1n1p3/Documents/Codes/Python/ICON-23-24-EDH/src/grimoire.py\", line 245, in handle_cards\n",
      "    decks.find(decks_to_fetch, deck_id).add_commander(card)\n",
      "AttributeError: 'NoneType' object has no attribute 'add_commander'\n"
     ]
    },
    {
     "name": "stdout",
     "output_type": "stream",
     "text": [
      "Salvate 24 carte in YouMustCost2orLessToBeInThisDeck.pkl da Archidekt - 11.62 kB\n"
     ]
    },
    {
     "name": "stderr",
     "output_type": "stream",
     "text": [
      "Exception in thread Thread-11210 (handle_cards):\n",
      "Traceback (most recent call last):\n",
      "  File \"/usr/lib/python3.10/threading.py\", line 1016, in _bootstrap_inner\n",
      "    self.run()\n",
      "  File \"/home/axten/.local/lib/python3.10/site-packages/ipykernel/ipkernel.py\", line 766, in run_closure\n",
      "    _threading_Thread_run(self)\n",
      "  File \"/usr/lib/python3.10/threading.py\", line 953, in run\n",
      "    self._target(*self._args, **self._kwargs)\n",
      "  File \"/mnt/nvme1n1p3/Documents/Codes/Python/ICON-23-24-EDH/src/grimoire.py\", line 245, in handle_cards\n",
      "    decks.find(decks_to_fetch, deck_id).add_commander(card)\n",
      "AttributeError: 'NoneType' object has no attribute 'add_commander'\n"
     ]
    },
    {
     "name": "stdout",
     "output_type": "stream",
     "text": [
      "Salvate 21 carte in LongBois.pkl da Archidekt - 7.7 kB\n",
      "Carico le carte dal grimorio di Aura\n",
      "Carico le carte dal grimorio di PartnerInCrime\n",
      "Carico le carte dal grimorio di DrawAllTheCards\n",
      "Carico le carte dal grimorio di Teshar\n",
      "Carico le carte dal grimorio di Skullbriar\n",
      "Carico le carte dal grimorio di SonOfOdin\n",
      "Carico le carte dal grimorio di ThisCard\n",
      "Carico le carte dal grimorio di Experimentation\n",
      "Carico le carte dal grimorio di Urza\n",
      "Carico le carte dal grimorio di SelfMillArtficat\n",
      "Carico le carte dal grimorio di Mill\n",
      "Carico le carte dal grimorio di InstantTribal\n",
      "Carico le carte dal grimorio di GreenSilverBullet\n",
      "Carico le carte dal grimorio di SharksInTheSky\n",
      "Carico le carte dal grimorio di Warp\n",
      "Carico le carte dal grimorio di SuperSelfMill\n",
      "Carico le carte dal grimorio di AuraBot\n",
      "Carico le carte dal grimorio di LandsAreGood\n",
      "Salvate 26 carte in MultiGood.pkl da Archidekt - 9.02 kB\n",
      "Carico le carte dal grimorio di MonoGood\n",
      "Salvate 23 carte in Sniper.pkl da Archidekt - 7.47 kB\n"
     ]
    },
    {
     "name": "stderr",
     "output_type": "stream",
     "text": [
      "Exception in thread Thread-11222 (handle_cards):\n",
      "Traceback (most recent call last):\n",
      "  File \"/usr/lib/python3.10/threading.py\", line 1016, in _bootstrap_inner\n",
      "    self.run()\n",
      "  File \"/home/axten/.local/lib/python3.10/site-packages/ipykernel/ipkernel.py\", line 766, in run_closure\n",
      "    _threading_Thread_run(self)\n",
      "  File \"/usr/lib/python3.10/threading.py\", line 953, in run\n",
      "    self._target(*self._args, **self._kwargs)\n",
      "  File \"/mnt/nvme1n1p3/Documents/Codes/Python/ICON-23-24-EDH/src/grimoire.py\", line 245, in handle_cards\n",
      "    decks.find(decks_to_fetch, deck_id).add_commander(card)\n",
      "AttributeError: 'NoneType' object has no attribute 'add_commander'\n"
     ]
    },
    {
     "name": "stdout",
     "output_type": "stream",
     "text": [
      "Salvate 37 carte in enchantress.pkl da Archidekt - 12.44 kB\n",
      "Salvate 82 carte in Zacama.pkl da Archidekt - 27.75 kB\n",
      "Non riesco ad aggiungere altre carte, procedo oltre                \n",
      "Non riesco ad aggiungere altre carte, procedo oltre                \n",
      "Non riesco ad aggiungere altre carte, procedo oltre                \n",
      "Non riesco ad aggiungere altre carte, procedo oltre                \n",
      "Carico le carte dal grimorio di Lands\n",
      "Carico le carte dal grimorio di Reanimator\n",
      "Carico le carte dal grimorio di Companion\n",
      "Carico le carte dal grimorio di Nekusar\n",
      "Carico le carte dal grimorio di Zombies\n",
      "Carico le carte dal grimorio di Sharuum\n",
      "Carico le carte dal grimorio di The Three G's\n",
      "Non riesco ad aggiungere altre carte, procedo oltre                \n",
      "Carico le carte dal grimorio di Don't Read the Fine Print\n",
      "Carico le carte dal grimorio di Ojer Axonil Deepest Might\n",
      "Non riesco ad aggiungere altre carte, procedo oltre                \n",
      "Non riesco ad aggiungere altre carte, procedo oltre                \n",
      "Carico le carte dal grimorio di Plagiarism is Flattery\n",
      "Carico le carte dal grimorio di The House Always Wins\n",
      "Carico le carte dal grimorio di Blood for the Blood God!\n",
      "Carico le carte dal grimorio di Jan Jansen Money Matters\n",
      "Carico le carte dal grimorio di Whims of Fate\n",
      "Non riesco ad aggiungere altre carte, procedo oltre                \n",
      "Non riesco ad aggiungere altre carte, procedo oltre                \n",
      "Non riesco ad aggiungere altre carte, procedo oltre                \n",
      "Carico le carte dal grimorio di Urza Precon Upgrade Guide\n",
      "Carico le carte dal grimorio di Alela's Flash Smash\n",
      "Non riesco ad aggiungere altre carte, procedo oltre                \n",
      "Carico le carte dal grimorio di Sophia, Dogged Detective and Dogs\n",
      "Carico le carte dal grimorio di Ob Nixilis Captive Kingpin Average\n",
      "Carico le carte dal grimorio di Ian Malcolm Average\n",
      "Carico le carte dal grimorio di Urtet\n",
      "Carico le carte dal grimorio di Blue and Owen\n",
      "Carico le carte dal grimorio di Mike's goro\n"
     ]
    },
    {
     "name": "stderr",
     "output_type": "stream",
     "text": [
      "Exception in thread Thread-11274 (handle_cards):\n",
      "Traceback (most recent call last):\n",
      "  File \"/usr/lib/python3.10/threading.py\", line 1016, in _bootstrap_inner\n",
      "    self.run()\n",
      "  File \"/home/axten/.local/lib/python3.10/site-packages/ipykernel/ipkernel.py\", line 766, in run_closure\n",
      "    _threading_Thread_run(self)\n",
      "  File \"/usr/lib/python3.10/threading.py\", line 953, in run\n",
      "    self._target(*self._args, **self._kwargs)\n",
      "  File \"/mnt/nvme1n1p3/Documents/Codes/Python/ICON-23-24-EDH/src/grimoire.py\", line 245, in handle_cards\n",
      "    decks.find(decks_to_fetch, deck_id).add_commander(card)\n",
      "AttributeError: 'NoneType' object has no attribute 'add_commander'\n"
     ]
    },
    {
     "name": "stdout",
     "output_type": "stream",
     "text": [
      "Salvate 54 carte in Volo, Guide to Monsters.pkl da Archidekt - 17.62 kB\n",
      "Salvate 98 carte in Zur, the Enchanter.pkl da Archidekt - 32.81 kB\n",
      "Salvate 84 carte in Thraximundar.pkl da Archidekt - 27.94 kB\n"
     ]
    },
    {
     "name": "stderr",
     "output_type": "stream",
     "text": [
      "Exception in thread Thread-11286 (handle_cards):\n",
      "Traceback (most recent call last):\n",
      "  File \"/usr/lib/python3.10/threading.py\", line 1016, in _bootstrap_inner\n",
      "    self.run()\n",
      "  File \"/home/axten/.local/lib/python3.10/site-packages/ipykernel/ipkernel.py\", line 766, in run_closure\n",
      "    _threading_Thread_run(self)\n",
      "  File \"/usr/lib/python3.10/threading.py\", line 953, in run\n",
      "    self._target(*self._args, **self._kwargs)\n",
      "  File \"/mnt/nvme1n1p3/Documents/Codes/Python/ICON-23-24-EDH/src/grimoire.py\", line 245, in handle_cards\n",
      "    decks.find(decks_to_fetch, deck_id).add_commander(card)\n",
      "AttributeError: 'NoneType' object has no attribute 'add_commander'\n"
     ]
    },
    {
     "name": "stdout",
     "output_type": "stream",
     "text": [
      "Salvate 96 carte in Kynaios and Tyrio Draw.pkl da Archidekt - 35.9 kB\n"
     ]
    },
    {
     "name": "stderr",
     "output_type": "stream",
     "text": [
      "Exception in thread Thread-11290 (handle_cards):\n",
      "Traceback (most recent call last):\n",
      "  File \"/usr/lib/python3.10/threading.py\", line 1016, in _bootstrap_inner\n",
      "    self.run()\n",
      "  File \"/home/axten/.local/lib/python3.10/site-packages/ipykernel/ipkernel.py\", line 766, in run_closure\n",
      "    _threading_Thread_run(self)\n",
      "  File \"/usr/lib/python3.10/threading.py\", line 953, in run\n",
      "    self._target(*self._args, **self._kwargs)\n",
      "  File \"/mnt/nvme1n1p3/Documents/Codes/Python/ICON-23-24-EDH/src/grimoire.py\", line 245, in handle_cards\n",
      "    decks.find(decks_to_fetch, deck_id).add_commander(card)\n",
      "AttributeError: 'NoneType' object has no attribute 'add_commander'\n"
     ]
    },
    {
     "name": "stdout",
     "output_type": "stream",
     "text": [
      "Salvate 103 carte in Firkraag, Cunning Instigator.pkl da Archidekt - 32.66 kB\n",
      "Non riesco ad aggiungere altre carte, procedo oltre                \n",
      "Non riesco ad aggiungere altre carte, procedo oltre                \n",
      "Carico le carte dal grimorio di Hinata, Dawned Crown Upping the Average\n",
      "Carico le carte dal grimorio di Double Dice Wyll\n",
      "Carico le carte dal grimorio di Queza Lifegain\n",
      "Carico le carte dal grimorio di Wyll of the Dice\n",
      "Carico le carte dal grimorio di Everything is everything\n",
      "Carico le carte dal grimorio di Jhoira\n",
      "Carico le carte dal grimorio di Yennet, Cryptic Sovereign\n",
      "Carico le carte dal grimorio di Arcade's Walls\n",
      "Carico le carte dal grimorio di Phenax Mill\n",
      "Carico le carte dal grimorio di Mill\n",
      "Carico le carte dal grimorio di Anowon Rogues\n",
      "Carico le carte dal grimorio di Wolves\n",
      "Carico le carte dal grimorio di Riku Hybrid\n",
      "Carico le carte dal grimorio di Brago Blink\n",
      "Non riesco ad aggiungere altre carte, procedo oltre                \n",
      "Non riesco ad aggiungere altre carte, procedo oltre                \n",
      "Non riesco ad aggiungere altre carte, procedo oltre                \n",
      "Non riesco ad aggiungere altre carte, procedo oltre                \n",
      "Carico le carte dal grimorio di Urza\n",
      "Non riesco ad aggiungere altre carte, procedo oltre                \n",
      "Non riesco ad aggiungere altre carte, procedo oltre                \n",
      "Non riesco ad aggiungere altre carte, procedo oltre                \n",
      "Non riesco ad aggiungere altre carte, procedo oltre                \n",
      "Non riesco ad aggiungere altre carte, procedo oltre                \n",
      "Carico le carte dal grimorio di Plunderin' wit' me crew\n",
      "Carico le carte dal grimorio di Copy of - Sauron, the Dark Lord (Wheels)\n",
      "Carico le carte dal grimorio di Orzhov Lifegain\n",
      "Carico le carte dal grimorio di Titania, Nature's Force\n",
      "Carico le carte dal grimorio di Sunny-D\n"
     ]
    },
    {
     "name": "stderr",
     "output_type": "stream",
     "text": [
      "Exception in thread Thread-11338 (handle_cards):\n",
      "Traceback (most recent call last):\n",
      "  File \"/usr/lib/python3.10/threading.py\", line 1016, in _bootstrap_inner\n",
      "    self.run()\n",
      "  File \"/home/axten/.local/lib/python3.10/site-packages/ipykernel/ipkernel.py\", line 766, in run_closure\n",
      "    _threading_Thread_run(self)\n",
      "  File \"/usr/lib/python3.10/threading.py\", line 953, in run\n",
      "    self._target(*self._args, **self._kwargs)\n",
      "  File \"/mnt/nvme1n1p3/Documents/Codes/Python/ICON-23-24-EDH/src/grimoire.py\", line 245, in handle_cards\n",
      "    decks.find(decks_to_fetch, deck_id).add_commander(card)\n",
      "AttributeError: 'NoneType' object has no attribute 'add_commander'\n"
     ]
    },
    {
     "name": "stdout",
     "output_type": "stream",
     "text": [
      "Salvate 1 carte in Pearl Ear.pkl da Archidekt - 0.56 kB\n"
     ]
    },
    {
     "name": "stderr",
     "output_type": "stream",
     "text": [
      "Exception in thread Thread-11342 (handle_cards):\n",
      "Traceback (most recent call last):\n",
      "  File \"/usr/lib/python3.10/threading.py\", line 1016, in _bootstrap_inner\n",
      "    self.run()\n",
      "  File \"/home/axten/.local/lib/python3.10/site-packages/ipykernel/ipkernel.py\", line 766, in run_closure\n",
      "    _threading_Thread_run(self)\n",
      "  File \"/usr/lib/python3.10/threading.py\", line 953, in run\n",
      "    self._target(*self._args, **self._kwargs)\n",
      "  File \"/mnt/nvme1n1p3/Documents/Codes/Python/ICON-23-24-EDH/src/grimoire.py\", line 245, in handle_cards\n",
      "    decks.find(decks_to_fetch, deck_id).add_commander(card)\n",
      "AttributeError: 'NoneType' object has no attribute 'add_commander'\n"
     ]
    },
    {
     "name": "stdout",
     "output_type": "stream",
     "text": [
      "Salvate 1 carte in raise da dead.pkl da Archidekt - 0.76 kB\n",
      "Carico le carte dal grimorio di scheming eternally\n",
      "Salvate 70 carte in Zoyowa.pkl da Archidekt - 25.79 kB\n",
      "Carico le carte dal grimorio di Monke\n",
      "Carico le carte dal grimorio di Sheoldred\n",
      "Carico le carte dal grimorio di Jaeger Miirym\n",
      "Carico le carte dal grimorio di Copy of - From the Brim to the Trim - Splitting Budgets and Overwhelming Opponents Alike - Delina, Mistress of Mirrors\n",
      "Carico le carte dal grimorio di Delina, Wild Mage\n"
     ]
    },
    {
     "name": "stderr",
     "output_type": "stream",
     "text": [
      "Exception in thread Thread-11350 (handle_cards):\n",
      "Traceback (most recent call last):\n",
      "  File \"/usr/lib/python3.10/threading.py\", line 1016, in _bootstrap_inner\n",
      "    self.run()\n",
      "  File \"/home/axten/.local/lib/python3.10/site-packages/ipykernel/ipkernel.py\", line 766, in run_closure\n",
      "    _threading_Thread_run(self)\n",
      "  File \"/usr/lib/python3.10/threading.py\", line 953, in run\n",
      "    self._target(*self._args, **self._kwargs)\n",
      "  File \"/mnt/nvme1n1p3/Documents/Codes/Python/ICON-23-24-EDH/src/grimoire.py\", line 245, in handle_cards\n",
      "    decks.find(decks_to_fetch, deck_id).add_commander(card)\n",
      "AttributeError: 'NoneType' object has no attribute 'add_commander'\n"
     ]
    },
    {
     "name": "stdout",
     "output_type": "stream",
     "text": [
      "Salvate 20 carte in JK.pkl da Archidekt - 7.31 kB\n",
      "Salvate 84 carte in Adrix and Nev, Twincasters.pkl da Archidekt - 30.78 kB\n",
      "Carico le carte dal grimorio di Kodama Soultender\n",
      "Carico le carte dal grimorio di Erebos\n",
      "Carico le carte dal grimorio di Enemy of the Doctor\n",
      "Carico le carte dal grimorio di Dino Omelettes\n",
      "Carico le carte dal grimorio di Prime Numbers\n",
      "Carico le carte dal grimorio di Steel Bananas\n",
      "Carico le carte dal grimorio di Say Something Nice\n",
      "Carico le carte dal grimorio di Rockstar Scientist\n",
      "Carico le carte dal grimorio di Dagrons\n",
      "Carico le carte dal grimorio di The White Wizard's Warehouse\n"
     ]
    },
    {
     "name": "stderr",
     "output_type": "stream",
     "text": [
      "Exception in thread Thread-11358 (handle_cards):\n",
      "Traceback (most recent call last):\n",
      "  File \"/usr/lib/python3.10/threading.py\", line 1016, in _bootstrap_inner\n",
      "    self.run()\n",
      "  File \"/home/axten/.local/lib/python3.10/site-packages/ipykernel/ipkernel.py\", line 766, in run_closure\n",
      "    _threading_Thread_run(self)\n",
      "  File \"/usr/lib/python3.10/threading.py\", line 953, in run\n",
      "    self._target(*self._args, **self._kwargs)\n",
      "  File \"/mnt/nvme1n1p3/Documents/Codes/Python/ICON-23-24-EDH/src/grimoire.py\", line 245, in handle_cards\n",
      "    decks.find(decks_to_fetch, deck_id).add_commander(card)\n",
      "AttributeError: 'NoneType' object has no attribute 'add_commander'\n"
     ]
    },
    {
     "name": "stdout",
     "output_type": "stream",
     "text": [
      "Salvate 81 carte in Solve for X.pkl da Archidekt - 27.92 kB\n",
      "Non riesco ad aggiungere altre carte, procedo oltre                \n",
      "Non riesco ad aggiungere altre carte, procedo oltre                \n",
      "Non riesco ad aggiungere altre carte, procedo oltre                \n",
      "Non riesco ad aggiungere altre carte, procedo oltre                \n",
      "Non riesco ad aggiungere altre carte, procedo oltre                \n",
      "Non riesco ad aggiungere altre carte, procedo oltre                \n",
      "Non riesco ad aggiungere altre carte, procedo oltre                \n",
      "Non riesco ad aggiungere altre carte, procedo oltre                \n",
      "Carico le carte dal grimorio di The Will to Live\n",
      "Carico le carte dal grimorio di Sure You Ken\n",
      "Carico le carte dal grimorio di Information Society\n",
      "Carico le carte dal grimorio di The Auntie Blythe Equation\n",
      "Carico le carte dal grimorio di Button Mashing\n",
      "Carico le carte dal grimorio di Bad Wolf\n",
      "Carico le carte dal grimorio di Catch a Riiiiiide!!\n",
      "Carico le carte dal grimorio di It was right there\n",
      "Carico le carte dal grimorio di Not the Turtle\n",
      "Carico le carte dal grimorio di The Creed\n",
      "Carico le carte dal grimorio di By Twos\n",
      "Carico le carte dal grimorio di That Makes it Alright then\n",
      "Non riesco ad aggiungere altre carte, procedo oltre                \n",
      "Non riesco ad aggiungere altre carte, procedo oltre                \n",
      "Non riesco ad aggiungere altre carte, procedo oltre                \n",
      "Non riesco ad aggiungere altre carte, procedo oltre                \n",
      "Salvate 83 carte in Frontier Kinkos.pkl da Archidekt - 30.19 kB\n"
     ]
    },
    {
     "name": "stderr",
     "output_type": "stream",
     "text": [
      "Exception in thread Thread-11414 (handle_cards):\n",
      "Traceback (most recent call last):\n",
      "  File \"/usr/lib/python3.10/threading.py\", line 1016, in _bootstrap_inner\n",
      "    self.run()\n",
      "  File \"/home/axten/.local/lib/python3.10/site-packages/ipykernel/ipkernel.py\", line 766, in run_closure\n",
      "    _threading_Thread_run(self)\n",
      "  File \"/usr/lib/python3.10/threading.py\", line 953, in run\n",
      "    self._target(*self._args, **self._kwargs)\n",
      "  File \"/mnt/nvme1n1p3/Documents/Codes/Python/ICON-23-24-EDH/src/grimoire.py\", line 245, in handle_cards\n",
      "    decks.find(decks_to_fetch, deck_id).add_commander(card)\n",
      "AttributeError: 'NoneType' object has no attribute 'add_commander'\n"
     ]
    },
    {
     "name": "stdout",
     "output_type": "stream",
     "text": [
      "Salvate 5 carte in Crash of Wings.pkl da Archidekt - 2.0 kB\n"
     ]
    },
    {
     "name": "stderr",
     "output_type": "stream",
     "text": [
      "Exception in thread Thread-11418 (handle_cards):\n",
      "Traceback (most recent call last):\n",
      "  File \"/usr/lib/python3.10/threading.py\", line 1016, in _bootstrap_inner\n",
      "    self.run()\n",
      "  File \"/home/axten/.local/lib/python3.10/site-packages/ipykernel/ipkernel.py\", line 766, in run_closure\n",
      "    _threading_Thread_run(self)\n",
      "  File \"/usr/lib/python3.10/threading.py\", line 953, in run\n",
      "    self._target(*self._args, **self._kwargs)\n",
      "  File \"/mnt/nvme1n1p3/Documents/Codes/Python/ICON-23-24-EDH/src/grimoire.py\", line 245, in handle_cards\n",
      "    decks.find(decks_to_fetch, deck_id).add_commander(card)\n",
      "AttributeError: 'NoneType' object has no attribute 'add_commander'\n"
     ]
    },
    {
     "name": "stdout",
     "output_type": "stream",
     "text": [
      "Salvate 3 carte in Doctor in the House.pkl da Archidekt - 1.22 kB\n",
      "Salvate 87 carte in Watch the Birdie!.pkl da Archidekt - 31.23 kB\n",
      "Carico le carte dal grimorio di Noooooo Zombie No Scryyyyyy\n",
      "Carico le carte dal grimorio di Lola Montez\n",
      "Carico le carte dal grimorio di New Capenna Lawn Darts\n",
      "Carico le carte dal grimorio di Peace and Sanity\n",
      "Carico le carte dal grimorio di The Oni Dragon for Me\n",
      "Carico le carte dal grimorio di Silent Deck\n",
      "Carico le carte dal grimorio di I Treasure Your Vote\n",
      "Non riesco ad aggiungere altre carte, procedo oltre                \n",
      "Non riesco ad aggiungere altre carte, procedo oltre                \n",
      "Non riesco ad aggiungere altre carte, procedo oltre                \n",
      "Carico le carte dal grimorio di A Role Play\n",
      "Carico le carte dal grimorio di One! (Three Sir) Three!\n",
      "Carico le carte dal grimorio di Rich Stuff\n",
      "Carico le carte dal grimorio di I'm a Bat Land\n",
      "Carico le carte dal grimorio di The 6 Million Dollar Cat Nightmare Beast\n",
      "Carico le carte dal grimorio di Squeak, Squeaken Squeaketh Squeak\n",
      "Carico le carte dal grimorio di Hail Hydra\n",
      "Non riesco ad aggiungere altre carte, procedo oltre                \n",
      "Carico le carte dal grimorio di Gravewatch\n",
      "Carico le carte dal grimorio di Good for the Goose, Good for the Commander\n",
      "Carico le carte dal grimorio di Hello Sweetie\n",
      "Carico le carte dal grimorio di Angry Robin Hood\n",
      "Carico le carte dal grimorio di A __________ in a Bear Suit\n",
      "Carico le carte dal grimorio di Yo Dawg, I Heard You Like Nazgul\n",
      "Carico le carte dal grimorio di THIS  IS  RAMPAGE!!!\n"
     ]
    }
   ],
   "source": [
    "importlib.reload(grimoire)\n",
    "similar_grimoires = grimoire.fetch_decklist(similar_decks, try_load=True)"
   ]
  },
  {
   "cell_type": "code",
   "execution_count": 38,
   "metadata": {},
   "outputs": [],
   "source": [
    "importlib.reload(grimoire)\n"
   ]
  },
  {
   "cell_type": "code",
   "execution_count": 40,
   "metadata": {},
   "outputs": [
    {
     "ename": "TypeError",
     "evalue": "float() argument must be a string or a real number, not 'dict_values'",
     "output_type": "error",
     "traceback": [
      "\u001b[0;31m---------------------------------------------------------------------------\u001b[0m",
      "\u001b[0;31mTypeError\u001b[0m                                 Traceback (most recent call last)",
      "Cell \u001b[0;32mIn[40], line 9\u001b[0m\n\u001b[1;32m      7\u001b[0m analysis_array \u001b[38;5;241m=\u001b[39m np\u001b[38;5;241m.\u001b[39marray(analysis_array) \n\u001b[1;32m      8\u001b[0m scaler \u001b[38;5;241m=\u001b[39m StandardScaler()\n\u001b[0;32m----> 9\u001b[0m unique_vectors_scaled \u001b[38;5;241m=\u001b[39m \u001b[43mscaler\u001b[49m\u001b[38;5;241;43m.\u001b[39;49m\u001b[43mfit_transform\u001b[49m\u001b[43m(\u001b[49m\u001b[43manalysis_array\u001b[49m\u001b[43m)\u001b[49m\n\u001b[1;32m     11\u001b[0m pca \u001b[38;5;241m=\u001b[39m PCA(n_components\u001b[38;5;241m=\u001b[39m\u001b[38;5;241m2\u001b[39m)  \u001b[38;5;66;03m# Ridurre a 2 componenti principali per la visualizzazione\u001b[39;00m\n\u001b[1;32m     12\u001b[0m pca_result \u001b[38;5;241m=\u001b[39m pca\u001b[38;5;241m.\u001b[39mfit_transform(unique_vectors_scaled)\n",
      "File \u001b[0;32m~/.local/lib/python3.10/site-packages/sklearn/utils/_set_output.py:313\u001b[0m, in \u001b[0;36m_wrap_method_output.<locals>.wrapped\u001b[0;34m(self, X, *args, **kwargs)\u001b[0m\n\u001b[1;32m    311\u001b[0m \u001b[38;5;129m@wraps\u001b[39m(f)\n\u001b[1;32m    312\u001b[0m \u001b[38;5;28;01mdef\u001b[39;00m \u001b[38;5;21mwrapped\u001b[39m(\u001b[38;5;28mself\u001b[39m, X, \u001b[38;5;241m*\u001b[39margs, \u001b[38;5;241m*\u001b[39m\u001b[38;5;241m*\u001b[39mkwargs):\n\u001b[0;32m--> 313\u001b[0m     data_to_wrap \u001b[38;5;241m=\u001b[39m \u001b[43mf\u001b[49m\u001b[43m(\u001b[49m\u001b[38;5;28;43mself\u001b[39;49m\u001b[43m,\u001b[49m\u001b[43m \u001b[49m\u001b[43mX\u001b[49m\u001b[43m,\u001b[49m\u001b[43m \u001b[49m\u001b[38;5;241;43m*\u001b[39;49m\u001b[43margs\u001b[49m\u001b[43m,\u001b[49m\u001b[43m \u001b[49m\u001b[38;5;241;43m*\u001b[39;49m\u001b[38;5;241;43m*\u001b[39;49m\u001b[43mkwargs\u001b[49m\u001b[43m)\u001b[49m\n\u001b[1;32m    314\u001b[0m     \u001b[38;5;28;01mif\u001b[39;00m \u001b[38;5;28misinstance\u001b[39m(data_to_wrap, \u001b[38;5;28mtuple\u001b[39m):\n\u001b[1;32m    315\u001b[0m         \u001b[38;5;66;03m# only wrap the first output for cross decomposition\u001b[39;00m\n\u001b[1;32m    316\u001b[0m         return_tuple \u001b[38;5;241m=\u001b[39m (\n\u001b[1;32m    317\u001b[0m             _wrap_data_with_container(method, data_to_wrap[\u001b[38;5;241m0\u001b[39m], X, \u001b[38;5;28mself\u001b[39m),\n\u001b[1;32m    318\u001b[0m             \u001b[38;5;241m*\u001b[39mdata_to_wrap[\u001b[38;5;241m1\u001b[39m:],\n\u001b[1;32m    319\u001b[0m         )\n",
      "File \u001b[0;32m~/.local/lib/python3.10/site-packages/sklearn/base.py:1098\u001b[0m, in \u001b[0;36mTransformerMixin.fit_transform\u001b[0;34m(self, X, y, **fit_params)\u001b[0m\n\u001b[1;32m   1083\u001b[0m         warnings\u001b[38;5;241m.\u001b[39mwarn(\n\u001b[1;32m   1084\u001b[0m             (\n\u001b[1;32m   1085\u001b[0m                 \u001b[38;5;124mf\u001b[39m\u001b[38;5;124m\"\u001b[39m\u001b[38;5;124mThis object (\u001b[39m\u001b[38;5;132;01m{\u001b[39;00m\u001b[38;5;28mself\u001b[39m\u001b[38;5;241m.\u001b[39m\u001b[38;5;18m__class__\u001b[39m\u001b[38;5;241m.\u001b[39m\u001b[38;5;18m__name__\u001b[39m\u001b[38;5;132;01m}\u001b[39;00m\u001b[38;5;124m) has a `transform`\u001b[39m\u001b[38;5;124m\"\u001b[39m\n\u001b[0;32m   (...)\u001b[0m\n\u001b[1;32m   1093\u001b[0m             \u001b[38;5;167;01mUserWarning\u001b[39;00m,\n\u001b[1;32m   1094\u001b[0m         )\n\u001b[1;32m   1096\u001b[0m \u001b[38;5;28;01mif\u001b[39;00m y \u001b[38;5;129;01mis\u001b[39;00m \u001b[38;5;28;01mNone\u001b[39;00m:\n\u001b[1;32m   1097\u001b[0m     \u001b[38;5;66;03m# fit method of arity 1 (unsupervised transformation)\u001b[39;00m\n\u001b[0;32m-> 1098\u001b[0m     \u001b[38;5;28;01mreturn\u001b[39;00m \u001b[38;5;28;43mself\u001b[39;49m\u001b[38;5;241;43m.\u001b[39;49m\u001b[43mfit\u001b[49m\u001b[43m(\u001b[49m\u001b[43mX\u001b[49m\u001b[43m,\u001b[49m\u001b[43m \u001b[49m\u001b[38;5;241;43m*\u001b[39;49m\u001b[38;5;241;43m*\u001b[39;49m\u001b[43mfit_params\u001b[49m\u001b[43m)\u001b[49m\u001b[38;5;241m.\u001b[39mtransform(X)\n\u001b[1;32m   1099\u001b[0m \u001b[38;5;28;01melse\u001b[39;00m:\n\u001b[1;32m   1100\u001b[0m     \u001b[38;5;66;03m# fit method of arity 2 (supervised transformation)\u001b[39;00m\n\u001b[1;32m   1101\u001b[0m     \u001b[38;5;28;01mreturn\u001b[39;00m \u001b[38;5;28mself\u001b[39m\u001b[38;5;241m.\u001b[39mfit(X, y, \u001b[38;5;241m*\u001b[39m\u001b[38;5;241m*\u001b[39mfit_params)\u001b[38;5;241m.\u001b[39mtransform(X)\n",
      "File \u001b[0;32m~/.local/lib/python3.10/site-packages/sklearn/preprocessing/_data.py:878\u001b[0m, in \u001b[0;36mStandardScaler.fit\u001b[0;34m(self, X, y, sample_weight)\u001b[0m\n\u001b[1;32m    876\u001b[0m \u001b[38;5;66;03m# Reset internal state before fitting\u001b[39;00m\n\u001b[1;32m    877\u001b[0m \u001b[38;5;28mself\u001b[39m\u001b[38;5;241m.\u001b[39m_reset()\n\u001b[0;32m--> 878\u001b[0m \u001b[38;5;28;01mreturn\u001b[39;00m \u001b[38;5;28;43mself\u001b[39;49m\u001b[38;5;241;43m.\u001b[39;49m\u001b[43mpartial_fit\u001b[49m\u001b[43m(\u001b[49m\u001b[43mX\u001b[49m\u001b[43m,\u001b[49m\u001b[43m \u001b[49m\u001b[43my\u001b[49m\u001b[43m,\u001b[49m\u001b[43m \u001b[49m\u001b[43msample_weight\u001b[49m\u001b[43m)\u001b[49m\n",
      "File \u001b[0;32m~/.local/lib/python3.10/site-packages/sklearn/base.py:1473\u001b[0m, in \u001b[0;36m_fit_context.<locals>.decorator.<locals>.wrapper\u001b[0;34m(estimator, *args, **kwargs)\u001b[0m\n\u001b[1;32m   1466\u001b[0m     estimator\u001b[38;5;241m.\u001b[39m_validate_params()\n\u001b[1;32m   1468\u001b[0m \u001b[38;5;28;01mwith\u001b[39;00m config_context(\n\u001b[1;32m   1469\u001b[0m     skip_parameter_validation\u001b[38;5;241m=\u001b[39m(\n\u001b[1;32m   1470\u001b[0m         prefer_skip_nested_validation \u001b[38;5;129;01mor\u001b[39;00m global_skip_validation\n\u001b[1;32m   1471\u001b[0m     )\n\u001b[1;32m   1472\u001b[0m ):\n\u001b[0;32m-> 1473\u001b[0m     \u001b[38;5;28;01mreturn\u001b[39;00m \u001b[43mfit_method\u001b[49m\u001b[43m(\u001b[49m\u001b[43mestimator\u001b[49m\u001b[43m,\u001b[49m\u001b[43m \u001b[49m\u001b[38;5;241;43m*\u001b[39;49m\u001b[43margs\u001b[49m\u001b[43m,\u001b[49m\u001b[43m \u001b[49m\u001b[38;5;241;43m*\u001b[39;49m\u001b[38;5;241;43m*\u001b[39;49m\u001b[43mkwargs\u001b[49m\u001b[43m)\u001b[49m\n",
      "File \u001b[0;32m~/.local/lib/python3.10/site-packages/sklearn/preprocessing/_data.py:914\u001b[0m, in \u001b[0;36mStandardScaler.partial_fit\u001b[0;34m(self, X, y, sample_weight)\u001b[0m\n\u001b[1;32m    882\u001b[0m \u001b[38;5;250m\u001b[39m\u001b[38;5;124;03m\"\"\"Online computation of mean and std on X for later scaling.\u001b[39;00m\n\u001b[1;32m    883\u001b[0m \n\u001b[1;32m    884\u001b[0m \u001b[38;5;124;03mAll of X is processed as a single batch. This is intended for cases\u001b[39;00m\n\u001b[0;32m   (...)\u001b[0m\n\u001b[1;32m    911\u001b[0m \u001b[38;5;124;03m    Fitted scaler.\u001b[39;00m\n\u001b[1;32m    912\u001b[0m \u001b[38;5;124;03m\"\"\"\u001b[39;00m\n\u001b[1;32m    913\u001b[0m first_call \u001b[38;5;241m=\u001b[39m \u001b[38;5;129;01mnot\u001b[39;00m \u001b[38;5;28mhasattr\u001b[39m(\u001b[38;5;28mself\u001b[39m, \u001b[38;5;124m\"\u001b[39m\u001b[38;5;124mn_samples_seen_\u001b[39m\u001b[38;5;124m\"\u001b[39m)\n\u001b[0;32m--> 914\u001b[0m X \u001b[38;5;241m=\u001b[39m \u001b[38;5;28;43mself\u001b[39;49m\u001b[38;5;241;43m.\u001b[39;49m\u001b[43m_validate_data\u001b[49m\u001b[43m(\u001b[49m\n\u001b[1;32m    915\u001b[0m \u001b[43m    \u001b[49m\u001b[43mX\u001b[49m\u001b[43m,\u001b[49m\n\u001b[1;32m    916\u001b[0m \u001b[43m    \u001b[49m\u001b[43maccept_sparse\u001b[49m\u001b[38;5;241;43m=\u001b[39;49m\u001b[43m(\u001b[49m\u001b[38;5;124;43m\"\u001b[39;49m\u001b[38;5;124;43mcsr\u001b[39;49m\u001b[38;5;124;43m\"\u001b[39;49m\u001b[43m,\u001b[49m\u001b[43m \u001b[49m\u001b[38;5;124;43m\"\u001b[39;49m\u001b[38;5;124;43mcsc\u001b[39;49m\u001b[38;5;124;43m\"\u001b[39;49m\u001b[43m)\u001b[49m\u001b[43m,\u001b[49m\n\u001b[1;32m    917\u001b[0m \u001b[43m    \u001b[49m\u001b[43mdtype\u001b[49m\u001b[38;5;241;43m=\u001b[39;49m\u001b[43mFLOAT_DTYPES\u001b[49m\u001b[43m,\u001b[49m\n\u001b[1;32m    918\u001b[0m \u001b[43m    \u001b[49m\u001b[43mforce_all_finite\u001b[49m\u001b[38;5;241;43m=\u001b[39;49m\u001b[38;5;124;43m\"\u001b[39;49m\u001b[38;5;124;43mallow-nan\u001b[39;49m\u001b[38;5;124;43m\"\u001b[39;49m\u001b[43m,\u001b[49m\n\u001b[1;32m    919\u001b[0m \u001b[43m    \u001b[49m\u001b[43mreset\u001b[49m\u001b[38;5;241;43m=\u001b[39;49m\u001b[43mfirst_call\u001b[49m\u001b[43m,\u001b[49m\n\u001b[1;32m    920\u001b[0m \u001b[43m\u001b[49m\u001b[43m)\u001b[49m\n\u001b[1;32m    921\u001b[0m n_features \u001b[38;5;241m=\u001b[39m X\u001b[38;5;241m.\u001b[39mshape[\u001b[38;5;241m1\u001b[39m]\n\u001b[1;32m    923\u001b[0m \u001b[38;5;28;01mif\u001b[39;00m sample_weight \u001b[38;5;129;01mis\u001b[39;00m \u001b[38;5;129;01mnot\u001b[39;00m \u001b[38;5;28;01mNone\u001b[39;00m:\n",
      "File \u001b[0;32m~/.local/lib/python3.10/site-packages/sklearn/base.py:633\u001b[0m, in \u001b[0;36mBaseEstimator._validate_data\u001b[0;34m(self, X, y, reset, validate_separately, cast_to_ndarray, **check_params)\u001b[0m\n\u001b[1;32m    631\u001b[0m         out \u001b[38;5;241m=\u001b[39m X, y\n\u001b[1;32m    632\u001b[0m \u001b[38;5;28;01melif\u001b[39;00m \u001b[38;5;129;01mnot\u001b[39;00m no_val_X \u001b[38;5;129;01mand\u001b[39;00m no_val_y:\n\u001b[0;32m--> 633\u001b[0m     out \u001b[38;5;241m=\u001b[39m \u001b[43mcheck_array\u001b[49m\u001b[43m(\u001b[49m\u001b[43mX\u001b[49m\u001b[43m,\u001b[49m\u001b[43m \u001b[49m\u001b[43minput_name\u001b[49m\u001b[38;5;241;43m=\u001b[39;49m\u001b[38;5;124;43m\"\u001b[39;49m\u001b[38;5;124;43mX\u001b[39;49m\u001b[38;5;124;43m\"\u001b[39;49m\u001b[43m,\u001b[49m\u001b[43m \u001b[49m\u001b[38;5;241;43m*\u001b[39;49m\u001b[38;5;241;43m*\u001b[39;49m\u001b[43mcheck_params\u001b[49m\u001b[43m)\u001b[49m\n\u001b[1;32m    634\u001b[0m \u001b[38;5;28;01melif\u001b[39;00m no_val_X \u001b[38;5;129;01mand\u001b[39;00m \u001b[38;5;129;01mnot\u001b[39;00m no_val_y:\n\u001b[1;32m    635\u001b[0m     out \u001b[38;5;241m=\u001b[39m _check_y(y, \u001b[38;5;241m*\u001b[39m\u001b[38;5;241m*\u001b[39mcheck_params)\n",
      "File \u001b[0;32m~/.local/lib/python3.10/site-packages/sklearn/utils/validation.py:1012\u001b[0m, in \u001b[0;36mcheck_array\u001b[0;34m(array, accept_sparse, accept_large_sparse, dtype, order, copy, force_writeable, force_all_finite, ensure_2d, allow_nd, ensure_min_samples, ensure_min_features, estimator, input_name)\u001b[0m\n\u001b[1;32m   1010\u001b[0m         array \u001b[38;5;241m=\u001b[39m xp\u001b[38;5;241m.\u001b[39mastype(array, dtype, copy\u001b[38;5;241m=\u001b[39m\u001b[38;5;28;01mFalse\u001b[39;00m)\n\u001b[1;32m   1011\u001b[0m     \u001b[38;5;28;01melse\u001b[39;00m:\n\u001b[0;32m-> 1012\u001b[0m         array \u001b[38;5;241m=\u001b[39m \u001b[43m_asarray_with_order\u001b[49m\u001b[43m(\u001b[49m\u001b[43marray\u001b[49m\u001b[43m,\u001b[49m\u001b[43m \u001b[49m\u001b[43morder\u001b[49m\u001b[38;5;241;43m=\u001b[39;49m\u001b[43morder\u001b[49m\u001b[43m,\u001b[49m\u001b[43m \u001b[49m\u001b[43mdtype\u001b[49m\u001b[38;5;241;43m=\u001b[39;49m\u001b[43mdtype\u001b[49m\u001b[43m,\u001b[49m\u001b[43m \u001b[49m\u001b[43mxp\u001b[49m\u001b[38;5;241;43m=\u001b[39;49m\u001b[43mxp\u001b[49m\u001b[43m)\u001b[49m\n\u001b[1;32m   1013\u001b[0m \u001b[38;5;28;01mexcept\u001b[39;00m ComplexWarning \u001b[38;5;28;01mas\u001b[39;00m complex_warning:\n\u001b[1;32m   1014\u001b[0m     \u001b[38;5;28;01mraise\u001b[39;00m \u001b[38;5;167;01mValueError\u001b[39;00m(\n\u001b[1;32m   1015\u001b[0m         \u001b[38;5;124m\"\u001b[39m\u001b[38;5;124mComplex data not supported\u001b[39m\u001b[38;5;130;01m\\n\u001b[39;00m\u001b[38;5;132;01m{}\u001b[39;00m\u001b[38;5;130;01m\\n\u001b[39;00m\u001b[38;5;124m\"\u001b[39m\u001b[38;5;241m.\u001b[39mformat(array)\n\u001b[1;32m   1016\u001b[0m     ) \u001b[38;5;28;01mfrom\u001b[39;00m \u001b[38;5;21;01mcomplex_warning\u001b[39;00m\n",
      "File \u001b[0;32m~/.local/lib/python3.10/site-packages/sklearn/utils/_array_api.py:751\u001b[0m, in \u001b[0;36m_asarray_with_order\u001b[0;34m(array, dtype, order, copy, xp, device)\u001b[0m\n\u001b[1;32m    749\u001b[0m     array \u001b[38;5;241m=\u001b[39m numpy\u001b[38;5;241m.\u001b[39marray(array, order\u001b[38;5;241m=\u001b[39morder, dtype\u001b[38;5;241m=\u001b[39mdtype)\n\u001b[1;32m    750\u001b[0m \u001b[38;5;28;01melse\u001b[39;00m:\n\u001b[0;32m--> 751\u001b[0m     array \u001b[38;5;241m=\u001b[39m \u001b[43mnumpy\u001b[49m\u001b[38;5;241;43m.\u001b[39;49m\u001b[43masarray\u001b[49m\u001b[43m(\u001b[49m\u001b[43marray\u001b[49m\u001b[43m,\u001b[49m\u001b[43m \u001b[49m\u001b[43morder\u001b[49m\u001b[38;5;241;43m=\u001b[39;49m\u001b[43morder\u001b[49m\u001b[43m,\u001b[49m\u001b[43m \u001b[49m\u001b[43mdtype\u001b[49m\u001b[38;5;241;43m=\u001b[39;49m\u001b[43mdtype\u001b[49m\u001b[43m)\u001b[49m\n\u001b[1;32m    753\u001b[0m \u001b[38;5;66;03m# At this point array is a NumPy ndarray. We convert it to an array\u001b[39;00m\n\u001b[1;32m    754\u001b[0m \u001b[38;5;66;03m# container that is consistent with the input's namespace.\u001b[39;00m\n\u001b[1;32m    755\u001b[0m \u001b[38;5;28;01mreturn\u001b[39;00m xp\u001b[38;5;241m.\u001b[39masarray(array)\n",
      "\u001b[0;31mTypeError\u001b[0m: float() argument must be a string or a real number, not 'dict_values'"
     ]
    }
   ],
   "source": [
    "from scipy import stats\n",
    "import numpy as np\n",
    "from sklearn.decomposition import PCA\n",
    "from sklearn.preprocessing import StandardScaler\n",
    "import matplotlib.pyplot as plt\n",
    "\n",
    "deck_ids, analysis_array = similar_grimoires.analyze(Pooling.MIN)\n",
    "analysis_array = np.array(analysis_array) \n",
    "scaler = StandardScaler()\n",
    "unique_vectors_scaled = scaler.fit_transform(analysis_array)\n",
    "\n",
    "pca = PCA(n_components=7)\n",
    "pca_result = pca.fit_transform(unique_vectors_scaled)\n",
    "\n",
    "# Step 1: Calcolo del centroide per ogni componente dei vettori nei deck_aggregates\n",
    "mode_vector = stats.mode(analysis_array, axis=0)[0][0]\n",
    "\n",
    "# Step 2: Trova il mazzo con la minima distanza dal centroide\n",
    "def find_closest_deck(analysis_array, mode_vector):\n",
    "    distances = np.linalg.norm(analysis_array - mode_vector, axis=1)\n",
    "    closest_index = np.argmin(distances)\n",
    "    return closest_index, distances[closest_index]\n",
    "\n",
    "# Trova il mazzo più vicino al centroide\n",
    "closest_deck_index, closest_distance = find_closest_deck(analysis_array, mode_vector)\n",
    "\n",
    "print(f\"The deck closest to the mode has an index of {closest_deck_index} with a distance of {closest_distance}.\")\n",
    "closest_grimoire = list(grimoire.split(similar_grimoires).values())[closest_deck_index]\n"
   ]
  },
  {
   "cell_type": "code",
   "execution_count": null,
   "metadata": {},
   "outputs": [],
   "source": [
    "print(closest_grimoire)"
   ]
  }
 ],
 "metadata": {
  "kernelspec": {
   "display_name": "Python 3",
   "language": "python",
   "name": "python3"
  },
  "language_info": {
   "codemirror_mode": {
    "name": "ipython",
    "version": 3
   },
   "file_extension": ".py",
   "mimetype": "text/x-python",
   "name": "python",
   "nbconvert_exporter": "python",
   "pygments_lexer": "ipython3",
   "version": "3.10.12"
  }
 },
 "nbformat": 4,
 "nbformat_minor": 2
}
